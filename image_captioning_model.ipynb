{
  "nbformat": 4,
  "nbformat_minor": 0,
  "metadata": {
    "colab": {
      "name": "Untitled",
      "provenance": [],
      "collapsed_sections": []
    },
    "kernelspec": {
      "name": "python3",
      "display_name": "Python 3"
    },
    "accelerator": "GPU"
  },
  "cells": [
    {
      "cell_type": "code",
      "metadata": {
        "id": "qT0L1KayjlIx",
        "outputId": "72a3284d-e16e-4951-95e0-414fbd589f11",
        "colab": {
          "base_uri": "https://localhost:8080/",
          "height": 36
        }
      },
      "source": [
        "### MOUNT GOOGLE DRIVE\n",
        "from google.colab import drive\n",
        "drive.mount('/content/gdrive')"
      ],
      "execution_count": null,
      "outputs": [
        {
          "output_type": "stream",
          "text": [
            "Mounted at /content/gdrive\n"
          ],
          "name": "stdout"
        }
      ]
    },
    {
      "cell_type": "code",
      "metadata": {
        "id": "fQyY8nGakkBm"
      },
      "source": [
        "### IMPORT LIBRARIES\n",
        "import os\n",
        "import string\n",
        "import glob\n",
        "import json\n",
        "from tensorflow.keras.applications import MobileNet\n",
        "import tensorflow.keras.applications.mobilenet  \n",
        "import tensorflow as tf\n",
        "from tensorflow.keras.applications.inception_v3 import InceptionV3\n",
        "import tensorflow.keras.applications.inception_v3\n",
        "\n",
        "import collections\n",
        "\n",
        "from tqdm import tqdm\n",
        "import tensorflow.keras.preprocessing.image\n",
        "import pickle\n",
        "from time import time\n",
        "import numpy as np\n",
        "from PIL import Image\n",
        "from tensorflow.keras.models import Sequential\n",
        "from tensorflow.keras.layers import (LSTM, Embedding, \n",
        "    TimeDistributed, Dense, RepeatVector, \n",
        "    Activation, Flatten, Reshape, concatenate,  \n",
        "    Dropout, BatchNormalization)\n",
        "from tensorflow.keras.optimizers import Adam, RMSprop\n",
        "from tensorflow.keras import Input, layers\n",
        "from tensorflow.keras import optimizers\n",
        "\n",
        "from tensorflow.keras.models import Model\n",
        "\n",
        "from tensorflow.keras.layers import add\n",
        "from tensorflow.keras.preprocessing.sequence import pad_sequences\n",
        "from tensorflow.keras.utils import to_categorical\n",
        "import matplotlib.pyplot as plt\n",
        "\n",
        "START = \"startseq\"\n",
        "STOP = \"endseq\"\n",
        "EPOCHS = 50"
      ],
      "execution_count": null,
      "outputs": []
    },
    {
      "cell_type": "code",
      "metadata": {
        "id": "TBLDHiUijMlO"
      },
      "source": [
        "### IMPORT MS-COCO ANNOTATIONS AND GLOVE6B"
      ],
      "execution_count": null,
      "outputs": []
    },
    {
      "cell_type": "code",
      "metadata": {
        "id": "7FoaiGebjeHX",
        "outputId": "7b3f2418-d5b7-4c0e-dff9-8b55bc296986",
        "colab": {
          "base_uri": "https://localhost:8080/",
          "height": 54
        }
      },
      "source": [
        "# Download caption annotation files\n",
        "annotation_folder = '/annotations/'\n",
        "if not os.path.exists(os.path.abspath('.') + annotation_folder):\n",
        "  annotation_zip = tf.keras.utils.get_file('captions.zip',\n",
        "                                          cache_subdir=os.path.abspath('.'),\n",
        "                                          origin = 'http://images.cocodataset.org/annotations/annotations_trainval2014.zip',\n",
        "                                          extract = True)\n",
        "  annotation_file = os.path.dirname(annotation_zip)+'/annotations/captions_train2014.json'\n",
        "  os.remove(annotation_zip)"
      ],
      "execution_count": null,
      "outputs": [
        {
          "output_type": "stream",
          "text": [
            "Downloading data from http://images.cocodataset.org/annotations/annotations_trainval2014.zip\n",
            "252878848/252872794 [==============================] - 17s 0us/step\n"
          ],
          "name": "stdout"
        }
      ]
    },
    {
      "cell_type": "code",
      "metadata": {
        "id": "808mFBiNjyHs",
        "outputId": "d4d42d75-5c6e-4104-c895-e46f78964c25",
        "colab": {
          "base_uri": "https://localhost:8080/",
          "height": 54
        }
      },
      "source": [
        "# Download glove6B\n",
        "glove_zip = tf.keras.utils.get_file('glove6B.zip',\n",
        "                                      cache_subdir=os.path.abspath('.'),\n",
        "                                      origin = 'http://nlp.stanford.edu/data/glove.6B.zip',\n",
        "                                      extract = True)\n",
        "os.remove(glove_zip)"
      ],
      "execution_count": null,
      "outputs": [
        {
          "output_type": "stream",
          "text": [
            "Downloading data from http://nlp.stanford.edu/data/glove.6B.zip\n",
            "862183424/862182613 [==============================] - 391s 0us/step\n"
          ],
          "name": "stdout"
        }
      ]
    },
    {
      "cell_type": "markdown",
      "metadata": {
        "id": "uutcfVmLrRR3"
      },
      "source": [
        "### IMPORT MS-COCO IMAGES DATASET"
      ]
    },
    {
      "cell_type": "code",
      "metadata": {
        "id": "94ezrMjHrQDI",
        "outputId": "ef7cdbf9-6595-40db-8ca7-c8460005c62a",
        "colab": {
          "base_uri": "https://localhost:8080/",
          "height": 54
        }
      },
      "source": [
        "# Download image files\n",
        "image_folder = '/train2014/'\n",
        "if not os.path.exists(os.path.abspath('.') + image_folder):\n",
        "  image_zip = tf.keras.utils.get_file('train2014.zip',\n",
        "                                      cache_subdir=os.path.abspath('.'),\n",
        "                                      origin = 'http://images.cocodataset.org/zips/train2014.zip',\n",
        "                                      extract = True)\n",
        "  PATH = os.path.dirname(image_zip) + image_folder\n",
        "  os.remove(image_zip)\n",
        "else:\n",
        "  PATH = os.path.abspath('.') + image_folder"
      ],
      "execution_count": null,
      "outputs": [
        {
          "output_type": "stream",
          "text": [
            "Downloading data from http://images.cocodataset.org/zips/train2014.zip\n",
            "13510574080/13510573713 [==============================] - 809s 0us/step\n"
          ],
          "name": "stdout"
        }
      ]
    },
    {
      "cell_type": "markdown",
      "metadata": {
        "id": "f0Z-z3ckr1jC"
      },
      "source": [
        "### Create dictionary of images with associated captions, create vocab.txt out of captions"
      ]
    },
    {
      "cell_type": "code",
      "metadata": {
        "id": "AzXU2I8ulCCr"
      },
      "source": [
        "annotation_file = 'annotations/captions_train2014.json'\n",
        "with open(annotation_file, 'r') as f:\n",
        "    annotations = json.load(f)"
      ],
      "execution_count": null,
      "outputs": []
    },
    {
      "cell_type": "code",
      "metadata": {
        "id": "IxMnG_rzlF0h"
      },
      "source": [
        "# Group all captions together having the same image ID, and count words in each caption\n",
        "image_path_to_caption = collections.defaultdict(list)\n",
        "word_counts = {}\n",
        "for val in annotations['annotations']:\n",
        "  caption = f\"startseq {val['caption']} endseq\"\n",
        "  for w in caption.split(' '):\n",
        "    word_counts[w] = word_counts.get(w, 0) + 1\n",
        "  image_path = PATH + 'COCO_train2014_' + '%012d.jpg' % (val['image_id'])\n",
        "  image_path_to_caption[image_path].append(caption)"
      ],
      "execution_count": null,
      "outputs": []
    },
    {
      "cell_type": "code",
      "metadata": {
        "id": "d2jAI5lhlVgU",
        "outputId": "4565ff49-f999-47ce-8385-91e990163bf2",
        "colab": {
          "base_uri": "https://localhost:8080/",
          "height": 54
        }
      },
      "source": [
        "# Create vocabulary out of ALL captions with word count > threshold\n",
        "word_count_threshold = 50\n",
        "vocab = [w for w in word_counts if word_counts[w] >= word_count_threshold]\n",
        "print('preprocessed words %d ==> %d' % (len(word_counts), len(vocab)))\n",
        "print(vocab[:5])"
      ],
      "execution_count": null,
      "outputs": [
        {
          "output_type": "stream",
          "text": [
            "preprocessed words 45188 ==> 3664\n",
            "['startseq', 'A', 'very', 'clean', 'and']\n"
          ],
          "name": "stdout"
        }
      ]
    },
    {
      "cell_type": "code",
      "metadata": {
        "id": "O4U7BAl5o01t"
      },
      "source": [
        "### SAVING VOCAB FILE FOR DEPLOYMENT\n",
        "with open('/content/gdrive/My Drive/vocab.txt', 'wb') as file:\n",
        "     pickle.dump(vocab, file)"
      ],
      "execution_count": null,
      "outputs": []
    },
    {
      "cell_type": "code",
      "metadata": {
        "id": "PxP-tvegsYcW",
        "outputId": "8a548360-fcb0-4f4e-81f2-c24296de24d8",
        "colab": {
          "base_uri": "https://localhost:8080/",
          "height": 54
        }
      },
      "source": [
        "### SELECT ALL BUT 1000 IMAGE PATHS FOR TRAINING\n",
        "image_paths = list(image_path_to_caption.keys())\n",
        "train_image_paths = image_paths[:-1000]\n",
        "test_image_paths = image_paths[-1000:]\n",
        "print(len(train_image_paths))\n",
        "print(train_image_paths[0])"
      ],
      "execution_count": null,
      "outputs": [
        {
          "output_type": "stream",
          "text": [
            "81783\n",
            "/content/train2014/COCO_train2014_000000318556.jpg\n"
          ],
          "name": "stdout"
        }
      ]
    },
    {
      "cell_type": "code",
      "metadata": {
        "id": "ynQzlox2srLj",
        "outputId": "22fc2a35-fb87-4776-efed-34905fc7ba75",
        "colab": {
          "base_uri": "https://localhost:8080/",
          "height": 54
        }
      },
      "source": [
        "train_captions = []\n",
        "img_name_vector = []\n",
        "\n",
        "for image_path in train_image_paths:\n",
        "  caption_list = image_path_to_caption[image_path]\n",
        "  train_captions.extend(caption_list)\n",
        "  img_name_vector.extend([image_path] * len(caption_list))\n",
        "print(train_captions[0])\n",
        "print(img_name_vector[0])"
      ],
      "execution_count": null,
      "outputs": [
        {
          "output_type": "stream",
          "text": [
            "startseq A very clean and well decorated empty bathroom endseq\n",
            "/content/train2014/COCO_train2014_000000318556.jpg\n"
          ],
          "name": "stdout"
        }
      ]
    },
    {
      "cell_type": "code",
      "metadata": {
        "id": "zX7w4erqswAB",
        "outputId": "088670e6-7088-4901-d032-4f0c0be0537d",
        "colab": {
          "base_uri": "https://localhost:8080/",
          "height": 36
        }
      },
      "source": [
        "img_caption_list = []\n",
        "for tup in list(zip(img_name_vector,train_captions)):\n",
        "  img_caption_list.append(str(tup[0]) + ' ' + str(tup[1]))\n",
        "print(img_caption_list[0])"
      ],
      "execution_count": null,
      "outputs": [
        {
          "output_type": "stream",
          "text": [
            "/content/train2014/COCO_train2014_000000318556.jpg startseq A very clean and well decorated empty bathroom endseq\n"
          ],
          "name": "stdout"
        }
      ]
    },
    {
      "cell_type": "code",
      "metadata": {
        "id": "7AtWZMK9tUOK"
      },
      "source": [
        "# Clean up text, creates dictionary with image names and captions list\n",
        "null_punct = str.maketrans('', '', string.punctuation)\n",
        "lookup = dict()\n",
        "\n",
        "max_length = 0\n",
        "for line in img_caption_list:\n",
        "  tok = line.split()\n",
        "  if len(line) >= 2:\n",
        "    id = tok[0].split('.')[0]\n",
        "    desc = tok[1:]\n",
        "      \n",
        "    # Cleanup description\n",
        "    desc = [word.lower() for word in desc]\n",
        "    desc = [w.translate(null_punct) for w in desc]\n",
        "    desc = [word for word in desc if len(word)>1]\n",
        "    desc = [word for word in desc if word.isalpha()]\n",
        "    max_length = max(max_length,len(desc))\n",
        "      \n",
        "    if id not in lookup:\n",
        "      lookup[id] = list()\n",
        "    lookup[id].append(' '.join(desc))\n",
        "      \n",
        "lex = set()\n",
        "for key in lookup:\n",
        "  [lex.update(d.split()) for d in lookup[key]]"
      ],
      "execution_count": null,
      "outputs": []
    },
    {
      "cell_type": "code",
      "metadata": {
        "id": "mDt-N79bt40f"
      },
      "source": [
        "train_descriptions = {k:v for k,v in lookup.items() if f'{k}.jpg' \\\n",
        "                      in train_image_paths}\n",
        "for n,v in train_descriptions.items(): \n",
        "  for d in range(len(v)):\n",
        "    v[d] = f'{v[d]}'"
      ],
      "execution_count": null,
      "outputs": []
    },
    {
      "cell_type": "code",
      "metadata": {
        "id": "sRea2nLst5yA"
      },
      "source": [
        "test_descriptions = {k:v for k,v in lookup.items() if f'{k}.jpg' \\\n",
        "                      in test_image_paths}\n",
        "for n,v in train_descriptions.items(): \n",
        "  for d in range(len(v)):\n",
        "    v[d] = f'{v[d]}'"
      ],
      "execution_count": null,
      "outputs": []
    },
    {
      "cell_type": "code",
      "metadata": {
        "id": "OrTu-b4LwMWl",
        "outputId": "f221b39b-279b-4016-babf-36992bc59a0f",
        "colab": {
          "base_uri": "https://localhost:8080/",
          "height": 36
        }
      },
      "source": [
        "\n",
        "idxtoword = {}\n",
        "wordtoidx = {}\n",
        "\n",
        "ix = 1\n",
        "for w in vocab[:-1]:\n",
        "    wordtoidx[w] = ix\n",
        "    idxtoword[ix] = w\n",
        "    ix += 1\n",
        "    \n",
        "vocab_size = len(idxtoword) \n",
        "vocab_size"
      ],
      "execution_count": null,
      "outputs": [
        {
          "output_type": "execute_result",
          "data": {
            "text/plain": [
              "3663"
            ]
          },
          "metadata": {
            "tags": []
          },
          "execution_count": 16
        }
      ]
    },
    {
      "cell_type": "markdown",
      "metadata": {
        "id": "oao7cYWdw27j"
      },
      "source": [
        "### Tokenize words in vocab via GloVe6B create emebedding layer for model"
      ]
    },
    {
      "cell_type": "code",
      "metadata": {
        "id": "nYoOpTaTwsgM",
        "outputId": "d9930a58-cfc5-4501-eaf7-575de443e029",
        "colab": {
          "base_uri": "https://localhost:8080/",
          "height": 54
        }
      },
      "source": [
        "glove_dir = os.path.join('')\n",
        "embeddings_index = {} \n",
        "f = open(os.path.join(glove_dir, 'glove.6B.200d.txt'), encoding=\"utf-8\")\n",
        "\n",
        "for line in tqdm(f):\n",
        "    values = line.split()\n",
        "    word = values[0]\n",
        "    coefs = np.asarray(values[1:], dtype='float32')\n",
        "    embeddings_index[word] = coefs\n",
        "\n",
        "f.close()\n",
        "print(f'Found {len(embeddings_index)} word vectors.')"
      ],
      "execution_count": null,
      "outputs": [
        {
          "output_type": "stream",
          "text": [
            "400000it [00:22, 17404.49it/s]"
          ],
          "name": "stderr"
        },
        {
          "output_type": "stream",
          "text": [
            "Found 400000 word vectors.\n"
          ],
          "name": "stdout"
        },
        {
          "output_type": "stream",
          "text": [
            "\n"
          ],
          "name": "stderr"
        }
      ]
    },
    {
      "cell_type": "code",
      "metadata": {
        "id": "jNa9ICGYw1Lj"
      },
      "source": [
        "embedding_dim = 200\n",
        "\n",
        "# Get 200-dim dense vector for each of the 10000 words in out vocabulary\n",
        "embedding_matrix = np.zeros((vocab_size, embedding_dim))\n",
        "\n",
        "for word, i in wordtoidx.items():\n",
        "    #if i < max_words:\n",
        "    embedding_vector = embeddings_index.get(word)\n",
        "    if embedding_vector is not None:\n",
        "        # Words not found in the embedding index will be all zeros\n",
        "        embedding_matrix[i] = embedding_vector"
      ],
      "execution_count": null,
      "outputs": []
    },
    {
      "cell_type": "code",
      "metadata": {
        "id": "jxFK99AgHH8b",
        "outputId": "ddd22c9a-92ca-48ee-b3e6-e90475d38fa7",
        "colab": {
          "base_uri": "https://localhost:8080/",
          "height": 56
        }
      },
      "source": [
        "wordtoidx.items()"
      ],
      "execution_count": null,
      "outputs": [
        {
          "output_type": "execute_result",
          "data": {
            "text/plain": [
              "dict_items([('startseq', 1), ('A', 2), ('very', 3), ('clean', 4), ('and', 5), ('well', 6), ('decorated', 7), ('empty', 8), ('bathroom', 9), ('endseq', 10), ('view', 11), ('of', 12), ('a', 13), ('kitchen', 14), ('all', 15), ('its', 16), ('appliances.', 17), ('blue', 18), ('white', 19), ('with', 20), ('themed', 21), ('wall', 22), ('tiles.', 23), ('photo', 24), ('dining', 25), ('room', 26), ('stop', 27), ('sign', 28), ('across', 29), ('the', 30), ('street', 31), ('from', 32), ('red', 33), ('car', 34), ('', 35), ('vandalized', 36), ('on', 37), ('road', 38), ('paint', 39), ('walls', 40), ('above', 41), ('it.', 42), ('An', 43), ('bathroom.', 44), ('The', 45), ('two', 46), ('people', 47), ('are', 48), ('walking', 49), ('down', 50), ('beach.', 51), ('sink', 52), ('toilet', 53), ('inside', 54), ('small', 55), ('black', 56), ('square', 57), ('tile', 58), ('floor', 59), ('that', 60), ('needs', 61), ('vanity', 62), ('contains', 63), ('sinks', 64), ('towel', 65), ('for', 66), ('Several', 67), ('metal', 68), ('balls', 69), ('sit', 70), ('in', 71), ('sand', 72), ('near', 73), ('group', 74), ('people.', 75), ('Two', 76), ('carrying', 77), ('surf', 78), ('boards', 79), ('brown', 80), ('cabinets,', 81), ('grey', 82), ('counters.', 83), ('woman,', 84), ('child', 85), ('walk', 86), ('few', 87), ('dim', 88), ('transportation', 89), ('system.', 90), ('rain', 91), ('by', 92), ('their', 93), ('walks', 94), ('road.', 95), ('has', 96), ('an', 97), ('interesting', 98), ('sink.', 99), ('women', 100), ('preparing', 101), ('food', 102), ('kitchen,', 103), ('one', 104), ('at', 105), ('table', 106), ('home', 107), ('light', 108), ('on.', 109), ('cat', 110), ('stuck', 111), ('slightly', 112), ('opened', 113), ('window.', 114), ('bicycles', 115), ('woman', 116), ('front', 117), ('shop', 118), ('Green', 119), ('tiled', 120), ('low', 121), ('overhead', 122), ('lighting.', 123), ('bicycle', 124), ('is', 125), ('parked', 126), ('bench', 127), ('night.', 128), ('horse', 129), ('grazing', 130), ('grass', 131), ('house.', 132), ('someone', 133), ('riding', 134), ('bike.', 135), ('White', 136), ('pedestal', 137), ('located', 138), ('lit', 139), ('This', 140), ('game', 141), ('shirts', 142), ('basketball', 143), ('toilet,', 144), ('sink,', 145), ('bathtub', 146), ('shower,', 147), ('mirror', 148), ('countertop', 149), ('includes', 150), ('Apple', 151), ('phone.', 152), ('teenagers', 153), ('beach', 154), ('surfboards.', 155), ('surfer', 156), ('his', 157), ('bike', 158), ('to', 159), ('indoor', 160), ('good', 161), ('closeup', 162), ('fire', 163), ('hydrant', 164), ('including', 165), ('man', 166), ('standing', 167), ('arms', 168), ('crossed', 169), ('purple', 170), ('bus', 171), ('dressed', 172), ('as', 173), ('tall', 174), ('bicycle.', 175), ('toaster', 176), ('oven.', 177), ('Lady', 178), ('purse', 179), ('along', 180), ('side', 181), ('man.', 182), ('brightly', 183), ('colored', 184), ('window', 185), ('wide', 186), ('angle', 187), ('work', 188), ('area', 189), ('People', 190), ('around', 191), ('many', 192), ('silver', 193), ('round', 194), ('ground.', 195), ('working', 196), ('counter', 197), ('illuminated', 198), ('sunlight.', 199), ('granite', 200), ('skinny', 201), ('field.', 202), ('person', 203), ('car.', 204), ('flying', 205), ('while', 206), ('trucks', 207), ('parking', 208), ('lot.', 209), ('cabinets', 210), ('no', 211), ('refrigerator.', 212), ('modern', 213), ('glass', 214), ('pieces', 215), ('hotel', 216), ('making', 217), ('face', 218), ('sitting', 219), ('motel', 220), ('nice', 221), ('hood', 222), ('city', 223), ('sidewalk', 224), ('lined', 225), ('lamp', 226), ('posts', 227), ('TV', 228), ('public', 229), ('restroom', 230), ('been', 231), ('photographed', 232), ('old', 233), ('what', 234), ('appears', 235), ('be', 236), ('peeking', 237), ('out', 238), ('rolled', 239), ('There', 240), ('some', 241), ('pet', 242), ('young', 243), ('boy', 244), ('surfing', 245), ('waves.', 246), ('top', 247), ('cabinet', 248), ('covered', 249), ('pots', 250), ('pans.', 251), ('her', 252), ('wooden', 253), ('bench.', 254), ('sky', 255), ('full', 256), ('colorful', 257), ('kites', 258), ('mountain.', 259), ('rides', 260), ('river.', 261), ('stand', 262), ('lights.', 263), ('cupboard', 264), ('raft', 265), ('atop', 266), ('boat', 267), ('water.', 268), ('cars', 269), ('trash', 270), ('can', 271), ('garage.', 272), ('shorts', 273), ('seat', 274), ('looking', 275), ('jumping', 276), ('onto', 277), ('folded', 278), ('balancing', 279), ('Black', 280), ('image', 281), ('children', 282), ('Silver', 283), ('up', 284), ('about', 285), ('background.', 286), ('compact', 287), ('mounted', 288), ('roof.', 289), ('around.', 290), ('scene', 291), ('stainless', 292), ('steel', 293), ('appliance', 294), ('checkered', 295), ('pattern', 296), ('floor.', 297), ('lady', 298), ('talking', 299), ('self', 300), ('portrait', 301), ('fancy', 302), ('cell', 303), ('accessories', 304), ('set', 305), ('out.', 306), ('without', 307), ('doors', 308), ('cabinets.', 309), ('snowy', 310), ('mountain', 311), ('skis.', 312), ('towels', 313), ('laid', 314), ('stuffed', 315), ('animal', 316), ('laying', 317), ('bed', 318), ('sits', 319), ('open', 320), ('plates', 321), ('vegetables.', 322), ('couple', 323), ('boards.', 324), ('shower', 325), ('phone', 326), ('computer', 327), ('counter.', 328), ('taking', 329), ('picture', 330), ('night', 331), ('large', 332), ('eating', 333), ('blurry', 334), ('rider', 335), ('past', 336), ('new', 337), ('skiers', 338), ('cats', 339), ('sleeping', 340), ('person.', 341), ('featuring', 342), ('lies', 343), ('kitchen.', 344), ('ground', 345), ('smaller', 346), ('ball.', 347), ('board.', 348), ('playing', 349), ('Frisbee.', 350), ('washing', 351), ('dishes', 352), ('backpack', 353), ('holding', 354), ('arm', 355), ('shoulders', 356), ('girl', 357), ('next', 358), ('him.', 359), ('Three', 360), ('bed.', 361), ('using', 362), ('go', 363), ('street.', 364), ('baby', 365), ('dog.', 366), ('clock', 367), ('hangs', 368), ('multiple', 369), ('photos', 370), ('extends', 371), ('hand', 372), ('catch', 373), ('frisbee.', 374), ('glasses', 375), ('bottle', 376), ('wine.', 377), ('vegetable', 378), ('appliances', 379), ('equipment.', 380), ('kite', 381), ('shape', 382), ('bottom', 383), ('half', 384), ('woman.', 385), ('fashioned', 386), ('middle', 387), ('painted', 388), ('shower.', 389), ('does', 390), ('trick', 391), ('surfboard', 392), ('under', 393), ('arm.', 394), ('bunch', 395), ('strapped', 396), ('six', 397), ('time', 398), ('grass.', 399), ('riders', 400), ('goes', 401), ('Bathroom', 402), ('shot', 403), ('bear', 404), (\"someone's\", 405), ('other', 406), ('places', 407), ('seagull', 408), ('perches', 409), ('van.', 410), ('fly', 411), ('through', 412), ('each', 413), ('other.', 414), ('girls', 415), ('lunch', 416), ('stocked', 417), ('supplies.', 418), ('counter,', 419), ('dog', 420), ('dish.', 421), ('chef', 422), ('opens', 423), ('oven', 424), ('beside', 425), ('island', 426), ('bus.', 427), ('being', 428), ('prepared', 429), ('get', 430), ('newly', 431), ('family', 432), ('dirty', 433), ('clothes', 434), ('Group', 435), ('over', 436), ('edge.', 437), ('body', 438), ('water', 439), ('sun', 440), ('windows.', 441), ('poses', 442), ('hill.', 443), ('shelves', 444), ('wood', 445), ('assorted', 446), ('decorations', 447), ('plastic', 448), ('courtyard', 449), ('reaches', 450), ('wave.', 451), ('men', 452), ('seems', 453), ('others.', 454), ('stairs', 455), ('lead', 456), ('Double', 457), ('into', 458), ('tub.', 459), ('sticker', 460), ('word', 461), ('stop.', 462), ('white.', 463), ('buffet', 464), ('different', 465), ('types', 466), ('table.', 467), ('area.', 468), ('female', 469), ('walking.', 470), ('bowls', 471), ('microwave', 472), ('right.', 473), ('platform', 474), ('silhouette', 475), ('sunset', 476), ('tent', 477), ('bath', 478), ('rug', 479), ('pile', 480), ('clothes.', 481), ('several', 482), ('bikes', 483), ('rack.', 484), ('outside', 485), ('green', 486), ('umbrella.', 487), ('red.', 488), ('takes', 489), ('selfie', 490), ('mirror.', 491), ('wrapped', 492), ('chain', 493), ('sidewalk.', 494), ('grazes', 495), ('field', 496), ('trees.', 497), ('dogs', 498), ('beneath', 499), ('waiting', 500), ('used', 501), ('smiles', 502), ('who', 503), ('wearing', 504), ('Woman', 505), ('together', 506), ('enjoying', 507), ('crowd', 508), ('prepare', 509), ('ski', 510), ('snow', 511), ('slopes.', 512), ('video', 513), ('game.', 514), ('Many', 515), ('skiiers', 516), ('gathered', 517), ('base', 518), ('travel', 519), ('guy', 520), ('board', 521), ('van', 522), ('building.', 523), ('another', 524), ('back', 525), ('back.', 526), ('neatly', 527), ('stacked', 528), ('shelf', 529), ('played', 530), ('yard.', 531), ('pot', 532), ('racks', 533), ('stove', 534), ('food.', 535), ('filled', 536), ('pans', 537), ('dishes.', 538), ('watches', 539), ('boys', 540), ('play', 541), ('snow-covered', 542), ('winter.', 543), ('antique', 544), ('leaving', 545), ('garage', 546), ('reflection', 547), ('guys', 548), ('One', 549), ('kid', 550), ('like', 551), ('bathtub.', 552), ('closet', 553), ('shown.', 554), ('only', 555), ('Man', 556), ('scissors', 557), ('loaded', 558), ('end', 559), ('it', 560), ('orange,', 561), ('blue,', 562), ('gray', 563), ('door', 564), ('behind', 565), ('corner.', 566), ('lining', 567), ('teddy', 568), ('dimly', 569), ('room.', 570), ('lying', 571), ('bedspread', 572), ('mattress', 573), ('surfboard.', 574), ('ocean', 575), ('sunset.', 576), ('pose', 577), ('cake.', 578), ('biker', 579), ('stands', 580), ('legs', 581), ('stone', 582), ('refrigerator', 583), ('shirtless', 584), ('pink', 585), ('drinking', 586), ('dark', 587), ('before', 588), ('tops.', 589), ('individual', 590), ('covers', 591), ('himself', 592), ('umbrella', 593), ('rainy', 594), ('day.', 595), ('corner', 596), ('cleaning', 597), ('products', 598), ('four', 599), ('lawn.', 600), ('females', 601), ('restaurant', 602), ('ready', 603), ('skate', 604), ('cement', 605), ('seating', 606), ('up.', 607), ('basket', 608), ('building', 609), ('yellow', 610), ('keyboard', 611), ('having', 612), ('slice', 613), ('bread', 614), ('crossing', 615), ('placed', 616), ('passenger', 617), ('same', 618), ('three', 619), ('chairs,', 620), ('refrigerator,', 621), ('sandy', 622), ('wall.', 623), ('mid', 624), ('sized', 625), ('leaning', 626), ('forward', 627), ('top.', 628), ('equipped', 629), ('bars', 630), ('television', 631), ('reflected', 632), ('off', 633), ('nap', 634), ('lays', 635), (\"person's\", 636), ('chest.', 637), ('attached', 638), ('personal', 639), ('Small', 640), ('dual', 641), ('sinks.', 642), ('ocean.', 643), ('open.', 644), ('shadow', 645), ('microwave.', 646), ('supplies', 647), ('shop.', 648), ('shopping', 649), ('center', 650), ('containing', 651), ('close', 652), ('curtain', 653), ('he', 654), ('falls', 655), ('flat', 656), ('screen', 657), ('box', 658), ('remote', 659), ('control.', 660), ('nearly', 661), ('house', 662), ('pets', 663), ('frisbee', 664), ('cleaned', 665), ('air', 666), ('just', 667), ('hand.', 668), ('construction', 669), ('double', 670), ('strip', 671), ('others', 672), ('background', 673), ('teenage', 674), ('wire.', 675), ('against', 676), ('surrounded', 677), ('bicycles.', 678), ('parade', 679), ('bread.', 680), (\"it's\", 681), ('industrial', 682), ('Skiers', 683), ('pictured', 684), ('bowl', 685), ('Some', 686), ('separate', 687), ('tub', 688), ('showing', 689), ('wire', 690), ('tables', 691), ('held', 692), ('variety', 693), ('pastries.', 694), ('plaza', 695), ('stores', 696), ('lot', 697), ('cloudy', 698), ('stove.', 699), ('skiing', 700), ('slope', 701), ('gathering', 702), ('lighted', 703), ('oven,', 704), ('something', 705), ('race', 706), ('busy', 707), ('appear', 708), ('cupboards', 709), ('lots', 710), ('space.', 711), ('hanging', 712), ('attractive', 713), ('lights', 714), ('couch', 715), ('looks', 716), ('them', 717), ('older', 718), ('getting', 719), ('stove,', 720), ('microwave,', 721), ('friends', 722), ('enjoy', 723), ('grassy', 724), ('fenced', 725), ('hooked', 726), ('checking', 727), ('holds', 728), ('leash.', 729), ('fridge', 730), ('during', 731), ('old-fashioned', 732), ('bridge.', 733), ('trying', 734), ('high', 735), ('items.', 736), ('downtown', 737), ('city.', 738), ('mall', 739), ('Kids', 740), ('bedroom', 741), ('shaped', 742), ('countertop.', 743), ('wires', 744), ('poles.', 745), ('hall', 746), ('opening', 747), ('bathroom,', 748), ('nicely', 749), ('metallic', 750), ('Boy', 751), ('skateboard', 752), ('doing', 753), ('air.', 754), ('spread', 755), ('picture.', 756), ('baby.', 757), ('leans', 758), ('subway', 759), ('court.', 760), ('below', 761), ('flowers', 762), ('hits', 763), ('big', 764), ('day', 765), ('watching', 766), ('together.', 767), ('park', 768), ('tree', 769), ('nearby.', 770), ('were', 771), ('lighting', 772), ('Different', 773), ('tiles', 774), ('walls,', 775), ('serving', 776), ('adults', 777), ('items', 778), ('meal', 779), ('hallway', 780), ('shirt', 781), ('jeans', 782), ('skateboard.', 783), ('use', 784), ('professional', 785), ('.', 786), ('laptop', 787), ('or', 788), ('kind', 789), ('crosswalk', 790), ('bags', 791), ('hands.', 792), ('cabinet.', 793), ('park.', 794), ('spacious', 795), ('cross', 796), ('intersection.', 797), ('skateboarding', 798), ('cooking', 799), ('reflecting', 800), ('opposite', 801), ('tree.', 802), ('pretty', 803), ('flowers.', 804), ('curtain.', 805), ('arms.', 806), ('Kitchen', 807), ('restaurant.', 808), ('tub,', 809), ('beautiful', 810), ('blonde', 811), ('down,', 812), ('multicolored', 813), ('asphalt', 814), ('porcelain', 815), ('coat', 816), ('games.', 817), ('wave', 818), ('hat', 819), ('windows', 820), ('traveling', 821), ('plate', 822), ('helmet', 823), ('marble', 824), ('tops', 825), ('alley', 826), ('hard', 827), ('crosswalk.', 828), ('waits', 829), ('construction.', 830), ('accessories.', 831), ('ramp.', 832), ('Asian', 833), ('Women', 834), ('Four', 835), ('lounge', 836), ('baskets', 837), ('goods', 838), ('floors', 839), ('gentleman', 840), ('alongside', 841), ('skateboarder', 842), ('airborne', 843), ('trick.', 844), ('banana', 845), ('if', 846), ('telephone', 847), ('Colorful', 848), ('underneath', 849), ('clock.', 850), ('drying', 851), ('towel.', 852), ('read', 853), ('bush.', 854), ('Young', 855), ('dress', 856), ('brushing', 857), ('teeth', 858), ('displaying', 859), ('bowls.', 860), ('train', 861), ('station.', 862), ('made', 863), ('glass.', 864), ('living', 865), ('toothbrush.', 866), ('leading', 867), ('where', 868), ('Surfers', 869), ('right', 870), ('ride.', 871), ('ferry', 872), ('books', 873), ('lane', 874), ('chair', 875), ('store.', 876), ('doll', 877), ('cup', 878), ('coffee', 879), ('brushes', 880), ('teeth.', 881), ('door.', 882), ('bikers', 883), ('turn', 884), ('fountain', 885), ('bicyclist', 886), ('wait', 887), ('Light', 888), ('shines', 889), ('keyboard,', 890), ('keys', 891), ('competing', 892), ('bar', 893), ('natural', 894), ('shown', 895), ('Looking', 896), ('something.', 897), ('passing', 898), ('store', 899), ('long', 900), ('staring', 901), ('clean.', 902), ('facing', 903), ('costume', 904), ('motorcycle', 905), ('driving', 906), ('stack', 907), ('beverages', 908), ('male', 909), ('dump', 910), ('truck', 911), ('commercial', 912), ('mirrors', 913), ('toothbrushes', 914), ('pole', 915), ('power', 916), ('lines', 917), ('Multiple', 918), ('blow', 919), ('candle', 920), ('birthday', 921), ('cake', 922), ('besides', 923), ('fan', 924), ('dressing', 925), ('displayed', 926), ('married', 927), ('posing', 928), ('piece', 929), ('edge', 930), ('performing', 931), ('passes', 932), ('by.', 933), ('bright', 934), ('this', 935), ('dogs.', 936), ('motorcycle.', 937), ('tricks', 938), ('tan', 939), ('Large', 940), ('sweater', 941), ('doors.', 942), ('alone', 943), ('locked', 944), ('meter.', 945), ('catches', 946), ('but', 947), ('fall', 948), ('stopped', 949), ('trees', 950), ('clutter', 951), ('drink', 952), ('toilet.', 953), ('towels.', 954), ('ramp', 955), ('bathtub,', 956), ('curtains.', 957), ('skiis', 958), ('hill', 959), ('tissue', 960), ('dispenser.', 961), ('displayed.', 962), ('2', 963), ('ceramic', 964), ('dinner.', 965), ('tiny', 966), ('little', 967), ('reaching', 968), ('silverware', 969), ('ride', 970), ('cars.', 971), ('arranged', 972), ('display', 973), ('resting', 974), ('matching', 975), ('bathing', 976), ('hot', 977), ('touches', 978), ('refrigerators', 979), ('area,', 980), ('have', 981), ('gold', 982), ('rectangular', 983), ('them.', 984), ('putting', 985), ('away', 986), ('after', 987), ('writing', 988), ('front.', 989), ('talk', 990), ('though', 991), ('sports', 992), ('intersection', 993), ('bags.', 994), ('going', 995), ('town', 996), ('smiling', 997), ('celebrating', 998), ('special', 999), ('candle.', 1000), ('container', 1001), ('color', 1002), ('fresh', 1003), ('paws', 1004), ('apartment', 1005), ('sparse', 1006), ('furniture', 1007), ('moving', 1008), ('boxes.', 1009), ('way', 1010), ('consisting', 1011), ('striped', 1012), ('utensils', 1013), ('shiny', 1014), ('walls.', 1015), ('stall.', 1016), ('skis', 1017), ('lift.', 1018), ('rail', 1019), ('lone', 1020), ('skier', 1021), ('snow.', 1022), ('home.', 1023), ('up,', 1024), ('cow', 1025), ('suit.', 1026), ('towards', 1027), ('leash', 1028), ('herself', 1029), ('Person', 1030), ('pictures', 1031), ('seen', 1032), ('elegant', 1033), ('cone', 1034), ('suburban', 1035), ('organized', 1036), ('formal', 1037), ('sign.', 1038), ('lift', 1039), ('glides', 1040), ('urban', 1041), ('following', 1042), ('which', 1043), ('identical', 1044), ('mat.', 1045), ('signs', 1046), ('table,', 1047), ('fridge.', 1048), ('narrow', 1049), ('Five', 1050), ('people,', 1051), ('foreign', 1052), ('numerous', 1053), ('orange', 1054), ('level', 1055), ('meal.', 1056), ('various', 1057), ('In', 1058), ('there', 1059), ('cat.', 1060), ('swings', 1061), ('laptop.', 1062), ('Guy', 1063), ('reading', 1064), ('lap.', 1065), ('cooks', 1066), ('scooters', 1067), ('viewing', 1068), ('gather', 1069), ('island.', 1070), ('cyclist', 1071), ('giving', 1072), ('tropical', 1073), ('sculpture', 1074), ('middle.', 1075), ('fence', 1076), ('side.', 1077), ('blender.', 1078), ('cold', 1079), ('assortment', 1080), ('vegetables', 1081), ('daytime.', 1082), ('outside.', 1083), ('stares', 1084), ('design.', 1085), (\"man's\", 1086), ('Table', 1087), ('booth', 1088), ('path', 1089), ('signs.', 1090), ('reads', 1091), ('turning', 1092), ('ear', 1093), ('ledge', 1094), ('closed', 1095), ('toddler', 1096), ('drawer', 1097), ('reach', 1098), ('decker', 1099), ('Big', 1100), ('sunlight', 1101), ('shining', 1102), ('overhead.', 1103), ('cut', 1104), ('lime', 1105), ('lap', 1106), ('over.', 1107), ('adorable', 1108), ('holder', 1109), ('tooth', 1110), ('WOMAN', 1111), ('RIDING', 1112), ('AN', 1113), ('newspaper', 1114), ('falling', 1115), ('bedroom.', 1116), ('single', 1117), ('serve', 1118), ('surfers', 1119), ('sea.', 1120), ('umbrellas', 1121), ('fountain.', 1122), ('country', 1123), (\"that's\", 1124), ('hang', 1125), ('wagon', 1126), ('propped', 1127), ('pool', 1128), ('flower', 1129), ('center.', 1130), ('built', 1131), ('haired', 1132), ('sleeps', 1133), ('fixtures', 1134), ('mirrors.', 1135), ('cutting', 1136), ('done', 1137), ('soup', 1138), ('bowl.', 1139), ('outdoor', 1140), ('cafe', 1141), ('paper', 1142), ('pair', 1143), ('urinals', 1144), ('major', 1145), ('advertising', 1146), ('topped', 1147), ('residential', 1148), ('head', 1149), ('things', 1150), ('rusty', 1151), ('cook', 1152), ('chairs.', 1153), ('camera.', 1154), ('run', 1155), ('flooring.', 1156), ('chairs', 1157), ('camera', 1158), ('take', 1159), ('basin', 1160), ('features', 1161), ('covering', 1162), ('heavily', 1163), ('curtains', 1164), ('overlooking', 1165), ('darkened', 1166), ('pier.', 1167), ('wheeled', 1168), ('clutter.', 1169), ('coming', 1170), ('makes', 1171), ('whole', 1172), ('container.', 1173), ('talking.', 1174), ('hands', 1175), (\"men's\", 1176), ('tables.', 1177), ('separated', 1178), ('fake', 1179), ('tv.', 1180), ('style', 1181), ('sides', 1182), ('not', 1183), ('London', 1184), ('gas', 1185), ('view.', 1186), ('transit', 1187), ('vehicle.', 1188), ('urinal', 1189), ('toothbrush', 1190), ('fluffy', 1191), ('comfortably', 1192), ('ingredients.', 1193), ('drink.', 1194), ('chefs', 1195), ('plates.', 1196), ('sliding', 1197), ('drive', 1198), ('thru', 1199), ('pulling', 1200), ('trailer', 1201), ('brick', 1202), ('strange', 1203), ('ladies', 1204), ('containers', 1205), ('collection', 1206), ('entrance', 1207), ('storage', 1208), ('pan', 1209), ('plate.', 1210), ('piles', 1211), ('shoes.', 1212), ('foot', 1213), ('pointed', 1214), ('Traffic', 1215), ('United', 1216), ('deep', 1217), ('commode', 1218), ('broken', 1219), ('kissing', 1220), ('hipster', 1221), ('clothing', 1222), ('fabric', 1223), ('boots', 1224), ('chained', 1225), ('missing', 1226), ('huge', 1227), ('mirror,', 1228), ('double-decker', 1229), ('Ben', 1230), ('London.', 1231), ('picnic', 1232), ('rustic', 1233), ('condiments', 1234), ('motor', 1235), ('sticking', 1236), ('television.', 1237), ('Lots', 1238), ('balloons', 1239), ('floating', 1240), ('buildings.', 1241), ('look', 1242), ('St.', 1243), ('toy', 1244), ('feet.', 1245), ('cars,', 1246), ('motorbike', 1247), ('couch,', 1248), ('computer.', 1249), ('horses', 1250), ('chair.', 1251), ('distance.', 1252), ('watch', 1253), ('setting', 1254), ('slowly', 1255), ('dish', 1256), ('cart', 1257), ('jump', 1258), ('resort', 1259), ('message', 1260), ('tie', 1261), ('smoking', 1262), ('rolls', 1263), ('paper.', 1264), ('resort.', 1265), ('tank', 1266), ('lid.', 1267), ('workers', 1268), (\"ski's\", 1269), ('cups', 1270), ('upside', 1271), ('down.', 1272), ('fast', 1273), ('asleep', 1274), ('meter', 1275), ('lush', 1276), ('drives', 1277), ('palm', 1278), ('sides.', 1279), ('floor,', 1280), ('photograph', 1281), ('boarders', 1282), ('land', 1283), ('rack', 1284), ('train.', 1285), ('grown', 1286), ('swinging', 1287), ('carpet.', 1288), ('costumes', 1289), ('skiing.', 1290), ('scenic', 1291), ('Pedestrians', 1292), ('hardwood', 1293), ('floors.', 1294), ('prepares', 1295), ('names', 1296), ('mini', 1297), ('desk', 1298), ('objects', 1299), ('bank', 1300), ('kneeling', 1301), ('cardboard', 1302), (\"woman's\", 1303), ('Very', 1304), ('bunches', 1305), ('bananas', 1306), ('market.', 1307), ('furnished', 1308), ('skater', 1309), ('clear', 1310), ('boardwalk', 1311), ('pavement', 1312), ('breakfast', 1313), ('farm', 1314), ('setting.', 1315), ('pedestrians', 1316), ('sunny', 1317), ('European', 1318), ('square.', 1319), ('vehicles', 1320), ('hitting', 1321), ('ripe', 1322), ('mask', 1323), ('displays', 1324), ('powered', 1325), ('fruit.', 1326), ('beige', 1327), ('forest', 1328), ('head.', 1329), ('seat.', 1330), ('kids', 1331), ('surface.', 1332), ('ornate', 1333), ('brush', 1334), ('homemade', 1335), ('doughnuts', 1336), ('neat', 1337), ('watches.', 1338), ('cigarette', 1339), ('adjusting', 1340), ('shirt.', 1341), ('moped', 1342), ('running', 1343), ('was', 1344), ('sizes', 1345), ('vehicles.', 1346), ('stationary', 1347), ('bikes.', 1348), ('plain', 1349), ('posted', 1350), ('scooter', 1351), ('crowded', 1352), ('item', 1353), ('scattered', 1354), ('Older', 1355), ('cast', 1356), ('iron', 1357), ('airplane.', 1358), ('they', 1359), ('enclosed', 1360), ('knife', 1361), ('block.', 1362), ('headed', 1363), ('Stop', 1364), ('4', 1365), ('sharing', 1366), ('can.', 1367), ('bottles', 1368), ('taken', 1369), ('golden', 1370), ('glasses,', 1371), ('leg', 1372), ('quickly', 1373), ('tray', 1374), ('holder.', 1375), ('fireplace', 1376), ('show', 1377), ('tries', 1378), ('images', 1379), ('process', 1380), ('oranges', 1381), ('blender', 1382), ('skyline', 1383), ('donuts.', 1384), ('mean', 1385), ('diving', 1386), ('gear', 1387), ('boat.', 1388), ('skateboarders', 1389), ('umbrellas.', 1390), ('jet', 1391), ('small,', 1392), ('lid', 1393), ('drivers', 1394), ('\\n', 1395), ('her.', 1396), ('visible', 1397), ('fruit', 1398), ('airplane', 1399), ('children.', 1400), ('giant', 1401), ('hole', 1402), ('fixing', 1403), ('french', 1404), ('bucket', 1405), ('beard', 1406), ('suit', 1407), ('Frisbee', 1408), ('tennis', 1409), ('vintage', 1410), ('pouring', 1411), ('cheese', 1412), ('Blue', 1413), ('asian', 1414), ('gloves', 1415), ('roof', 1416), ('flooring', 1417), ('babies', 1418), ('odd', 1419), ('fully', 1420), ('empty.', 1421), ('buses.', 1422), ('walkway', 1423), ('folding', 1424), ('mostly', 1425), ('stool', 1426), ('hiding', 1427), ('Wooden', 1428), ('plan', 1429), ('bearded', 1430), ('shade.', 1431), ('works', 1432), ('row', 1433), ('slices', 1434), ('jacket', 1435), ('mother', 1436), ('carries', 1437), ('beer', 1438), ('toward', 1439), ('rests', 1440), ('garbage', 1441), ('chrome', 1442), ('photographs', 1443), ('face.', 1444), ('poles', 1445), ('males', 1446), ('stripes', 1447), ('fish', 1448), ('eye', 1449), ('motorcycles.', 1450), ('cluttered', 1451), ('utensils.', 1452), ('dinner', 1453), ('plates,', 1454), ('basket.', 1455), ('stall', 1456), ('pier', 1457), ('measuring', 1458), ('cheese.', 1459), ('snack', 1460), ('lounging', 1461), ('upward', 1462), ('uses', 1463), ('doorway.', 1464), ('cuts', 1465), ('apples', 1466), ('mobile', 1467), ('ear.', 1468), ('situated', 1469), ('player', 1470), ('racket', 1471), ('business.', 1472), ('soaked', 1473), ('father', 1474), ('daughter', 1475), ('complete', 1476), ('traditional', 1477), ('outdoors.', 1478), ('doughnut', 1479), ('drinks', 1480), ('motorcycles', 1481), ('fence.', 1482), ('mouth.', 1483), ('keyboard.', 1484), ('sunglasses', 1485), ('hat.', 1486), ('elephant', 1487), ('gear.', 1488), ('siting', 1489), ('old,', 1490), ('spectators', 1491), ('Inside', 1492), ('viewed', 1493), ('between', 1494), ('sofa', 1495), ('sill.', 1496), ('light.', 1497), ('beans', 1498), ('ice', 1499), ('cream', 1500), ('truck.', 1501), ('railing', 1502), ('neighborhood.', 1503), ('scooter.', 1504), ('vendor', 1505), ('also', 1506), ('end.', 1507), ('Tennis', 1508), ('hit', 1509), ('ball', 1510), ('propeller', 1511), ('plane.', 1512), ('him', 1513), ('behind.', 1514), ('chair,', 1515), ('amongst', 1516), ('crowd.', 1517), ('machine.', 1518), ('slopes', 1519), ('training', 1520), ('potted', 1521), ('plant', 1522), ('office', 1523), ('wood.', 1524), ('number', 1525), ('lights,', 1526), ('ceiling', 1527), ('hydrant.', 1528), ('relaxing', 1529), ('curb.', 1530), ('costume.', 1531), ('cattle', 1532), ('worn', 1533), (\"child's\", 1534), ('cones', 1535), ('crouching', 1536), ('bicyclists', 1537), ('pack', 1538), ('street,', 1539), ('path.', 1540), ('slicing', 1541), ('Picture', 1542), ('hair', 1543), ('knife.', 1544), ('neon', 1545), ('wheels', 1546), ('banana,', 1547), ('Children', 1548), ('animals', 1549), ('elephant.', 1550), ('boarding', 1551), ('seated', 1552), ('wet', 1553), ('fruits', 1554), ('photo.', 1555), ('balcony', 1556), ('Various', 1557), ('donuts', 1558), ('neck.', 1559), ('shot.', 1560), ('begins', 1561), ('nose', 1562), ('zoo', 1563), ('African', 1564), ('oranges.', 1565), ('walkway.', 1566), ('string', 1567), ('floral', 1568), ('designs', 1569), ('here', 1570), ('so', 1571), ('I', 1572), ('talks', 1573), ('chewing', 1574), ('boarder', 1575), ('practicing', 1576), ('enclosure', 1577), ('stairs.', 1578), ('Seven', 1579), ('apple', 1580), ('pictures.', 1581), ('gliding', 1582), ('tv', 1583), ('paved', 1584), ('jumps', 1585), ('restroom.', 1586), ('mud', 1587), ('Girl', 1588), ('wedding', 1589), ('hair.', 1590), ('decor.', 1591), ('surrounding', 1592), ('cartoon', 1593), ('Little', 1594), ('deserted', 1595), ('woods', 1596), ('points', 1597), ('object', 1598), ('pulls', 1599), ('sky.', 1600), ('followed', 1601), ('horse.', 1602), ('include', 1603), ('apples,', 1604), ('tight', 1605), ('shade', 1606), ('digital', 1607), ('kite.', 1608), ('bride', 1609), ('groom', 1610), ('onlookers.', 1611), ('graffiti', 1612), ('cloth', 1613), ('electronic', 1614), ('tire', 1615), ('laptops', 1616), ('messy', 1617), ('desk.', 1618), ('traffic', 1619), ('sub', 1620), ('Cars', 1621), ('art', 1622), ('Adult', 1623), ('attempting', 1624), ('feed', 1625), ('skateboards', 1626), ('yard', 1627), ('Child', 1628), ('tied', 1629), ('post', 1630), ('still', 1631), ('smile', 1632), ('flowered', 1633), ('shelf.', 1634), ('shoulder.', 1635), ('oval', 1636), ('free', 1637), ('apron', 1638), ('watch.', 1639), ('rain.', 1640), ('trunk', 1641), ('doughnut.', 1642), ('grass,', 1643), ('patio', 1644), ('buildings', 1645), ('frame', 1646), ('Christmas', 1647), ('carriage', 1648), ('City', 1649), ('mountains', 1650), ('pickup', 1651), ('packed', 1652), ('line', 1653), ('toilets', 1654), ('work.', 1655), ('directly', 1656), ('dryer.', 1657), ('glove', 1658), ('freezer', 1659), ('counters', 1660), ('birds', 1661), ('pole.', 1662), ('pot.', 1663), ('pants', 1664), ('feeds', 1665), ('puddle', 1666), ('miniature', 1667), ('steps', 1668), ('hung', 1669), ('plays', 1670), ('knives', 1671), ('balance', 1672), ('stunt', 1673), ('drinks.', 1674), ('smoke', 1675), ('electronics', 1676), ('lake', 1677), ('pastry', 1678), ('beer.', 1679), ('fed', 1680), ('bare', 1681), ('wall,', 1682), ('jars', 1683), ('interior', 1684), ('tiger', 1685), ('grill.', 1686), ('British', 1687), ('stick', 1688), ('great', 1689), ('railroad', 1690), ('attire', 1691), ('tools', 1692), ('plugged', 1693), ('simple', 1694), ('framed', 1695), ('book.', 1696), ('smiling.', 1697), ('vase', 1698), ('plants', 1699), ('move', 1700), ('youth', 1701), ('headphones', 1702), ('observing', 1703), ('feeding', 1704), ('in.', 1705), ('conversation', 1706), ('model', 1707), ('zebra', 1708), ('library', 1709), ('candles', 1710), ('faucet', 1711), ('tow', 1712), ('colors', 1713), ('cooked', 1714), ('graffiti.', 1715), ('sporting', 1716), ('event.', 1717), ('finished', 1718), ('tank.', 1719), ('seats', 1720), ('Modern', 1721), ('tape', 1722), ('fireplace.', 1723), ('exit', 1724), ('unusual', 1725), ('cupcake', 1726), ('stripped', 1727), ('books.', 1728), ('snowboarding', 1729), ('slope.', 1730), ('spray', 1731), ('candles.', 1732), ('touch', 1733), ('mom', 1734), ('plants.', 1735), ('cupcakes', 1736), ('BATHROOM', 1737), ('WITH', 1738), ('AND', 1739), ('lines.', 1740), ('tea', 1741), ('coffee.', 1742), ('tile.', 1743), ('vase.', 1744), ('MAN', 1745), ('TO', 1746), ('IN', 1747), ('KITCHEN', 1748), ('local', 1749), ('library.', 1750), ('handle', 1751), ('bars.', 1752), ('dinning', 1753), ('window,', 1754), ('surface', 1755), ('most', 1756), ('painting', 1757), ('service', 1758), ('shelves.', 1759), ('amount', 1760), ('Six', 1761), ('ON', 1762), ('BEACH', 1763), ('second', 1764), ('skateboards.', 1765), ('tray.', 1766), ('load', 1767), ('clown', 1768), ('track', 1769), ('station', 1770), ('progress', 1771), ('View', 1772), ('book', 1773), ('attached.', 1774), ('Couple', 1775), ('parked.', 1776), ('funny', 1777), ('faces', 1778), ('structure.', 1779), ('cab', 1780), ('wears', 1781), ('life', 1782), ('devices', 1783), ('mountains.', 1784), ('beach,', 1785), ('bird', 1786), ('wash', 1787), ('pottery', 1788), ('rubbing', 1789), ('stripe', 1790), ('Indian', 1791), ('screen.', 1792), ('stuff', 1793), ('rose', 1794), ('peppers', 1795), ('put', 1796), ('vehicle', 1797), ('cowboy', 1798), ('cow.', 1799), ('leaves', 1800), ('paw', 1801), ('docked', 1802), ('curved', 1803), ('speeding', 1804), ('furniture.', 1805), ('race.', 1806), ('sinks,', 1807), ('swimming', 1808), ('shows', 1809), ('event', 1810), ('focus', 1811), ('array', 1812), ('beginning', 1813), ('vases', 1814), ('surfboards', 1815), ('shore', 1816), ('attempts', 1817), ('party.', 1818), ('dirt', 1819), ('taped', 1820), ('backpack.', 1821), ('outfit', 1822), ('chopping', 1823), ('plane', 1824), ('cover.', 1825), ('ingredients', 1826), ('Horses', 1827), ('canopy', 1828), ('maroon', 1829), ('make', 1830), ('range', 1831), ('weird', 1832), ('form', 1833), ('helmets', 1834), ('cellphone', 1835), ('direction', 1836), ('machine', 1837), ('upright', 1838), ('leaned', 1839), ('structure', 1840), ('lawn', 1841), ('couch.', 1842), ('bucket.', 1843), ('short', 1844), ('dress.', 1845), ('sidewalk,', 1846), ('inside.', 1847), ('skating', 1848), ('connected', 1849), ('potatoes.', 1850), ('Cat', 1851), ('winter', 1852), ('dock', 1853), ('laughing', 1854), ('party', 1855), ('rows', 1856), ('mashed', 1857), ('Orange', 1858), ('tabby', 1859), ('Men', 1860), ('uniform.', 1861), ('Old', 1862), ('licking', 1863), ('pushing', 1864), ('dock.', 1865), ('place', 1866), ('large,', 1867), ('upon', 1868), ('stomach', 1869), ('starting', 1870), ('kitten', 1871), ('bending', 1872), ('pizza', 1873), ('furry', 1874), ('Close', 1875), ('awaiting', 1876), ('highway.', 1877), ('wicker', 1878), ('circular', 1879), ('plaid', 1880), ('foods.', 1881), ('diamond', 1882), ('far', 1883), ('banana.', 1884), ('TOILET', 1885), ('cart.', 1886), ('fashion', 1887), ('All', 1888), ('Red', 1889), ('mug.', 1890), ('buses', 1891), ('passengers.', 1892), ('garden', 1893), ('typing', 1894), ('indoors', 1895), ('kick', 1896), ('block', 1897), ('soft', 1898), ('hats', 1899), ('trough', 1900), ('artistic', 1901), ('decoration', 1902), ('school', 1903), ('herding', 1904), ('Open', 1905), ('trail', 1906), ('left', 1907), ('heading', 1908), ('fingers', 1909), ('foreground.', 1910), ('pipe', 1911), ('rear', 1912), ('standing.', 1913), ('moves', 1914), ('almost', 1915), ('printed', 1916), ('toys', 1917), ('kettle', 1918), ('bag', 1919), ('it,', 1920), ('part', 1921), ('dusk.', 1922), ('rotten', 1923), ('tail', 1924), ('pipe.', 1925), ('team', 1926), ('horses.', 1927), ('someones', 1928), ('dirt.', 1929), ('Dark', 1930), ('THE', 1931), ('HIS', 1932), ('VERY', 1933), ('UP', 1934), ('THAT', 1935), ('checks', 1936), ('hoodie', 1937), ('child.', 1938), ('students', 1939), ('soldier', 1940), ('office.', 1941), ('bent', 1942), ('turned', 1943), ('flipping', 1944), ('dough', 1945), ('abandoned', 1946), ('warm', 1947), ('type', 1948), ('meat.', 1949), ('potatoes', 1950), ('adjacent', 1951), ('forest.', 1952), ('robe', 1953), ('bus,', 1954), ('PERSON', 1955), ('SITTING', 1956), ('cross-country', 1957), ('woods.', 1958), ('military', 1959), ('uniform', 1960), ('OF', 1961), ('STREET', 1962), ('PARKED', 1963), ('wooded', 1964), ('pasture', 1965), ('peanut', 1966), ('bell', 1967), ('pepper', 1968), ('spoons', 1969), ('stream.', 1970), ('bow', 1971), ('elderly', 1972), ('trail.', 1973), ('soccer', 1974), ('desert.', 1975), ('porch', 1976), ('river', 1977), ('partially', 1978), ('eaten', 1979), ('podium', 1980), ('mans', 1981), ('rest', 1982), ('print', 1983), ('design', 1984), ('bananas,', 1985), ('depicting', 1986), ('monitor', 1987), ('radio', 1988), ('Someone', 1989), ('really', 1990), ('helping', 1991), ('tie.', 1992), ('sniffing', 1993), ('larger', 1994), ('console', 1995), ('bay', 1996), ('donut', 1997), ('yellow,', 1998), ('poster', 1999), ('nest', 2000), ('unfinished', 2001), ('star', 2002), ('naked', 2003), ('turkey', 2004), ('within', 2005), ('tidy', 2006), ('match', 2007), ('perched', 2008), ('bald', 2009), ('safety', 2010), ('goggles', 2011), ('rubber', 2012), ('food,', 2013), ('possibly', 2014), ('statue', 2015), ('Fire', 2016), ('space', 2017), ('roll', 2018), ('plenty', 2019), ('bacon,', 2020), ('tomatoes', 2021), ('tossing', 2022), ('magazine', 2023), ('evening', 2024), ('phones', 2025), ('cycle', 2026), ('arrangement', 2027), ('provide', 2028), ('own', 2029), ('gives', 2030), ('time.', 2031), ('benches', 2032), ('multi', 2033), ('snowboard', 2034), ('nearby', 2035), ('himself.', 2036), ('boats', 2037), ('mixture', 2038), ('real', 2039), ('boats.', 2040), ('rim', 2041), ('sea', 2042), ('rug.', 2043), ('commuter', 2044), ('passengers', 2045), ('tarmac.', 2046), ('bite', 2047), ('missing.', 2048), ('things.', 2049), ('fireplace,', 2050), ('lamps.', 2051), ('aerial', 2052), ('room,', 2053), ('suits', 2054), ('baseball', 2055), ('cap', 2056), ('tying', 2057), ('wheel', 2058), ('t-shirt', 2059), ('happy', 2060), ('cows', 2061), ('chocolate', 2062), ('enclosure.', 2063), ('harbor.', 2064), ('bridge', 2065), ('airliner', 2066), ('police', 2067), ('port', 2068), ('chicken', 2069), ('advertisement', 2070), ('row.', 2071), ('distance', 2072), ('thats', 2073), ('landing', 2074), ('help', 2075), ('persons', 2076), ('houses', 2077), ('pizza.', 2078), ('ROOM', 2079), ('peering', 2080), ('puppy', 2081), ('leafy', 2082), ('helps', 2083), ('swing.', 2084), ('sets', 2085), ('THREE', 2086), ('frosted', 2087), ('luggage', 2088), ('repair', 2089), ('glasses.', 2090), ('stroller', 2091), ('shops.', 2092), ('bar.', 2093), ('patch', 2094), ('massive', 2095), ('petting', 2096), ('pulled', 2097), ('shirt,', 2098), ('roller', 2099), ('bag.', 2100), ('picking', 2101), ('notebook', 2102), ('marina', 2103), ('green.', 2104), ('n', 2105), ('brown,', 2106), ('dusk', 2107), ('approaches', 2108), ('than', 2109), ('one.', 2110), ('clouds', 2111), ('mixing', 2112), ('collar', 2113), ('TABLE', 2114), ('similar', 2115), ('town.', 2116), ('gets', 2117), ('object.', 2118), ('mural', 2119), ('doorway', 2120), ('ahead.', 2121), ('heavy', 2122), ('concrete', 2123), ('luggage.', 2124), ('scene.', 2125), ('themselves', 2126), ('giraffe', 2127), ('zoo.', 2128), ('designed', 2129), ('either', 2130), ('pedestrian', 2131), ('above.', 2132), ('rock', 2133), ('line.', 2134), ('officer', 2135), ('sail', 2136), ('close-up', 2137), ('giraffes', 2138), ('lamp.', 2139), ('penguin', 2140), ('white,', 2141), ('blue.', 2142), ('spot', 2143), ('soap', 2144), ('series', 2145), ('eat', 2146), ('computers', 2147), ('cup.', 2148), ('giraffe.', 2149), ('entrance.', 2150), ('caught', 2151), ('Vintage', 2152), ('blanket.', 2153), ('equipment', 2154), ('electric', 2155), ('gravel', 2156), ('wine', 2157), ('dryer', 2158), ('frozen', 2159), ('tourist', 2160), ('ceiling.', 2161), ('broccoli.', 2162), ('Street', 2163), ('blond', 2164), ('tracks', 2165), ('depot', 2166), ('platform.', 2167), ('medium', 2168), ('speed', 2169), ('kinds', 2170), ('brush.', 2171), ('see', 2172), ('away.', 2173), ('handing', 2174), ('cookie', 2175), ('spoon', 2176), ('sheet.', 2177), ('IS', 2178), ('WALKING', 2179), ('HOLDING', 2180), ('flies', 2181), ('oil', 2182), ('magnets', 2183), ('start', 2184), ('beverage', 2185), ('served', 2186), ('soup.', 2187), ('texting', 2188), ('feet', 2189), ('Smiling', 2190), ('sailing', 2191), ('ships', 2192), ('waters.', 2193), ('mat', 2194), ('stir', 2195), ('fry', 2196), ('photographer', 2197), ('motorcyclists', 2198), ('stunts', 2199), ('show.', 2200), ('mountainous', 2201), ('ducks', 2202), ('swim', 2203), ('cans', 2204), ('condiments.', 2205), ('news', 2206), ('entering', 2207), ('SUV', 2208), ('\"', 2209), ('OUT', 2210), ('THERE', 2211), ('salad.', 2212), ('drawn', 2213), ('curb', 2214), ('rolling', 2215), ('surfs', 2216), ('shaggy', 2217), ('comes', 2218), ('eating.', 2219), ('trains.', 2220), ('both', 2221), ('players', 2222), ('boxes', 2223), ('vegetables,', 2224), ('meat,', 2225), ('beans.', 2226), ('itself', 2227), ('PHOTO', 2228), ('driveway.', 2229), ('wit', 2230), ('ha', 2231), ('trio', 2232), ('broccoli', 2233), ('liquid', 2234), ('christmas', 2235), ('kept', 2236), ('mouth', 2237), ('boogie', 2238), ('pool.', 2239), ('hillside', 2240), ('bottles.', 2241), ('airport', 2242), ('teaching', 2243), ('how', 2244), ('post.', 2245), ('lake.', 2246), ('cobblestone', 2247), ('driveway', 2248), ('kitty', 2249), ('son', 2250), ('sofa.', 2251), ('mixed', 2252), ('dispenser', 2253), ('dessert.', 2254), ('stepping', 2255), ('PEOPLE', 2256), ('cookies', 2257), ('any', 2258), ('toy.', 2259), ('walled', 2260), ('bed,', 2261), ('Long', 2262), ('you', 2263), ('first', 2264), ('cluster', 2265), ('purse.', 2266), ('Motorcycle', 2267), ('Bananas', 2268), ('spoon.', 2269), ('waves', 2270), ('blowing', 2271), ('airport.', 2272), ('selling', 2273), ('foods', 2274), ('Male', 2275), ('shore.', 2276), ('peeling', 2277), ('snacks', 2278), ('drawers', 2279), ('pen', 2280), ('cruise', 2281), ('ship', 2282), ('portion', 2283), ('muddy', 2284), ('slide', 2285), ('thumbs', 2286), ('log', 2287), ('cabin', 2288), ('pick', 2289), ('laptop,', 2290), ('throws', 2291), ('adult', 2292), ('indicating', 2293), ('love', 2294), ('runway', 2295), ('shops', 2296), ('stating', 2297), ('Computer', 2298), ('kneels', 2299), ('dark.', 2300), ('ARE', 2301), ('STANDING', 2302), ('care', 2303), ('LOOKING', 2304), ('tablet', 2305), ('streets.', 2306), ('sliced', 2307), ('toasted', 2308), ('wild', 2309), ('rowing', 2310), ('closed.', 2311), ('desserts', 2312), ('frosting.', 2313), ('bananas.', 2314), ('onions', 2315), ('phone,', 2316), ('throw', 2317), ('sad', 2318), ('peel', 2319), ('decorative', 2320), ('stops', 2321), ('rusted', 2322), ('catching', 2323), ('chasing', 2324), ('airplanes', 2325), ('climbing', 2326), ('pass', 2327), ('unique', 2328), ('saying', 2329), ('pillow.', 2330), ('black-and-white', 2331), ('bikini', 2332), ('emergency', 2333), ('snowboards', 2334), ('onions.', 2335), ('hillside.', 2336), ('desk,', 2337), ('track.', 2338), ('GROUP', 2339), ('books,', 2340), ('suitcase.', 2341), ('pigeon', 2342), ('chopped', 2343), ('could', 2344), ('china', 2345), ('thin', 2346), ('way.', 2347), ('SMALL', 2348), ('NEAR', 2349), ('delicious', 2350), ('gourmet', 2351), ('delivery', 2352), ('WHITE', 2353), ('DOWN', 2354), ('Chinese', 2355), ('aircraft', 2356), ('curled', 2357), ('snowboarders', 2358), ('snowboard.', 2359), ('BLACK', 2360), ('PICTURE', 2361), ('upper', 2362), ('harbor', 2363), ('crouched', 2364), ('garden.', 2365), ('desks', 2366), ('walk.', 2367), ('skies', 2368), ('operating', 2369), ('officers', 2370), ('she', 2371), ('among', 2372), ('bin', 2373), ('letting', 2374), ('pull', 2375), ('terminal', 2376), ('carry', 2377), ('terminal.', 2378), ('posed', 2379), ('greens.', 2380), ('rainbow', 2381), ('suitcase', 2382), ('cellphone.', 2383), ('sand.', 2384), ('shuttle', 2385), ('puts', 2386), ('sauce', 2387), ('worker', 2388), ('meats', 2389), ('pasta', 2390), ('New', 2391), ('box.', 2392), ('fun', 2393), ('horseback', 2394), ('shoulder', 2395), ('TWO', 2396), ('PLAYING', 2397), ('BUS', 2398), ('set.', 2399), ('AT', 2400), ('cloud', 2401), ('We', 2402), ('crate', 2403), ('contents', 2404), ('Surfer', 2405), ('stopping', 2406), ('suspended', 2407), ('kites.', 2408), ('foot.', 2409), ('carpet', 2410), ('cloth.', 2411), ('enter', 2412), ('signal', 2413), ('chest', 2414), ('chickens', 2415), ('freshly', 2416), ('teenager', 2417), ('traffic.', 2418), ('cop', 2419), ('customers', 2420), ('pedestrians.', 2421), ('cute', 2422), ('girl.', 2423), ('macaroni', 2424), ('five', 2425), ('snowboards.', 2426), ('hose', 2427), ('On', 2428), ('placing', 2429), ('grinding', 2430), ('quiet', 2431), ('size', 2432), ('listening', 2433), ('downhill', 2434), ('roadside', 2435), ('outdoors', 2436), ('teen', 2437), ('flown', 2438), ('entree', 2439), ('cover', 2440), ('meat', 2441), ('corn', 2442), ('controller', 2443), ('MEN', 2444), ('BY', 2445), ('case', 2446), ('below.', 2447), ('farm.', 2448), ('patterned', 2449), ('helmet.', 2450), ('pine', 2451), ('roadway', 2452), ('Horse', 2453), ('grill', 2454), ('performs', 2455), ('watching.', 2456), ('display.', 2457), ('bear.', 2458), ('Japanese', 2459), ('fighter', 2460), ('stretches', 2461), ('wind', 2462), ('split', 2463), ('section', 2464), ('controller.', 2465), ('blanket', 2466), ('planes', 2467), ('hangar.', 2468), ('smart', 2469), ('peeled', 2470), ('egg', 2471), ('policeman', 2472), ('beds', 2473), ('blankets', 2474), ('factory', 2475), ('control', 2476), ('polka', 2477), ('dot', 2478), ('uniforms', 2479), ('grocery', 2480), ('signals', 2481), ('pillow', 2482), ('stoplight', 2483), ('TV.', 2484), ('museum', 2485), ('steep', 2486), ('bottle.', 2487), ('tables,', 2488), ('story', 2489), ('rail.', 2490), ('words', 2491), ('soda.', 2492), ('Assorted', 2493), ('directing', 2494), ('eggs', 2495), ('benches.', 2496), ('positioned', 2497), ('straw', 2498), ('thing', 2499), ('selection', 2500), ('veggies', 2501), ('dresser', 2502), ('television,', 2503), ('produce', 2504), ('Grey', 2505), ('decor', 2506), ('skies.', 2507), ('range.', 2508), ('trucks.', 2509), ('microphone.', 2510), ('sandwich', 2511), ('apartment.', 2512), ('text', 2513), ('place.', 2514), ('aluminum', 2515), ('hay', 2516), ('oncoming', 2517), ('money', 2518), ('mug', 2519), ('extremely', 2520), ('sale', 2521), ('cakes', 2522), ('tagged', 2523), ('barbecue', 2524), ('midst', 2525), ('site', 2526), ('Dog', 2527), ('roaming', 2528), ('streets', 2529), ('road,', 2530), ('figurine', 2531), ('Santa', 2532), ('written', 2533), ('bouquet', 2534), ('driver', 2535), ('steering', 2536), ('ring', 2537), ('fork', 2538), ('trees,', 2539), ('circle', 2540), ('adorned', 2541), ('baked', 2542), ('remote.', 2543), ('taxi', 2544), ('Cows', 2545), ('man,', 2546), ('shades', 2547), ('pastry.', 2548), ('order', 2549), ('collage', 2550), ('sideways', 2551), ('foreground', 2552), ('break', 2553), ('suite', 2554), ('faced', 2555), ('trailer.', 2556), ('herd', 2557), ('Food', 2558), ('mouse', 2559), ('spotted', 2560), ('quilt', 2561), ('vest', 2562), ('hay.', 2563), ('green,', 2564), ('pointing', 2565), ('jacket.', 2566), ('devices.', 2567), ('decorations.', 2568), ('American', 2569), ('labeled', 2570), ('sale.', 2571), ('straight', 2572), ('check', 2573), (\"children's\", 2574), ('barn.', 2575), ('quite', 2576), ('bit', 2577), ('neck', 2578), ('third', 2579), ('sandwiches', 2580), ('pug', 2581), ('fur', 2582), ('trunk.', 2583), ('cops', 2584), ('greens', 2585), ('backyard.', 2586), ('liquid.', 2587), ('snowboarder', 2588), ('meeting', 2589), ('bites', 2590), ('monitors', 2591), ('stacks', 2592), ('Vegetables', 2593), ('tour', 2594), ('army', 2595), ('EATING', 2596), ('leads', 2597), ('frosting', 2598), ('IT', 2599), ('doubles', 2600), ('YOUNG', 2601), ('TOP', 2602), ('camping', 2603), ('papers.', 2604), ('tomatoes,', 2605), ('backyard', 2606), ('grabbing', 2607), ('Car', 2608), ('us', 2609), ('cake,', 2610), ('beverage.', 2611), ('parts', 2612), ('layer', 2613), ('shaking', 2614), ('too', 2615), ('sort', 2616), ('flip', 2617), ('neighborhood', 2618), ('on,', 2619), ('had', 2620), ('portable', 2621), ('pan.', 2622), ('skates', 2623), ('pastries', 2624), ('audience', 2625), ('pizzas', 2626), ('baking', 2627), ('sheets.', 2628), ('rural', 2629), ('ahead', 2630), ('dozen', 2631), ('approaching', 2632), ('layered', 2633), ('ribbon', 2634), ('beds.', 2635), ('telling', 2636), ('cups.', 2637), ('speaking', 2638), ('colors.', 2639), ('skillet', 2640), ('calico', 2641), ('business', 2642), ('railing.', 2643), ('crosses', 2644), ('cafe.', 2645), ('dog,', 2646), ('sun.', 2647), ('Park', 2648), ('cellular', 2649), ('device', 2650), ('extended', 2651), ('touching', 2652), ('sprinkles', 2653), ('steps.', 2654), ('deck.', 2655), ('jump.', 2656), ('pavement.', 2657), ('unmade', 2658), ('individuals', 2659), ('bookshelf', 2660), ('hotdogs', 2661), ('backs', 2662), ('photograph.', 2663), ('left.', 2664), ('wading', 2665), ('sprinkled', 2666), ('pies', 2667), ('men.', 2668), ('card', 2669), ('paddle', 2670), ('inflatable', 2671), ('heads', 2672), ('bakery', 2673), ('LOT', 2674), ('GRASS', 2675), ('BOY', 2676), ('lemon', 2677), ('skirt', 2678), ('produce.', 2679), ('DOG', 2680), ('CAT', 2681), ('eats', 2682), ('apple.', 2683), ('gate.', 2684), ('scissors,', 2685), ('says', 2686), ('monitor.', 2687), ('cream.', 2688), ('paddling', 2689), ('duck', 2690), ('much', 2691), ('pie', 2692), ('classic', 2693), ('leaf', 2694), ('SNOW', 2695), ('HORSE', 2696), ('banner', 2697), ('interacting', 2698), ('motorcyclist', 2699), ('scarf', 2700), ('CITY', 2701), ('piled', 2702), ('signs,', 2703), ('leaves.', 2704), ('more', 2705), ('war', 2706), ('shoes', 2707), ('couches,', 2708), ('infant', 2709), ('birds.', 2710), ('stage', 2711), ('eagle', 2712), ('off.', 2713), ('scissors.', 2714), ('sails', 2715), ('led', 2716), ('orange.', 2717), ('shots', 2718), ('rocks.', 2719), ('phones.', 2720), ('Snow', 2721), ('elevated', 2722), ('stained', 2723), ('Snowboarder', 2724), ('course', 2725), ('heads.', 2726), ('highway', 2727), ('position.', 2728), ('letters', 2729), ('soaring', 2730), ('tractor', 2731), ('He', 2732), ('ship.', 2733), ('rocks', 2734), ('pie.', 2735), ('Brown', 2736), ('shoe', 2737), ('leaping', 2738), ('carrots.', 2739), ('raised', 2740), ('pairs', 2741), ('completely', 2742), ('now', 2743), ('protective', 2744), ('buttons', 2745), ('hold', 2746), ('tower', 2747), ('Closeup', 2748), ('jackets', 2749), ('happily', 2750), ('carrots', 2751), ('frame.', 2752), ('flag', 2753), ('Oranges', 2754), ('suitcases', 2755), ('icing', 2756), ('nuts', 2757), ('fallen', 2758), ('tarmac', 2759), ('toothpaste', 2760), ('stance', 2761), ('caption', 2762), ('for.', 2763), ('tram', 2764), ('forested', 2765), ('landscape', 2766), ('fat', 2767), ('cones.', 2768), ('semi', 2769), ('itself.', 2770), ('distant', 2771), ('baggage', 2772), ('Skier', 2773), ('loaf', 2774), ('Skateboarder', 2775), ('signal.', 2776), ('court', 2777), ('racquet.', 2778), ('wheelchair', 2779), ('tin', 2780), ('leather', 2781), ('napkin', 2782), (',', 2783), ('3', 2784), ('countryside.', 2785), ('bagel', 2786), ('painting.', 2787), ('drawing', 2788), ('fork.', 2789), ('wear', 2790), ('bank.', 2791), ('elaborate', 2792), ('microphone', 2793), ('Street.', 2794), ('weather', 2795), ('objects.', 2796), ('backpacks', 2797), ('plush', 2798), ('frying', 2799), ('lighthouse', 2800), ('tunnel', 2801), ('knees', 2802), ('stretched', 2803), ('That', 2804), ('ones', 2805), ('turn.', 2806), ('come', 2807), ('button', 2808), ('tunnel.', 2809), ('such', 2810), ('teams', 2811), ('peppers.', 2812), ('village.', 2813), ('sharp', 2814), ('lower', 2815), ('canoe', 2816), ('roadway.', 2817), ('piano', 2818), ('cooling', 2819), ('market', 2820), ('sort.', 2821), ('racing', 2822), ('run.', 2823), ('bench,', 2824), ('lifting', 2825), ('half.', 2826), ('stickers', 2827), ('cellphones', 2828), ('laptops.', 2829), ('steam', 2830), ('tasting', 2831), ('fuzzy', 2832), ('hospital', 2833), ('snow,', 2834), ('houses.', 2835), ('tent.', 2836), ('tablecloth.', 2837), ('lettuce', 2838), ('She', 2839), ('monitor,', 2840), ('eyes', 2841), ('animals.', 2842), ('strawberry', 2843), ('disc.', 2844), ('shallow', 2845), ('Birds', 2846), ('formation', 2847), ('jockey', 2848), ('lonely', 2849), ('building,', 2850), ('Wii', 2851), ('hugging', 2852), ('aged', 2853), ('turns', 2854), ('point', 2855), ('pillows.', 2856), ('learning', 2857), ('remotes.', 2858), ('onion', 2859), ('BOARD', 2860), ('belt', 2861), ('LARGE', 2862), ('plate,', 2863), ('ski.', 2864), ('package', 2865), ('staircase', 2866), ('twin', 2867), ('foil', 2868), ('soda', 2869), ('platter.', 2870), ('roll.', 2871), ('batter', 2872), ('when', 2873), ('flock', 2874), ('base.', 2875), ('casserole', 2876), ('waiting.', 2877), ('Empty', 2878), ('bamboo', 2879), ('another.', 2880), ('slides', 2881), ('shoe.', 2882), ('glowing', 2883), ('computers.', 2884), ('trunks', 2885), ('Police', 2886), ('napkin.', 2887), ('electrical', 2888), ('rails', 2889), ('conference', 2890), ('step', 2891), ('ladder', 2892), ('signage', 2893), ('Baby', 2894), ('logo', 2895), ('trays', 2896), ('sailboats', 2897), ('figure', 2898), ('exhibit', 2899), ('keep', 2900), ('flags.', 2901), ('cakes.', 2902), ('breaking', 2903), ('museum.', 2904), ('Hot', 2905), ('use.', 2906), ('wetsuit', 2907), ('mustard', 2908), ('animal.', 2909), ('These', 2910), ('sandwiches.', 2911), ('case.', 2912), ('juice', 2913), ('directions.', 2914), ('platter', 2915), ('growing', 2916), ('bull', 2917), ('horns', 2918), ('sticks.', 2919), ('carriage.', 2920), ('movie', 2921), ('sport', 2922), ('raw', 2923), ('engaged', 2924), ('dolls', 2925), ('sill', 2926), ('seagulls', 2927), ('lobby', 2928), ('greeting', 2929), ('cows.', 2930), ('marked', 2931), ('am', 2932), ('unable', 2933), ('soldiers', 2934), ('device.', 2935), ('juice.', 2936), ('computer,', 2937), ('chili', 2938), ('onlookers', 2939), ('plant.', 2940), ('main', 2941), ('elephants', 2942), ('dessert', 2943), ('cereal', 2944), ('carrots,', 2945), ('fans', 2946), ('elephants.', 2947), ('milk.', 2948), ('sticks', 2949), ('cool', 2950), ('THIS', 2951), ('couches', 2952), ('Plates', 2953), ('pathway', 2954), ('lamb', 2955), ('cage', 2956), ('papers', 2957), ('grab', 2958), ('jetliner', 2959), ('runway.', 2960), ('wheels.', 2961), ('sheep', 2962), ('tents', 2963), ('net', 2964), ('carpeted', 2965), ('calm', 2966), ('geese', 2967), ('Motorcycles', 2968), ('flower.', 2969), ('noodles,', 2970), ('peppers,', 2971), ('tomatoes.', 2972), ('colorfully', 2973), ('comforter.', 2974), ('tags', 2975), ('busses', 2976), ('comforter', 2977), ('roast', 2978), ('butter', 2979), ('sheets', 2980), ('waving', 2981), ('midair', 2982), ('noodles', 2983), ('dipping', 2984), ('land.', 2985), ('utility', 2986), ('sheet', 2987), ('railway', 2988), ('indoors.', 2989), ('sailboat', 2990), ('goat', 2991), ('cage.', 2992), ('pitchers', 2993), ('ledge.', 2994), ('tennis.', 2995), ('church.', 2996), ('outfits', 2997), ('bat', 2998), ('church', 2999), ('crust', 3000), ('bat.', 3001), ('leave', 3002), ('multi-colored', 3003), ('mushrooms', 3004), ('partly', 3005), ('travels', 3006), ('pond.', 3007), ('band', 3008), ('knife,', 3009), ('rocky', 3010), ('meters', 3011), ('notes', 3012), ('throwing', 3013), ('disc', 3014), ('bends', 3015), ('see.', 3016), ('black,', 3017), ('capped', 3018), ('pad', 3019), ('statues', 3020), ('squatting', 3021), ('hills', 3022), ('amid', 3023), ('do', 3024), ('blurred', 3025), ('barren', 3026), ('fishing', 3027), ('towed', 3028), ('jeep', 3029), ('Delta', 3030), ('Airlines', 3031), ('image.', 3032), ('surf.', 3033), ('silly', 3034), ('gate', 3035), ('hat,', 3036), ('dry', 3037), ('desert', 3038), ('berries', 3039), ('consists', 3040), ('towing', 3041), ('para', 3042), ('match.', 3043), ('stadium.', 3044), ('travelling', 3045), ('Adults', 3046), ('strawberries', 3047), ('menu', 3048), ('red,', 3049), ('buildings,', 3050), ('younger', 3051), ('steer', 3052), ('monkey', 3053), ('Road', 3054), ('pigeons', 3055), ('owl', 3056), ('pond', 3057), ('practice', 3058), ('grouped', 3059), ('grapes', 3060), ('golf', 3061), ('apples.', 3062), ('flight', 3063), ('flags', 3064), ('dancing', 3065), ('desktop', 3066), ('rope', 3067), ('racquet', 3068), ('guard', 3069), ('tag', 3070), ('owner', 3071), ('sushi', 3072), ('salad', 3073), ('jar', 3074), ('shoreline', 3075), ('wake', 3076), ('barefoot', 3077), ('topping', 3078), ('paintings', 3079), ('healthy', 3080), ('excited', 3081), ('private', 3082), ('runs', 3083), ('racket.', 3084), ('uniformed', 3085), ('football', 3086), ('loading', 3087), ('huddled', 3088), ('smelling', 3089), ('tomato', 3090), ('At', 3091), ('beverages.', 3092), ('these', 3093), ('wings', 3094), ('RED', 3095), ('deck', 3096), ('blocking', 3097), ('action', 3098), ('stare', 3099), ('It', 3100), ('glove.', 3101), ('metro', 3102), ('toppings.', 3103), ('watched', 3104), ('arrow', 3105), ('pizzas.', 3106), ('swing', 3107), ('thick', 3108), ('directions', 3109), ('santa', 3110), ('rice', 3111), ('clay', 3112), ('vases.', 3113), ('return', 3114), ('numbers', 3115), ('sneakers', 3116), ('Assortment', 3117), ('tracks.', 3118), ('extra', 3119), ('net.', 3120), ('foliage.', 3121), ('women.', 3122), ('crates', 3123), ('tube', 3124), ('catcher', 3125), ('classroom', 3126), ('transport', 3127), ('PLATE', 3128), ('zebra.', 3129), ('eat.', 3130), ('boy.', 3131), ('&', 3132), ('onions,', 3133), ('bigger', 3134), ('stretching', 3135), ('competition.', 3136), ('apart', 3137), ('catcher,', 3138), ('umpire', 3139), ('Bright', 3140), ('alone.', 3141), ('parachute', 3142), ('floats', 3143), ('sheep.', 3144), ('Baseball', 3145), ('hit.', 3146), ('oriental', 3147), ('canal', 3148), ('wing', 3149), ('rope.', 3150), ('Yellow', 3151), ('bushes.', 3152), ('flowers,', 3153), ('fighting', 3154), ('sweatshirt', 3155), ('ears.', 3156), ('tending', 3157), ('engine', 3158), ('parrot', 3159), ('hangar', 3160), ('flight.', 3161), ('knitted', 3162), (\"elephant's\", 3163), ('waterway', 3164), ('carousel', 3165), ('bookshelf.', 3166), ('stand.', 3167), ('biting', 3168), ('sandwich.', 3169), ('backdrop', 3170), ('crouches', 3171), ('here.', 3172), ('mother.', 3173), ('cycles', 3174), ('language', 3175), ('policemen', 3176), ('strike', 3177), ('pony', 3178), ('note', 3179), ('milk', 3180), ('pitched', 3181), ('foil.', 3182), ('thrown', 3183), ('rocking', 3184), ('float', 3185), ('branch', 3186), ('craft', 3187), ('curious', 3188), ('sleep', 3189), ('concrete.', 3190), ('landed', 3191), ('plains', 3192), ('string.', 3193), ('groups', 3194), ('hiking', 3195), ('valley', 3196), ('trolley', 3197), ('serves', 3198), ('leaps', 3199), ('lamps', 3200), ('chicken.', 3201), ('SKATE', 3202), ('bush', 3203), ('raising', 3204), ('Flowers', 3205), ('patio.', 3206), ('monitors.', 3207), ('FOOD', 3208), ('arena', 3209), ('coats', 3210), ('sprinkles.', 3211), ('hauling', 3212), ('French', 3213), ('fries.', 3214), ('guitar', 3215), ('waters', 3216), ('stream', 3217), ('doughnuts.', 3218), ('lie', 3219), ('chips', 3220), ('No', 3221), ('They', 3222), ('friend', 3223), ('WATER', 3224), ('audience.', 3225), ('nose.', 3226), ('sandwich,', 3227), ('fries,', 3228), ('pickle', 3229), ('Here', 3230), ('cathedral', 3231), ('Kites', 3232), ('trains', 3233), ('water,', 3234), ('hotdog.', 3235), ('hotdog', 3236), ('flooded', 3237), ('caution', 3238), ('evening.', 3239), ('ridding', 3240), ('guitar.', 3241), ('grilled', 3242), ('sitting.', 3243), ('exhibit.', 3244), ('coach', 3245), ('tee', 3246), ('Pair', 3247), ('landscape.', 3248), ('lay', 3249), ('Airplane', 3250), ('Canadian', 3251), ('Spectators', 3252), ('Bus', 3253), ('motion', 3254), ('key', 3255), ('kicking', 3256), ('frisbe', 3257), ('direction.', 3258), ('melted', 3259), ('bun.', 3260), ('lettuce,', 3261), ('ketchup.', 3262), ('rock.', 3263), ('arena.', 3264), ('s', 3265), ('camera,', 3266), ('Female', 3267), ('tongue', 3268), ('baseball.', 3269), ('intently', 3270), ('Batter', 3271), ('unripe', 3272), ('oranges,', 3273), ('pitcher', 3274), ('sweet', 3275), ('candy', 3276), ('bunny', 3277), ('mitt', 3278), ('fruit,', 3279), ('towering', 3280), ('lemons', 3281), ('roses', 3282), ('eyes.', 3283), ('position', 3284), ('hind', 3285), ('legs.', 3286), ('Sheep', 3287), ('fruits.', 3288), ('tricks.', 3289), ('human', 3290), ('sunglasses.', 3291), ('overpass', 3292), ('plain.', 3293), ('pillows', 3294), ('will', 3295), ('lamp,', 3296), ('ties.', 3297), ('ostrich', 3298), ('hills.', 3299), ('caged', 3300), ('choppy', 3301), ('balls.', 3302), ('Parking', 3303), ('ham,', 3304), ('warning', 3305), ('carts', 3306), ('driven', 3307), ('tuxedo', 3308), ('disk', 3309), ('competition', 3310), ('winding', 3311), ('bushes', 3312), ('tiered', 3313), ('cliff.', 3314), ('toast', 3315), ('curve', 3316), ('class', 3317), ('foggy', 3318), ('dusty', 3319), ('share', 3320), ('surfing.', 3321), ('firetruck', 3322), ('poking', 3323), ('link', 3324), ('spraying', 3325), ('parade.', 3326), ('buggy', 3327), ('bullet', 3328), ('wilderness.', 3329), ('statue.', 3330), ('icing.', 3331), ('cherry', 3332), ('closely', 3333), ('finger', 3334), ('toppings', 3335), ('veggies.', 3336), ('tasty', 3337), ('player.', 3338), ('swan', 3339), ('village', 3340), ('bird.', 3341), ('wax', 3342), ('shapes', 3343), ('cubicle', 3344), ('jelly', 3345), ('beef', 3346), ('veggie', 3347), ('monument', 3348), ('cargo', 3349), ('figurines', 3350), ('roman', 3351), ('tie,', 3352), ('powdered', 3353), ('anchored', 3354), ('greenery.', 3355), ('ties', 3356), ('blood', 3357), ('unloading', 3358), ('circus', 3359), ('Living', 3360), ('sauce.', 3361), ('nightstand', 3362), ('racquets.', 3363), ('rackets', 3364), ('dead', 3365), ('TRAIN', 3366), ('peace', 3367), ('donkey', 3368), ('shake', 3369), ('mushroom', 3370), ('suitcases.', 3371), ('vast', 3372), ('cubs', 3373), ('fried', 3374), ('pushed', 3375), ('Boys', 3376), ('jumbo', 3377), ('logs', 3378), ('american', 3379), ('music', 3380), ('pen.', 3381), ('jersey', 3382), ('balances', 3383), ('glazed', 3384), ('spectators.', 3385), ('opposing', 3386), ('carrot', 3387), ('entertainment', 3388), ('harness', 3389), ('jets', 3390), ('course.', 3391), ('overcast', 3392), ('spots', 3393), ('donut.', 3394), ('Air', 3395), ('Force', 3396), ('Luggage', 3397), ('biplane', 3398), ('screens', 3399), ('clouds.', 3400), ('whipped', 3401), ('name', 3402), ('steeple', 3403), ('flatbed', 3404), ('graze', 3405), ('field,', 3406), ('flying.', 3407), ('vegetation', 3408), ('airline', 3409), ('formation.', 3410), ('freight', 3411), ('stands.', 3412), ('controls', 3413), ('tower.', 3414), ('Giraffe', 3415), ('US', 3416), ('freeway', 3417), ('jungle', 3418), ('perform', 3419), ('cushion', 3420), ('games', 3421), ('pasture.', 3422), ('Giraffes', 3423), ('system', 3424), ('dresser.', 3425), ('iced', 3426), ('Bunches', 3427), ('printer', 3428), ('flag.', 3429), ('Clock', 3430), ('grazing.', 3431), ('branches.', 3432), ('habitat', 3433), ('giraffes.', 3434), ('clocks', 3435), ('Elephants', 3436), ('wandering', 3437), ('Fresh', 3438), ('Elephant', 3439), ('necks', 3440), ('pieces.', 3441), ('rice.', 3442), ('stair', 3443), ('prop', 3444), ('uncooked', 3445), ('helicopter', 3446), ('wild.', 3447), ('toys.', 3448), ('branches', 3449), ('bulls', 3450), ('blankets.', 3451), ('Apples', 3452), ('horned', 3453), ('pitching', 3454), ('den', 3455), (\"giraffe's\", 3456), ('dried', 3457), ('shaded', 3458), ('castle', 3459), ('FIELD', 3460), ('goats', 3461), ('steak', 3462), ('Half', 3463), ('forks', 3464), ('stadium', 3465), ('crossing.', 3466), ('mouse,', 3467), ('calf', 3468), ('ears', 3469), ('keyboards', 3470), ('serve.', 3471), ('bun', 3472), ('stretch', 3473), ('air,', 3474), ('barn', 3475), ('called', 3476), ('Professional', 3477), ('lambs', 3478), ('meadow.', 3479), ('try', 3480), ('crane', 3481), ('eaten.', 3482), ('fries', 3483), ('mouse.', 3484), ('wilderness', 3485), ('tourists', 3486), ('rice,', 3487), ('spinach', 3488), ('controllers', 3489), ('halves', 3490), ('greenery', 3491), ('bears', 3492), ('balloon', 3493), ('Teddy', 3494), ('batting', 3495), ('bears.', 3496), ('sign,', 3497), ('hilly', 3498), ('carved', 3499), ('Stuffed', 3500), ('decked', 3501), ('musical', 3502), ('speakers', 3503), ('engines', 3504), ('Bird', 3505), ('bunk', 3506), ('slices.', 3507), ('Broccoli', 3508), ('feeder', 3509), ('country.', 3510), ('towers', 3511), ('hole.', 3512), ('rounding', 3513), ('meadow', 3514), ('farmers', 3515), ('valley.', 3516), ('countryside', 3517), ('muffin', 3518), ('wrapper.', 3519), ('Laptop', 3520), ('heart', 3521), ('remotes', 3522), ('o', 3523), ('team.', 3524), ('STOP', 3525), ('terrain.', 3526), ('Plate', 3527), ('wildlife', 3528), ('broccoli,', 3529), ('ketchup', 3530), ('ram', 3531), ('sugar', 3532), ('Signs', 3533), ('pork', 3534), ('mound', 3535), ('ham', 3536), ('zebras', 3537), ('habitat.', 3538), ('cases', 3539), ('Decker', 3540), ('vegetation.', 3541), ('obstacle', 3542), ('heard', 3543), ('Train', 3544), ('watering', 3545), ('Herd', 3546), ('parallel', 3547), ('chips.', 3548), ('coke', 3549), ('knee', 3550), ('SIGN', 3551), ('antelope', 3552), ('Zebras', 3553), ('branch.', 3554), ('price', 3555), ('pens', 3556), ('potatoes,', 3557), ('beans,', 3558), ('English', 3559), ('moored', 3560), ('cliff', 3561), (\"zebra's\", 3562), ('zebras.', 3563), ('fun.', 3564), ('gaming', 3565), ('cheesecake', 3566), ('pads', 3567), ('barbed', 3568), ('pin', 3569), ('conveyor', 3570), ('wires.', 3571), ('buns', 3572), ('bacon', 3573), ('wii', 3574), ('pitch', 3575), ('m', 3576), ('eggs.', 3577), ('sofa,', 3578), ('Nintendo', 3579), ('league', 3580), ('softball', 3581), ('Zebra', 3582), ('TENNIS', 3583), ('couches.', 3584), ('crib', 3585), ('Cattle', 3586), ('BED', 3587), ('sauce,', 3588), ('sausage,', 3589), ('eggs,', 3590), ('shrimp', 3591), ('sausage', 3592), ('chicken,', 3593), ('crest', 3594), ('jungle.', 3595), ('rough', 3596), ('deer', 3597), ('language.', 3598), ('BALL', 3599), ('bowling', 3600), ('log.', 3601), ('mound.', 3602), ('feeder.', 3603), ('hamburger', 3604), ('burger', 3605), ('incoming', 3606), ('carrot.', 3607), ('play.', 3608), ('volley', 3609), ('olives', 3610), ('locomotive', 3611), ('poised', 3612), ('polar', 3613), ('Boats', 3614), ('swans', 3615), ('bats', 3616), ('catchers', 3617), ('beak', 3618), ('mitt.', 3619), ('carriages', 3620), ('Pizza', 3621), ('pitch.', 3622), ('tusks', 3623), ('BASEBALL', 3624), ('swung', 3625), ('batter.', 3626), ('Donuts', 3627), ('alarm', 3628), ('runner', 3629), ('controls.', 3630), ('pepperoni', 3631), ('potato', 3632), ('salad,', 3633), ('nintendo', 3634), ('headboard', 3635), ('cub', 3636), ('soccer.', 3637), ('bread,', 3638), ('claim', 3639), ('grizzly', 3640), ('panda', 3641), ('returning', 3642), ('frisbees', 3643), ('cheese,', 3644), ('rackets.', 3645), ('grapes,', 3646), ('hitter', 3647), ('skiier', 3648), ('pancakes', 3649), ('batter,', 3650), ('mushrooms,', 3651), ('cauliflower', 3652), ('pizza,', 3653), ('cheesy', 3654), ('pickles', 3655), ('olives,', 3656), ('PIZZA', 3657), ('windsurfing', 3658), ('racquets', 3659), ('grandfather', 3660), ('Wii.', 3661), ('WII', 3662), ('controllers.', 3663)])"
            ]
          },
          "metadata": {
            "tags": []
          },
          "execution_count": 23
        }
      ]
    },
    {
      "cell_type": "code",
      "metadata": {
        "id": "986mnOI9Ebt3",
        "outputId": "1425e688-61bb-4404-8191-b73fc560ccbf",
        "colab": {
          "base_uri": "https://localhost:8080/",
          "height": 36
        }
      },
      "source": [
        "embedding_matrix.shape"
      ],
      "execution_count": null,
      "outputs": [
        {
          "output_type": "execute_result",
          "data": {
            "text/plain": [
              "(3663, 200)"
            ]
          },
          "metadata": {
            "tags": []
          },
          "execution_count": 24
        }
      ]
    },
    {
      "cell_type": "markdown",
      "metadata": {
        "id": "vQt7UeinxIS2"
      },
      "source": [
        "### Pre-Encode Images with InceptionV3"
      ]
    },
    {
      "cell_type": "code",
      "metadata": {
        "id": "XW5xW33OxD3X"
      },
      "source": [
        "  encode_model = InceptionV3(weights='imagenet')\n",
        "  encode_model = Model(encode_model.input, encode_model.layers[-2].output)\n",
        "  WIDTH = 299\n",
        "  HEIGHT = 299\n",
        "  OUTPUT_DIM = 2048\n",
        "  preprocess_input = tensorflow.keras.applications.inception_v3.preprocess_input"
      ],
      "execution_count": null,
      "outputs": []
    },
    {
      "cell_type": "code",
      "metadata": {
        "id": "7ol_tmlVxQTJ"
      },
      "source": [
        "def encodeImage(img):\n",
        "  # Resize all images to a standard size (specified bythe image \n",
        "  # encoding network)\n",
        "  img = img.resize((WIDTH, HEIGHT), Image.ANTIALIAS)\n",
        "  # Convert a PIL image to a numpy array\n",
        "  x = tensorflow.keras.preprocessing.image.img_to_array(img)\n",
        "  # Expand to 2D array\n",
        "  x = np.expand_dims(x, axis=0)\n",
        "  # Perform any preprocessing needed by InceptionV3 or others\n",
        "  x = preprocess_input(x)\n",
        "  # Call InceptionV3 (or other) to extract the smaller feature set for \n",
        "  # the image.\n",
        "  x = encode_model.predict(x) # Get the encoding vector for the image\n",
        "  # Shape to correct form to be accepted by LSTM captioning network.\n",
        "  x = np.reshape(x, OUTPUT_DIM )\n",
        "  return x"
      ],
      "execution_count": null,
      "outputs": []
    },
    {
      "cell_type": "code",
      "metadata": {
        "id": "HjMp6n8gxTMy",
        "outputId": "9d46bd15-4929-422c-88bb-6e606330c6c6",
        "colab": {
          "base_uri": "https://localhost:8080/",
          "height": 36
        }
      },
      "source": [
        "start = time()\n",
        "encoding_train = {}\n",
        "for id in tqdm(train_image_paths):\n",
        "  image_path = os.path.join(id)\n",
        "  img = tensorflow.keras.preprocessing.image.load_img(image_path, \\\n",
        "            target_size=(HEIGHT, WIDTH))\n",
        "  encoding_train[id] = encodeImage(img)\n"
      ],
      "execution_count": null,
      "outputs": [
        {
          "output_type": "stream",
          "text": [
            "100%|██████████| 81783/81783 [2:11:17<00:00, 10.38it/s]\n"
          ],
          "name": "stderr"
        }
      ]
    },
    {
      "cell_type": "code",
      "metadata": {
        "id": "WMeQQhlfyEj5",
        "outputId": "2f250791-f82d-49ca-a510-32f2d0a76209",
        "colab": {
          "base_uri": "https://localhost:8080/",
          "height": 36
        }
      },
      "source": [
        "#start = time()\n",
        "encoding_test = {}\n",
        "for id in tqdm(test_image_paths):\n",
        "  image_path = os.path.join(id)\n",
        "  img = tensorflow.keras.preprocessing.image.load_img(image_path, \\\n",
        "                target_size=(HEIGHT, WIDTH))\n",
        "  encoding_test[id] = encodeImage(img)"
      ],
      "execution_count": null,
      "outputs": [
        {
          "output_type": "stream",
          "text": [
            "100%|██████████| 1000/1000 [01:35<00:00, 10.43it/s]\n"
          ],
          "name": "stderr"
        }
      ]
    },
    {
      "cell_type": "code",
      "metadata": {
        "id": "nLd6iLJJDXhu",
        "outputId": "c77189de-398d-49a3-abd2-860f7f5816b4",
        "colab": {
          "base_uri": "https://localhost:8080/",
          "height": 36
        }
      },
      "source": [
        "len(encoding_train)"
      ],
      "execution_count": null,
      "outputs": [
        {
          "output_type": "execute_result",
          "data": {
            "text/plain": [
              "81783"
            ]
          },
          "metadata": {
            "tags": []
          },
          "execution_count": 30
        }
      ]
    },
    {
      "cell_type": "markdown",
      "metadata": {
        "id": "6LY4xbJpCZtv"
      },
      "source": [
        "### Train sample generator function"
      ]
    },
    {
      "cell_type": "code",
      "metadata": {
        "id": "w8iD5TcnCYaT"
      },
      "source": [
        "def data_generator(descriptions, photos, wordtoidx, \\\n",
        "                   max_length, num_photos_per_batch):\n",
        "  # x1 - Training data for photos\n",
        "  # x2 - The caption that goes with each photo\n",
        "  # y - The predicted rest of the caption\n",
        "  x1, x2, y = [], [], []\n",
        "  n=0\n",
        "  while True:\n",
        "    for key, desc_list in descriptions.items():\n",
        "      n+=1\n",
        "      photo = photos[key+'.jpg']\n",
        "      # Each photo has 5 descriptions\n",
        "      for desc in desc_list:\n",
        "        # Convert each word into a list of sequences.\n",
        "        seq = [wordtoidx[word] for word in desc.split(' ') \\\n",
        "               if word in wordtoidx]\n",
        "        # Generate a training case for every possible sequence and outcome\n",
        "        for i in range(1, len(seq)):\n",
        "          in_seq, out_seq = seq[:i], seq[i]\n",
        "          in_seq = pad_sequences([in_seq], maxlen=max_length)[0]\n",
        "          out_seq = to_categorical([out_seq], num_classes=vocab_size)[0]\n",
        "          x1.append(photo)\n",
        "          x2.append(in_seq)\n",
        "          y.append(out_seq)\n",
        "      if n==num_photos_per_batch:\n",
        "        yield ([np.array(x1), np.array(x2)], np.array(y))\n",
        "        x1, x2, y = [], [], []\n",
        "        n=0"
      ],
      "execution_count": null,
      "outputs": []
    },
    {
      "cell_type": "markdown",
      "metadata": {
        "id": "wNMGS_O3CiKV"
      },
      "source": [
        "### Define Model"
      ]
    },
    {
      "cell_type": "code",
      "metadata": {
        "id": "190BKD07Chrj",
        "outputId": "6b9c12d0-2ff9-49ab-9c86-fa76ed9cd5e8",
        "colab": {
          "base_uri": "https://localhost:8080/",
          "height": 484
        }
      },
      "source": [
        "inputs1 = Input(shape=(OUTPUT_DIM,))\n",
        "fe1 = Dropout(0.1)(inputs1)\n",
        "fe2 = Dense(256, activation='relu')(fe1)\n",
        "inputs2 = Input(shape=(max_length,))\n",
        "se1 = Embedding(vocab_size, embedding_dim, mask_zero=True)(inputs2)\n",
        "se2 = Dropout(0.1)(se1)\n",
        "se3 = LSTM(256)(se2)\n",
        "decoder1 = add([fe2, se3])\n",
        "decoder2 = Dense(256, activation='relu')(decoder1)\n",
        "outputs = Dense(vocab_size, activation='softmax')(decoder2)\n",
        "caption_model = Model(inputs=[inputs1, inputs2], outputs=outputs)\n",
        "caption_model.summary()"
      ],
      "execution_count": null,
      "outputs": [
        {
          "output_type": "stream",
          "text": [
            "Model: \"functional_5\"\n",
            "__________________________________________________________________________________________________\n",
            "Layer (type)                    Output Shape         Param #     Connected to                     \n",
            "==================================================================================================\n",
            "input_6 (InputLayer)            [(None, 49)]         0                                            \n",
            "__________________________________________________________________________________________________\n",
            "input_5 (InputLayer)            [(None, 2048)]       0                                            \n",
            "__________________________________________________________________________________________________\n",
            "embedding_1 (Embedding)         (None, 49, 200)      732600      input_6[0][0]                    \n",
            "__________________________________________________________________________________________________\n",
            "dense_3 (Dense)                 (None, 256)          524544      input_5[0][0]                    \n",
            "__________________________________________________________________________________________________\n",
            "lstm_1 (LSTM)                   (None, 256)          467968      embedding_1[0][0]                \n",
            "__________________________________________________________________________________________________\n",
            "add_1 (Add)                     (None, 256)          0           dense_3[0][0]                    \n",
            "                                                                 lstm_1[0][0]                     \n",
            "__________________________________________________________________________________________________\n",
            "dense_4 (Dense)                 (None, 256)          65792       add_1[0][0]                      \n",
            "__________________________________________________________________________________________________\n",
            "dense_5 (Dense)                 (None, 3663)         941391      dense_4[0][0]                    \n",
            "==================================================================================================\n",
            "Total params: 2,732,295\n",
            "Trainable params: 2,732,295\n",
            "Non-trainable params: 0\n",
            "__________________________________________________________________________________________________\n"
          ],
          "name": "stdout"
        }
      ]
    },
    {
      "cell_type": "code",
      "metadata": {
        "id": "QvghAVIXC0q4"
      },
      "source": [
        "caption_model.layers[2].set_weights([embedding_matrix])\n",
        "caption_model.layers[2].trainable = False\n",
        "caption_model.compile(loss='categorical_crossentropy', optimizer='adam')"
      ],
      "execution_count": null,
      "outputs": []
    },
    {
      "cell_type": "code",
      "metadata": {
        "id": "9z3uHQkMGhdQ"
      },
      "source": [
        "def generateCaption(photo):\n",
        "    in_text = START\n",
        "    for i in range(max_length):\n",
        "        sequence = [wordtoidx[w] for w in in_text.split() if w in wordtoidx]\n",
        "        sequence = pad_sequences([sequence], maxlen=max_length)\n",
        "        yhat = caption_model.predict([photo,sequence], verbose=0)\n",
        "        yhat = np.argmax(yhat)\n",
        "        word = idxtoword[yhat]\n",
        "        in_text += ' ' + word\n",
        "        if word == STOP:\n",
        "            break\n",
        "    final = in_text.split()\n",
        "    final = final[1:-1]\n",
        "    final = ' '.join(final)\n",
        "    return final"
      ],
      "execution_count": null,
      "outputs": []
    },
    {
      "cell_type": "code",
      "metadata": {
        "id": "rkXjBugxC65i",
        "outputId": "27a5ce1e-be9f-487f-beeb-6e302d5a0858",
        "colab": {
          "base_uri": "https://localhost:8080/",
          "height": 553
        }
      },
      "source": [
        "number_pics_per_batch = 16\n",
        "steps = len(train_descriptions)//number_pics_per_batch\n",
        "pics2 = collections.defaultdict()\n",
        "\n",
        "for z in range(20,50):\n",
        "      pics2[list(encoding_test.keys())[z]] = list()\n",
        "EPOCHS = 30\n",
        "model_path = os.path.join(f'caption-model-final-ndo.hdf5')\n",
        "for i in range(EPOCHS):\n",
        "  generator = data_generator(train_descriptions, encoding_train, \n",
        "                    wordtoidx, max_length, number_pics_per_batch)\n",
        "  caption_model.fit(generator, epochs=1, \n",
        "                            steps_per_epoch=steps, verbose=1)\n",
        "  if i % 1 == 0:  \n",
        "    caption_model.save_weights(model_path)\n",
        "    for pic in pics2.keys():\n",
        "      image = encoding_test[pic].reshape((1,OUTPUT_DIM))\n",
        "      pics2[pic].append(generateCaption(image))\n"
      ],
      "execution_count": null,
      "outputs": [
        {
          "output_type": "stream",
          "text": [
            "5111/5111 [==============================] - 1285s 251ms/step - loss: 2.9959\n",
            "5111/5111 [==============================] - 1299s 254ms/step - loss: 2.7334\n",
            "5111/5111 [==============================] - 1301s 255ms/step - loss: 2.6437\n",
            "5111/5111 [==============================] - 1305s 255ms/step - loss: 2.5929\n",
            "5111/5111 [==============================] - 1311s 256ms/step - loss: 2.5585\n",
            "5111/5111 [==============================] - 1318s 258ms/step - loss: 2.5330\n",
            "5111/5111 [==============================] - 1293s 253ms/step - loss: 2.5130\n",
            " 796/5111 [===>..........................] - ETA: 18:12 - loss: 2.6133"
          ],
          "name": "stdout"
        },
        {
          "output_type": "error",
          "ename": "KeyboardInterrupt",
          "evalue": "ignored",
          "traceback": [
            "\u001b[0;31m---------------------------------------------------------------------------\u001b[0m",
            "\u001b[0;31mKeyboardInterrupt\u001b[0m                         Traceback (most recent call last)",
            "\u001b[0;32m<ipython-input-50-13b7da207afc>\u001b[0m in \u001b[0;36m<module>\u001b[0;34m()\u001b[0m\n\u001b[1;32m     11\u001b[0m                     wordtoidx, max_length, number_pics_per_batch)\n\u001b[1;32m     12\u001b[0m   caption_model.fit(generator, epochs=1, \n\u001b[0;32m---> 13\u001b[0;31m                             steps_per_epoch=steps, verbose=1)\n\u001b[0m\u001b[1;32m     14\u001b[0m   \u001b[0;32mif\u001b[0m \u001b[0mi\u001b[0m \u001b[0;34m%\u001b[0m \u001b[0;36m1\u001b[0m \u001b[0;34m==\u001b[0m \u001b[0;36m0\u001b[0m\u001b[0;34m:\u001b[0m\u001b[0;34m\u001b[0m\u001b[0;34m\u001b[0m\u001b[0m\n\u001b[1;32m     15\u001b[0m     \u001b[0mcaption_model\u001b[0m\u001b[0;34m.\u001b[0m\u001b[0msave_weights\u001b[0m\u001b[0;34m(\u001b[0m\u001b[0mmodel_path\u001b[0m\u001b[0;34m)\u001b[0m\u001b[0;34m\u001b[0m\u001b[0;34m\u001b[0m\u001b[0m\n",
            "\u001b[0;32m/usr/local/lib/python3.6/dist-packages/tensorflow/python/keras/engine/training.py\u001b[0m in \u001b[0;36m_method_wrapper\u001b[0;34m(self, *args, **kwargs)\u001b[0m\n\u001b[1;32m    106\u001b[0m   \u001b[0;32mdef\u001b[0m \u001b[0m_method_wrapper\u001b[0m\u001b[0;34m(\u001b[0m\u001b[0mself\u001b[0m\u001b[0;34m,\u001b[0m \u001b[0;34m*\u001b[0m\u001b[0margs\u001b[0m\u001b[0;34m,\u001b[0m \u001b[0;34m**\u001b[0m\u001b[0mkwargs\u001b[0m\u001b[0;34m)\u001b[0m\u001b[0;34m:\u001b[0m\u001b[0;34m\u001b[0m\u001b[0;34m\u001b[0m\u001b[0m\n\u001b[1;32m    107\u001b[0m     \u001b[0;32mif\u001b[0m \u001b[0;32mnot\u001b[0m \u001b[0mself\u001b[0m\u001b[0;34m.\u001b[0m\u001b[0m_in_multi_worker_mode\u001b[0m\u001b[0;34m(\u001b[0m\u001b[0;34m)\u001b[0m\u001b[0;34m:\u001b[0m  \u001b[0;31m# pylint: disable=protected-access\u001b[0m\u001b[0;34m\u001b[0m\u001b[0;34m\u001b[0m\u001b[0m\n\u001b[0;32m--> 108\u001b[0;31m       \u001b[0;32mreturn\u001b[0m \u001b[0mmethod\u001b[0m\u001b[0;34m(\u001b[0m\u001b[0mself\u001b[0m\u001b[0;34m,\u001b[0m \u001b[0;34m*\u001b[0m\u001b[0margs\u001b[0m\u001b[0;34m,\u001b[0m \u001b[0;34m**\u001b[0m\u001b[0mkwargs\u001b[0m\u001b[0;34m)\u001b[0m\u001b[0;34m\u001b[0m\u001b[0;34m\u001b[0m\u001b[0m\n\u001b[0m\u001b[1;32m    109\u001b[0m \u001b[0;34m\u001b[0m\u001b[0m\n\u001b[1;32m    110\u001b[0m     \u001b[0;31m# Running inside `run_distribute_coordinator` already.\u001b[0m\u001b[0;34m\u001b[0m\u001b[0;34m\u001b[0m\u001b[0;34m\u001b[0m\u001b[0m\n",
            "\u001b[0;32m/usr/local/lib/python3.6/dist-packages/tensorflow/python/keras/engine/training.py\u001b[0m in \u001b[0;36mfit\u001b[0;34m(self, x, y, batch_size, epochs, verbose, callbacks, validation_split, validation_data, shuffle, class_weight, sample_weight, initial_epoch, steps_per_epoch, validation_steps, validation_batch_size, validation_freq, max_queue_size, workers, use_multiprocessing)\u001b[0m\n\u001b[1;32m   1096\u001b[0m                 batch_size=batch_size):\n\u001b[1;32m   1097\u001b[0m               \u001b[0mcallbacks\u001b[0m\u001b[0;34m.\u001b[0m\u001b[0mon_train_batch_begin\u001b[0m\u001b[0;34m(\u001b[0m\u001b[0mstep\u001b[0m\u001b[0;34m)\u001b[0m\u001b[0;34m\u001b[0m\u001b[0;34m\u001b[0m\u001b[0m\n\u001b[0;32m-> 1098\u001b[0;31m               \u001b[0mtmp_logs\u001b[0m \u001b[0;34m=\u001b[0m \u001b[0mtrain_function\u001b[0m\u001b[0;34m(\u001b[0m\u001b[0miterator\u001b[0m\u001b[0;34m)\u001b[0m\u001b[0;34m\u001b[0m\u001b[0;34m\u001b[0m\u001b[0m\n\u001b[0m\u001b[1;32m   1099\u001b[0m               \u001b[0;32mif\u001b[0m \u001b[0mdata_handler\u001b[0m\u001b[0;34m.\u001b[0m\u001b[0mshould_sync\u001b[0m\u001b[0;34m:\u001b[0m\u001b[0;34m\u001b[0m\u001b[0;34m\u001b[0m\u001b[0m\n\u001b[1;32m   1100\u001b[0m                 \u001b[0mcontext\u001b[0m\u001b[0;34m.\u001b[0m\u001b[0masync_wait\u001b[0m\u001b[0;34m(\u001b[0m\u001b[0;34m)\u001b[0m\u001b[0;34m\u001b[0m\u001b[0;34m\u001b[0m\u001b[0m\n",
            "\u001b[0;32m/usr/local/lib/python3.6/dist-packages/tensorflow/python/eager/def_function.py\u001b[0m in \u001b[0;36m__call__\u001b[0;34m(self, *args, **kwds)\u001b[0m\n\u001b[1;32m    778\u001b[0m       \u001b[0;32melse\u001b[0m\u001b[0;34m:\u001b[0m\u001b[0;34m\u001b[0m\u001b[0;34m\u001b[0m\u001b[0m\n\u001b[1;32m    779\u001b[0m         \u001b[0mcompiler\u001b[0m \u001b[0;34m=\u001b[0m \u001b[0;34m\"nonXla\"\u001b[0m\u001b[0;34m\u001b[0m\u001b[0;34m\u001b[0m\u001b[0m\n\u001b[0;32m--> 780\u001b[0;31m         \u001b[0mresult\u001b[0m \u001b[0;34m=\u001b[0m \u001b[0mself\u001b[0m\u001b[0;34m.\u001b[0m\u001b[0m_call\u001b[0m\u001b[0;34m(\u001b[0m\u001b[0;34m*\u001b[0m\u001b[0margs\u001b[0m\u001b[0;34m,\u001b[0m \u001b[0;34m**\u001b[0m\u001b[0mkwds\u001b[0m\u001b[0;34m)\u001b[0m\u001b[0;34m\u001b[0m\u001b[0;34m\u001b[0m\u001b[0m\n\u001b[0m\u001b[1;32m    781\u001b[0m \u001b[0;34m\u001b[0m\u001b[0m\n\u001b[1;32m    782\u001b[0m       \u001b[0mnew_tracing_count\u001b[0m \u001b[0;34m=\u001b[0m \u001b[0mself\u001b[0m\u001b[0;34m.\u001b[0m\u001b[0m_get_tracing_count\u001b[0m\u001b[0;34m(\u001b[0m\u001b[0;34m)\u001b[0m\u001b[0;34m\u001b[0m\u001b[0;34m\u001b[0m\u001b[0m\n",
            "\u001b[0;32m/usr/local/lib/python3.6/dist-packages/tensorflow/python/eager/def_function.py\u001b[0m in \u001b[0;36m_call\u001b[0;34m(self, *args, **kwds)\u001b[0m\n\u001b[1;32m    805\u001b[0m       \u001b[0;31m# In this case we have created variables on the first call, so we run the\u001b[0m\u001b[0;34m\u001b[0m\u001b[0;34m\u001b[0m\u001b[0;34m\u001b[0m\u001b[0m\n\u001b[1;32m    806\u001b[0m       \u001b[0;31m# defunned version which is guaranteed to never create variables.\u001b[0m\u001b[0;34m\u001b[0m\u001b[0;34m\u001b[0m\u001b[0;34m\u001b[0m\u001b[0m\n\u001b[0;32m--> 807\u001b[0;31m       \u001b[0;32mreturn\u001b[0m \u001b[0mself\u001b[0m\u001b[0;34m.\u001b[0m\u001b[0m_stateless_fn\u001b[0m\u001b[0;34m(\u001b[0m\u001b[0;34m*\u001b[0m\u001b[0margs\u001b[0m\u001b[0;34m,\u001b[0m \u001b[0;34m**\u001b[0m\u001b[0mkwds\u001b[0m\u001b[0;34m)\u001b[0m  \u001b[0;31m# pylint: disable=not-callable\u001b[0m\u001b[0;34m\u001b[0m\u001b[0;34m\u001b[0m\u001b[0m\n\u001b[0m\u001b[1;32m    808\u001b[0m     \u001b[0;32melif\u001b[0m \u001b[0mself\u001b[0m\u001b[0;34m.\u001b[0m\u001b[0m_stateful_fn\u001b[0m \u001b[0;32mis\u001b[0m \u001b[0;32mnot\u001b[0m \u001b[0;32mNone\u001b[0m\u001b[0;34m:\u001b[0m\u001b[0;34m\u001b[0m\u001b[0;34m\u001b[0m\u001b[0m\n\u001b[1;32m    809\u001b[0m       \u001b[0;31m# Release the lock early so that multiple threads can perform the call\u001b[0m\u001b[0;34m\u001b[0m\u001b[0;34m\u001b[0m\u001b[0;34m\u001b[0m\u001b[0m\n",
            "\u001b[0;32m/usr/local/lib/python3.6/dist-packages/tensorflow/python/eager/function.py\u001b[0m in \u001b[0;36m__call__\u001b[0;34m(self, *args, **kwargs)\u001b[0m\n\u001b[1;32m   2827\u001b[0m     \u001b[0;32mwith\u001b[0m \u001b[0mself\u001b[0m\u001b[0;34m.\u001b[0m\u001b[0m_lock\u001b[0m\u001b[0;34m:\u001b[0m\u001b[0;34m\u001b[0m\u001b[0;34m\u001b[0m\u001b[0m\n\u001b[1;32m   2828\u001b[0m       \u001b[0mgraph_function\u001b[0m\u001b[0;34m,\u001b[0m \u001b[0margs\u001b[0m\u001b[0;34m,\u001b[0m \u001b[0mkwargs\u001b[0m \u001b[0;34m=\u001b[0m \u001b[0mself\u001b[0m\u001b[0;34m.\u001b[0m\u001b[0m_maybe_define_function\u001b[0m\u001b[0;34m(\u001b[0m\u001b[0margs\u001b[0m\u001b[0;34m,\u001b[0m \u001b[0mkwargs\u001b[0m\u001b[0;34m)\u001b[0m\u001b[0;34m\u001b[0m\u001b[0;34m\u001b[0m\u001b[0m\n\u001b[0;32m-> 2829\u001b[0;31m     \u001b[0;32mreturn\u001b[0m \u001b[0mgraph_function\u001b[0m\u001b[0;34m.\u001b[0m\u001b[0m_filtered_call\u001b[0m\u001b[0;34m(\u001b[0m\u001b[0margs\u001b[0m\u001b[0;34m,\u001b[0m \u001b[0mkwargs\u001b[0m\u001b[0;34m)\u001b[0m  \u001b[0;31m# pylint: disable=protected-access\u001b[0m\u001b[0;34m\u001b[0m\u001b[0;34m\u001b[0m\u001b[0m\n\u001b[0m\u001b[1;32m   2830\u001b[0m \u001b[0;34m\u001b[0m\u001b[0m\n\u001b[1;32m   2831\u001b[0m   \u001b[0;34m@\u001b[0m\u001b[0mproperty\u001b[0m\u001b[0;34m\u001b[0m\u001b[0;34m\u001b[0m\u001b[0m\n",
            "\u001b[0;32m/usr/local/lib/python3.6/dist-packages/tensorflow/python/eager/function.py\u001b[0m in \u001b[0;36m_filtered_call\u001b[0;34m(self, args, kwargs, cancellation_manager)\u001b[0m\n\u001b[1;32m   1846\u001b[0m                            resource_variable_ops.BaseResourceVariable))],\n\u001b[1;32m   1847\u001b[0m         \u001b[0mcaptured_inputs\u001b[0m\u001b[0;34m=\u001b[0m\u001b[0mself\u001b[0m\u001b[0;34m.\u001b[0m\u001b[0mcaptured_inputs\u001b[0m\u001b[0;34m,\u001b[0m\u001b[0;34m\u001b[0m\u001b[0;34m\u001b[0m\u001b[0m\n\u001b[0;32m-> 1848\u001b[0;31m         cancellation_manager=cancellation_manager)\n\u001b[0m\u001b[1;32m   1849\u001b[0m \u001b[0;34m\u001b[0m\u001b[0m\n\u001b[1;32m   1850\u001b[0m   \u001b[0;32mdef\u001b[0m \u001b[0m_call_flat\u001b[0m\u001b[0;34m(\u001b[0m\u001b[0mself\u001b[0m\u001b[0;34m,\u001b[0m \u001b[0margs\u001b[0m\u001b[0;34m,\u001b[0m \u001b[0mcaptured_inputs\u001b[0m\u001b[0;34m,\u001b[0m \u001b[0mcancellation_manager\u001b[0m\u001b[0;34m=\u001b[0m\u001b[0;32mNone\u001b[0m\u001b[0;34m)\u001b[0m\u001b[0;34m:\u001b[0m\u001b[0;34m\u001b[0m\u001b[0;34m\u001b[0m\u001b[0m\n",
            "\u001b[0;32m/usr/local/lib/python3.6/dist-packages/tensorflow/python/eager/function.py\u001b[0m in \u001b[0;36m_call_flat\u001b[0;34m(self, args, captured_inputs, cancellation_manager)\u001b[0m\n\u001b[1;32m   1922\u001b[0m       \u001b[0;31m# No tape is watching; skip to running the function.\u001b[0m\u001b[0;34m\u001b[0m\u001b[0;34m\u001b[0m\u001b[0;34m\u001b[0m\u001b[0m\n\u001b[1;32m   1923\u001b[0m       return self._build_call_outputs(self._inference_function.call(\n\u001b[0;32m-> 1924\u001b[0;31m           ctx, args, cancellation_manager=cancellation_manager))\n\u001b[0m\u001b[1;32m   1925\u001b[0m     forward_backward = self._select_forward_and_backward_functions(\n\u001b[1;32m   1926\u001b[0m         \u001b[0margs\u001b[0m\u001b[0;34m,\u001b[0m\u001b[0;34m\u001b[0m\u001b[0;34m\u001b[0m\u001b[0m\n",
            "\u001b[0;32m/usr/local/lib/python3.6/dist-packages/tensorflow/python/eager/function.py\u001b[0m in \u001b[0;36mcall\u001b[0;34m(self, ctx, args, cancellation_manager)\u001b[0m\n\u001b[1;32m    548\u001b[0m               \u001b[0minputs\u001b[0m\u001b[0;34m=\u001b[0m\u001b[0margs\u001b[0m\u001b[0;34m,\u001b[0m\u001b[0;34m\u001b[0m\u001b[0;34m\u001b[0m\u001b[0m\n\u001b[1;32m    549\u001b[0m               \u001b[0mattrs\u001b[0m\u001b[0;34m=\u001b[0m\u001b[0mattrs\u001b[0m\u001b[0;34m,\u001b[0m\u001b[0;34m\u001b[0m\u001b[0;34m\u001b[0m\u001b[0m\n\u001b[0;32m--> 550\u001b[0;31m               ctx=ctx)\n\u001b[0m\u001b[1;32m    551\u001b[0m         \u001b[0;32melse\u001b[0m\u001b[0;34m:\u001b[0m\u001b[0;34m\u001b[0m\u001b[0;34m\u001b[0m\u001b[0m\n\u001b[1;32m    552\u001b[0m           outputs = execute.execute_with_cancellation(\n",
            "\u001b[0;32m/usr/local/lib/python3.6/dist-packages/tensorflow/python/eager/execute.py\u001b[0m in \u001b[0;36mquick_execute\u001b[0;34m(op_name, num_outputs, inputs, attrs, ctx, name)\u001b[0m\n\u001b[1;32m     58\u001b[0m     \u001b[0mctx\u001b[0m\u001b[0;34m.\u001b[0m\u001b[0mensure_initialized\u001b[0m\u001b[0;34m(\u001b[0m\u001b[0;34m)\u001b[0m\u001b[0;34m\u001b[0m\u001b[0;34m\u001b[0m\u001b[0m\n\u001b[1;32m     59\u001b[0m     tensors = pywrap_tfe.TFE_Py_Execute(ctx._handle, device_name, op_name,\n\u001b[0;32m---> 60\u001b[0;31m                                         inputs, attrs, num_outputs)\n\u001b[0m\u001b[1;32m     61\u001b[0m   \u001b[0;32mexcept\u001b[0m \u001b[0mcore\u001b[0m\u001b[0;34m.\u001b[0m\u001b[0m_NotOkStatusException\u001b[0m \u001b[0;32mas\u001b[0m \u001b[0me\u001b[0m\u001b[0;34m:\u001b[0m\u001b[0;34m\u001b[0m\u001b[0;34m\u001b[0m\u001b[0m\n\u001b[1;32m     62\u001b[0m     \u001b[0;32mif\u001b[0m \u001b[0mname\u001b[0m \u001b[0;32mis\u001b[0m \u001b[0;32mnot\u001b[0m \u001b[0;32mNone\u001b[0m\u001b[0;34m:\u001b[0m\u001b[0;34m\u001b[0m\u001b[0;34m\u001b[0m\u001b[0m\n",
            "\u001b[0;31mKeyboardInterrupt\u001b[0m: "
          ]
        }
      ]
    },
    {
      "cell_type": "code",
      "metadata": {
        "id": "btREM_k2nkMA",
        "outputId": "f3da208f-e8db-499c-faf2-a01a349329b7",
        "colab": {
          "resources": {
            "http://localhost:8080/nbextensions/google.colab/files.js": {
              "data": "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",
              "ok": true,
              "headers": [
                [
                  "content-type",
                  "application/javascript"
                ]
              ],
              "status": 200,
              "status_text": "OK"
            }
          },
          "base_uri": "https://localhost:8080/",
          "height": 113
        }
      },
      "source": [
        "from google.colab import files\n",
        "files.upload()"
      ],
      "execution_count": null,
      "outputs": [
        {
          "output_type": "display_data",
          "data": {
            "text/html": [
              "\n",
              "     <input type=\"file\" id=\"files-6f488899-7224-4581-9159-47e010a22d2f\" name=\"files[]\" multiple disabled\n",
              "        style=\"border:none\" />\n",
              "     <output id=\"result-6f488899-7224-4581-9159-47e010a22d2f\">\n",
              "      Upload widget is only available when the cell has been executed in the\n",
              "      current browser session. Please rerun this cell to enable.\n",
              "      </output>\n",
              "      <script src=\"/nbextensions/google.colab/files.js\"></script> "
            ],
            "text/plain": [
              "<IPython.core.display.HTML object>"
            ]
          },
          "metadata": {
            "tags": []
          }
        },
        {
          "output_type": "stream",
          "text": [
            "Saving pics_epochs.pkl to pics_epochs.pkl\n"
          ],
          "name": "stdout"
        },
        {
          "output_type": "execute_result",
          "data": {
            "text/plain": [
              "{'pics_epochs.pkl': b'\\x80\\x03ccollections\\ndefaultdict\\nq\\x00)Rq\\x01(X2\\x00\\x00\\x00/content/train2014/COCO_train2014_000000018395.jpgq\\x02]q\\x03(X!\\x00\\x00\\x00vase filled with flowers on tableq\\x04X \\x00\\x00\\x00vase with flowers in it on tableq\\x05X \\x00\\x00\\x00vase with flowers in it on tableq\\x06X0\\x00\\x00\\x00vase filled with flowers sitting on top of tableq\\x07X(\\x00\\x00\\x00vase filled with flowers on top of tableq\\x08X(\\x00\\x00\\x00vase filled with flowers on top of tableq\\tX(\\x00\\x00\\x00vase filled with flowers on top of tableq\\nX(\\x00\\x00\\x00vase filled with flowers on top of tableq\\x0bX \\x00\\x00\\x00vase with flowers in it on tableq\\x0cX \\x00\\x00\\x00vase with flowers in it on tableq\\reX2\\x00\\x00\\x00/content/train2014/COCO_train2014_000000560691.jpgq\\x0e]q\\x0f(X/\\x00\\x00\\x00group of people standing around table with foodq\\x10X/\\x00\\x00\\x00group of people standing around table with foodq\\x11X/\\x00\\x00\\x00group of people standing around table with foodq\\x12X%\\x00\\x00\\x00group of people standing around tableq\\x13X.\\x00\\x00\\x00group of people sitting around table with foodq\\x14X.\\x00\\x00\\x00group of people sitting around table with foodq\\x15X/\\x00\\x00\\x00group of people standing around table with foodq\\x16X5\\x00\\x00\\x00group of people standing around room with teddy bearsq\\x17X/\\x00\\x00\\x00group of people standing around table with foodq\\x18X/\\x00\\x00\\x00group of people standing around table with foodq\\x19eX2\\x00\\x00\\x00/content/train2014/COCO_train2014_000000520112.jpgq\\x1a]q\\x1b(X)\\x00\\x00\\x00man is holding wine glass in front of herq\\x1cX)\\x00\\x00\\x00man is holding wine glass in front of himq\\x1dX)\\x00\\x00\\x00man is holding wine glass in front of himq\\x1eX\\x1e\\x00\\x00\\x00man is holding wine glass withq\\x1fX%\\x00\\x00\\x00man is holding wine glass in his handq X%\\x00\\x00\\x00man is holding wine glass in his handq!X,\\x00\\x00\\x00man is holding wine glass with glass of wineq\"X\\x1e\\x00\\x00\\x00man in suit holding wine glassq#X\\x1c\\x00\\x00\\x00man is holding glass of wineq$X\"\\x00\\x00\\x00man holding wine glass in his handq%eX2\\x00\\x00\\x00/content/train2014/COCO_train2014_000000365659.jpgq&]q\\'(X+\\x00\\x00\\x00table with plates of food and cup of coffeeq(X$\\x00\\x00\\x00table with plates of food and drinksq)X*\\x00\\x00\\x00table with plate of food and cup of coffeeq*X*\\x00\\x00\\x00table with plate of food and cup of coffeeq+X$\\x00\\x00\\x00table with plates of food and drinksq,X$\\x00\\x00\\x00table with plates of food and drinksq-X$\\x00\\x00\\x00table with plates of food and drinksq.X$\\x00\\x00\\x00table with plates of food and drinksq/X$\\x00\\x00\\x00table with plates of food and drinksq0X$\\x00\\x00\\x00table with plates of food and drinksq1eX2\\x00\\x00\\x00/content/train2014/COCO_train2014_000000257575.jpgq2]q3(X)\\x00\\x00\\x00man is holding wine glass in front of herq4X(\\x00\\x00\\x00man is holding wine glass with his handsq5X#\\x00\\x00\\x00man is holding wine glass with wineq6X-\\x00\\x00\\x00man holding wine glass in front of wine glassq7X)\\x00\\x00\\x00man is holding wine glass in front of himq8X&\\x00\\x00\\x00man and woman are holding wine glassesq9X&\\x00\\x00\\x00man is holding wine glass in his handsq:X%\\x00\\x00\\x00man is holding wine glass in his handq;X\"\\x00\\x00\\x00man and woman holding wine glassesq<X\"\\x00\\x00\\x00man and woman holding wine glassesq=eX2\\x00\\x00\\x00/content/train2014/COCO_train2014_000000480644.jpgq>]q?(X!\\x00\\x00\\x00vase filled with flowers on tableq@X)\\x00\\x00\\x00three vases with flowers in them on tableqAX,\\x00\\x00\\x00three vases with different colors and shapesqBX)\\x00\\x00\\x00three vases with flowers in them on tableqCX\\x1e\\x00\\x00\\x00three vases are on white tableqDX)\\x00\\x00\\x00three vases with flowers in them on tableqEX*\\x00\\x00\\x00three vases with one of the same the otherqFX)\\x00\\x00\\x00three vases with flowers in them on tableqGX-\\x00\\x00\\x00three vases with one flower in the backgroundqHX\\'\\x00\\x00\\x00three vases with one flower in the vaseqIeX2\\x00\\x00\\x00/content/train2014/COCO_train2014_000000477150.jpgqJ]qK(X$\\x00\\x00\\x00plate of food with meat and potatoesqLX \\x00\\x00\\x00plate of food with fork and forkqMX \\x00\\x00\\x00plate of food with fork and forkqNX!\\x00\\x00\\x00plate of food with fork and knifeqOX(\\x00\\x00\\x00plate of food with potatoes and potatoesqPX!\\x00\\x00\\x00plate of food with fork and knifeqQX!\\x00\\x00\\x00plate of food with fork and knifeqRX!\\x00\\x00\\x00plate of food with fork and knifeqSX!\\x00\\x00\\x00plate of food with fork and knifeqTX!\\x00\\x00\\x00plate of food with fork and knifeqUeX2\\x00\\x00\\x00/content/train2014/COCO_train2014_000000026944.jpgqV]qW(X\\x1e\\x00\\x00\\x00clock tower with the top of itqXX%\\x00\\x00\\x00clock tower in the middle of the cityqYX%\\x00\\x00\\x00clock tower with gold and white clockqZX!\\x00\\x00\\x00clock tower in the middle of cityq[X!\\x00\\x00\\x00clock tower with clock on the topq\\\\X!\\x00\\x00\\x00clock tower with clock on the topq]X\\'\\x00\\x00\\x00clock tower with clock on the top of itq^X(\\x00\\x00\\x00clock tower with clock on the side of itq_X*\\x00\\x00\\x00clock tower is lit up in front of buildingq`X%\\x00\\x00\\x00clock tower with weather on top of itqaeX2\\x00\\x00\\x00/content/train2014/COCO_train2014_000000046893.jpgqb]qc(X&\\x00\\x00\\x00woman sitting on couch with teddy bearqdX&\\x00\\x00\\x00woman sitting on couch with teddy bearqeX*\\x00\\x00\\x00woman sitting on couch with her teddy bearqfX+\\x00\\x00\\x00woman sitting on couch with her eyes closedqgX)\\x00\\x00\\x00woman sitting at table with plate of foodqhX)\\x00\\x00\\x00woman sitting at table with some scissorsqiX)\\x00\\x00\\x00woman sitting at table with plate of foodqjX)\\x00\\x00\\x00woman sitting at table with plate of foodqkX)\\x00\\x00\\x00woman sitting at table with plate of foodqlX)\\x00\\x00\\x00woman sitting at table with plate of foodqmeX2\\x00\\x00\\x00/content/train2014/COCO_train2014_000000413970.jpgqn]qo(X\\x16\\x00\\x00\\x00plate of food on tableqpX)\\x00\\x00\\x00woman sitting at table with plate of foodqqX)\\x00\\x00\\x00woman sitting at table with plate of foodqrX)\\x00\\x00\\x00woman sitting at table with plate of foodqsX)\\x00\\x00\\x00woman sitting at table with plate of foodqtX)\\x00\\x00\\x00woman sitting at table with plate of foodquX)\\x00\\x00\\x00woman sitting at table with plate of foodqvX)\\x00\\x00\\x00woman sitting at table with plate of foodqwX)\\x00\\x00\\x00woman sitting at table with plate of foodqxX)\\x00\\x00\\x00woman sitting at table with plate of foodqyeX2\\x00\\x00\\x00/content/train2014/COCO_train2014_000000282669.jpgqz]q{(X\"\\x00\\x00\\x00pair of scissors and some on tableq|X.\\x00\\x00\\x00pair of scissors and some other items on tableq}X%\\x00\\x00\\x00pair of scissors and some other itemsq~X.\\x00\\x00\\x00pair of scissors and some other items on tableq\\x7fX)\\x00\\x00\\x00pair of scissors and some papers on tableq\\x80X,\\x00\\x00\\x00pair of red scissors sitting on top of tableq\\x81X*\\x00\\x00\\x00pair of red and white flowers are on tableq\\x82X2\\x00\\x00\\x00pair of red scissors sitting on top of white sheetq\\x83X)\\x00\\x00\\x00pair of different types of items on tableq\\x84X,\\x00\\x00\\x00pair of red scissors sitting on top of tableq\\x85eX2\\x00\\x00\\x00/content/train2014/COCO_train2014_000000128127.jpgq\\x86]q\\x87(X\\x1e\\x00\\x00\\x00woman is holding glass of wineq\\x88X+\\x00\\x00\\x00woman is holding wine glass in front of herq\\x89X+\\x00\\x00\\x00woman is holding wine glass in front of herq\\x8aX+\\x00\\x00\\x00woman is holding wine glass in front of herq\\x8bX+\\x00\\x00\\x00woman is holding wine glass in front of herq\\x8cX+\\x00\\x00\\x00woman is holding teddy bear in front of herq\\x8dX\"\\x00\\x00\\x00woman is holding up her teddy bearq\\x8eX+\\x00\\x00\\x00woman is holding wine glass in front of herq\\x8fX0\\x00\\x00\\x00woman is holding teddy bear in front of her faceq\\x90X\\'\\x00\\x00\\x00woman is holding teddy bear in her handq\\x91eX2\\x00\\x00\\x00/content/train2014/COCO_train2014_000000305600.jpgq\\x92]q\\x93(X\\x1f\\x00\\x00\\x00man is holding pair of scissorsq\\x94X\\x1c\\x00\\x00\\x00man is holding glass of wineq\\x95X\\x1c\\x00\\x00\\x00man is holding glass of wineq\\x96X)\\x00\\x00\\x00man in suit and tie is holding wine glassq\\x97X!\\x00\\x00\\x00man in suit is holding wine glassq\\x98X$\\x00\\x00\\x00man in suit is holding up wine glassq\\x99X(\\x00\\x00\\x00man is standing in front of refrigeratorq\\x9aX\\x1c\\x00\\x00\\x00man is holding up wine glassq\\x9bX$\\x00\\x00\\x00man is standing in front of computerq\\x9cX\\x1c\\x00\\x00\\x00man is holding up wine glassq\\x9deX2\\x00\\x00\\x00/content/train2014/COCO_train2014_000000404997.jpgq\\x9e]q\\x9f(X&\\x00\\x00\\x00table with two different types of foodq\\xa0X/\\x00\\x00\\x00desk with two computer monitors and some papersq\\xa1X.\\x00\\x00\\x00desk with two laptop computers and some papersq\\xa2X,\\x00\\x00\\x00desk with two computer monitors and keyboardq\\xa3X\\'\\x00\\x00\\x00desk with two monitors and two monitorsq\\xa4X\\x1c\\x00\\x00\\x00desk with laptop and monitorq\\xa5X,\\x00\\x00\\x00desk with two computer monitors and keyboardq\\xa6X,\\x00\\x00\\x00desk with two computer monitors and keyboardq\\xa7X0\\x00\\x00\\x00desk with two computer monitors and two monitorsq\\xa8X$\\x00\\x00\\x00desk with laptop and some headphonesq\\xa9eX2\\x00\\x00\\x00/content/train2014/COCO_train2014_000000508723.jpgq\\xaa]q\\xab(X$\\x00\\x00\\x00group of people sitting around tableq\\xacX6\\x00\\x00\\x00group of people sitting around table with wine glassesq\\xadX6\\x00\\x00\\x00group of people sitting around table with wine glassesq\\xaeX6\\x00\\x00\\x00group of people sitting around table with wine glassesq\\xafX2\\x00\\x00\\x00group of people sitting at table with wine glassesq\\xb0X2\\x00\\x00\\x00group of people sitting at table with wine glassesq\\xb1X6\\x00\\x00\\x00group of people sitting around table with wine glassesq\\xb2X6\\x00\\x00\\x00group of people sitting around table with wine glassesq\\xb3X2\\x00\\x00\\x00group of people sitting at table with wine glassesq\\xb4X0\\x00\\x00\\x00group of people sitting around table eating foodq\\xb5eX2\\x00\\x00\\x00/content/train2014/COCO_train2014_000000458763.jpgq\\xb6]q\\xb7(X$\\x00\\x00\\x00vase filled with flowers and flowersq\\xb8X(\\x00\\x00\\x00vase filled with flowers on top of tableq\\xb9X\\x1e\\x00\\x00\\x00vase with flowers on top of itq\\xbaX\\x1a\\x00\\x00\\x00vase with flowers on tableq\\xbbX\\x1a\\x00\\x00\\x00vase with flowers on tableq\\xbcX\\x1a\\x00\\x00\\x00vase with flowers on tableq\\xbdX\\x1a\\x00\\x00\\x00vase with flowers on tableq\\xbeX\\x1a\\x00\\x00\\x00vase with flowers on tableq\\xbfX\\x1a\\x00\\x00\\x00vase with flowers on tableq\\xc0X\\x1a\\x00\\x00\\x00vase with flowers on tableq\\xc1eX2\\x00\\x00\\x00/content/train2014/COCO_train2014_000000308083.jpgq\\xc2]q\\xc3(X\\x1f\\x00\\x00\\x00blender sitting on top of tableq\\xc4X(\\x00\\x00\\x00the blender is on the table ready to eatq\\xc5X\\x1a\\x00\\x00\\x00blender with some meat andq\\xc6X\\x1a\\x00\\x00\\x00blender with some meat andq\\xc7X\\x1e\\x00\\x00\\x00blender filled with liquid andq\\xc8X2\\x00\\x00\\x00blender filled with lots of food on top of counterq\\xc9X*\\x00\\x00\\x00blender filled with food on top of counterq\\xcaX/\\x00\\x00\\x00dog is sitting on the floor with bottle of wineq\\xcbX\"\\x00\\x00\\x00dog is sitting on the floor eatingq\\xccX2\\x00\\x00\\x00blender filled with lots of food on top of counterq\\xcdeX2\\x00\\x00\\x00/content/train2014/COCO_train2014_000000558771.jpgq\\xce]q\\xcf(X$\\x00\\x00\\x00plate of food with meat and potatoesq\\xd0X+\\x00\\x00\\x00plate of food with potatoes and other foodsq\\xd1X(\\x00\\x00\\x00plate of food with potatoes and potatoesq\\xd2X$\\x00\\x00\\x00plate of food with eggs and potatoesq\\xd3X(\\x00\\x00\\x00plate of food with potatoes and potatoesq\\xd4X(\\x00\\x00\\x00plate of food with potatoes and potatoesq\\xd5X(\\x00\\x00\\x00plate of food with potatoes and potatoesq\\xd6X(\\x00\\x00\\x00plate of food with potatoes and potatoesq\\xd7X$\\x00\\x00\\x00plate of food with eggs and potatoesq\\xd8X,\\x00\\x00\\x00plate of food with eggs sausage and potatoesq\\xd9eX2\\x00\\x00\\x00/content/train2014/COCO_train2014_000000373219.jpgq\\xda]q\\xdb(X0\\x00\\x00\\x00table topped with plates of food and cup of wineq\\xdcX,\\x00\\x00\\x00table topped with plates of food and bottlesq\\xddX*\\x00\\x00\\x00table with some wine glasses and some wineq\\xdeX)\\x00\\x00\\x00table topped with plates of food and wineq\\xdfX2\\x00\\x00\\x00table with some wine glasses and some wine glassesq\\xe0X*\\x00\\x00\\x00table with some wine glasses and some wineq\\xe1X*\\x00\\x00\\x00table with some wine glasses and some wineq\\xe2X2\\x00\\x00\\x00table with some wine glasses and some wine glassesq\\xe3X2\\x00\\x00\\x00table with some wine glasses and some wine glassesq\\xe4X5\\x00\\x00\\x00table with some wine glasses and some glasses of wineq\\xe5eX2\\x00\\x00\\x00/content/train2014/COCO_train2014_000000562217.jpgq\\xe6]q\\xe7(X(\\x00\\x00\\x00clock tower is on the side of the streetq\\xe8X-\\x00\\x00\\x00clock tower is lit up on the side of buildingq\\xe9X:\\x00\\x00\\x00clock on the side of building with clock on the side of itq\\xeaX!\\x00\\x00\\x00clock tower in the middle of cityq\\xebX!\\x00\\x00\\x00clock tower in the middle of cityq\\xecX!\\x00\\x00\\x00clock tower in the middle of cityq\\xedX!\\x00\\x00\\x00clock tower in the middle of cityq\\xeeX!\\x00\\x00\\x00clock tower in the middle of cityq\\xefX!\\x00\\x00\\x00clock tower in the middle of cityq\\xf0X!\\x00\\x00\\x00clock tower in the middle of cityq\\xf1eu.'}"
            ]
          },
          "metadata": {
            "tags": []
          },
          "execution_count": 35
        }
      ]
    },
    {
      "cell_type": "code",
      "metadata": {
        "id": "c4IZhQwf_Blu"
      },
      "source": [
        "with open('/content/gdrive/My Drive/pics_epochs.txt', 'rb') as file:\n",
        "        pics = pickle.load(file)"
      ],
      "execution_count": null,
      "outputs": []
    },
    {
      "cell_type": "code",
      "metadata": {
        "id": "fV-6AoQBbbT4"
      },
      "source": [
        ""
      ],
      "execution_count": null,
      "outputs": []
    },
    {
      "cell_type": "code",
      "metadata": {
        "id": "hoVrEHmjbMwV",
        "outputId": "530aa181-82fc-4024-9610-c1fba2016226",
        "colab": {
          "base_uri": "https://localhost:8080/",
          "height": 784
        }
      },
      "source": [
        "\n",
        "for pic in pics.keys():\n",
        "  print(pic)\n",
        "  print(pics[pic])"
      ],
      "execution_count": null,
      "outputs": [
        {
          "output_type": "stream",
          "text": [
            "/content/train2014/COCO_train2014_000000018395.jpg\n",
            "['vase filled with flowers on table', 'vase with flowers in it on table', 'vase with flowers in it on table', 'vase filled with flowers sitting on top of table', 'vase filled with flowers on top of table', 'vase filled with flowers on top of table', 'vase filled with flowers on top of table', 'vase filled with flowers on top of table', 'vase with flowers in it on table', 'vase with flowers in it on table']\n",
            "/content/train2014/COCO_train2014_000000560691.jpg\n",
            "['group of people standing around table with food', 'group of people standing around table with food', 'group of people standing around table with food', 'group of people standing around table', 'group of people sitting around table with food', 'group of people sitting around table with food', 'group of people standing around table with food', 'group of people standing around room with teddy bears', 'group of people standing around table with food', 'group of people standing around table with food']\n",
            "/content/train2014/COCO_train2014_000000520112.jpg\n",
            "['man is holding wine glass in front of her', 'man is holding wine glass in front of him', 'man is holding wine glass in front of him', 'man is holding wine glass with', 'man is holding wine glass in his hand', 'man is holding wine glass in his hand', 'man is holding wine glass with glass of wine', 'man in suit holding wine glass', 'man is holding glass of wine', 'man holding wine glass in his hand']\n",
            "/content/train2014/COCO_train2014_000000365659.jpg\n",
            "['table with plates of food and cup of coffee', 'table with plates of food and drinks', 'table with plate of food and cup of coffee', 'table with plate of food and cup of coffee', 'table with plates of food and drinks', 'table with plates of food and drinks', 'table with plates of food and drinks', 'table with plates of food and drinks', 'table with plates of food and drinks', 'table with plates of food and drinks']\n",
            "/content/train2014/COCO_train2014_000000257575.jpg\n",
            "['man is holding wine glass in front of her', 'man is holding wine glass with his hands', 'man is holding wine glass with wine', 'man holding wine glass in front of wine glass', 'man is holding wine glass in front of him', 'man and woman are holding wine glasses', 'man is holding wine glass in his hands', 'man is holding wine glass in his hand', 'man and woman holding wine glasses', 'man and woman holding wine glasses']\n",
            "/content/train2014/COCO_train2014_000000480644.jpg\n",
            "['vase filled with flowers on table', 'three vases with flowers in them on table', 'three vases with different colors and shapes', 'three vases with flowers in them on table', 'three vases are on white table', 'three vases with flowers in them on table', 'three vases with one of the same the other', 'three vases with flowers in them on table', 'three vases with one flower in the background', 'three vases with one flower in the vase']\n",
            "/content/train2014/COCO_train2014_000000477150.jpg\n",
            "['plate of food with meat and potatoes', 'plate of food with fork and fork', 'plate of food with fork and fork', 'plate of food with fork and knife', 'plate of food with potatoes and potatoes', 'plate of food with fork and knife', 'plate of food with fork and knife', 'plate of food with fork and knife', 'plate of food with fork and knife', 'plate of food with fork and knife']\n",
            "/content/train2014/COCO_train2014_000000026944.jpg\n",
            "['clock tower with the top of it', 'clock tower in the middle of the city', 'clock tower with gold and white clock', 'clock tower in the middle of city', 'clock tower with clock on the top', 'clock tower with clock on the top', 'clock tower with clock on the top of it', 'clock tower with clock on the side of it', 'clock tower is lit up in front of building', 'clock tower with weather on top of it']\n",
            "/content/train2014/COCO_train2014_000000046893.jpg\n",
            "['woman sitting on couch with teddy bear', 'woman sitting on couch with teddy bear', 'woman sitting on couch with her teddy bear', 'woman sitting on couch with her eyes closed', 'woman sitting at table with plate of food', 'woman sitting at table with some scissors', 'woman sitting at table with plate of food', 'woman sitting at table with plate of food', 'woman sitting at table with plate of food', 'woman sitting at table with plate of food']\n",
            "/content/train2014/COCO_train2014_000000413970.jpg\n",
            "['plate of food on table', 'woman sitting at table with plate of food', 'woman sitting at table with plate of food', 'woman sitting at table with plate of food', 'woman sitting at table with plate of food', 'woman sitting at table with plate of food', 'woman sitting at table with plate of food', 'woman sitting at table with plate of food', 'woman sitting at table with plate of food', 'woman sitting at table with plate of food']\n",
            "/content/train2014/COCO_train2014_000000282669.jpg\n",
            "['pair of scissors and some on table', 'pair of scissors and some other items on table', 'pair of scissors and some other items', 'pair of scissors and some other items on table', 'pair of scissors and some papers on table', 'pair of red scissors sitting on top of table', 'pair of red and white flowers are on table', 'pair of red scissors sitting on top of white sheet', 'pair of different types of items on table', 'pair of red scissors sitting on top of table']\n",
            "/content/train2014/COCO_train2014_000000128127.jpg\n",
            "['woman is holding glass of wine', 'woman is holding wine glass in front of her', 'woman is holding wine glass in front of her', 'woman is holding wine glass in front of her', 'woman is holding wine glass in front of her', 'woman is holding teddy bear in front of her', 'woman is holding up her teddy bear', 'woman is holding wine glass in front of her', 'woman is holding teddy bear in front of her face', 'woman is holding teddy bear in her hand']\n",
            "/content/train2014/COCO_train2014_000000305600.jpg\n",
            "['man is holding pair of scissors', 'man is holding glass of wine', 'man is holding glass of wine', 'man in suit and tie is holding wine glass', 'man in suit is holding wine glass', 'man in suit is holding up wine glass', 'man is standing in front of refrigerator', 'man is holding up wine glass', 'man is standing in front of computer', 'man is holding up wine glass']\n",
            "/content/train2014/COCO_train2014_000000404997.jpg\n",
            "['table with two different types of food', 'desk with two computer monitors and some papers', 'desk with two laptop computers and some papers', 'desk with two computer monitors and keyboard', 'desk with two monitors and two monitors', 'desk with laptop and monitor', 'desk with two computer monitors and keyboard', 'desk with two computer monitors and keyboard', 'desk with two computer monitors and two monitors', 'desk with laptop and some headphones']\n",
            "/content/train2014/COCO_train2014_000000508723.jpg\n",
            "['group of people sitting around table', 'group of people sitting around table with wine glasses', 'group of people sitting around table with wine glasses', 'group of people sitting around table with wine glasses', 'group of people sitting at table with wine glasses', 'group of people sitting at table with wine glasses', 'group of people sitting around table with wine glasses', 'group of people sitting around table with wine glasses', 'group of people sitting at table with wine glasses', 'group of people sitting around table eating food']\n",
            "/content/train2014/COCO_train2014_000000458763.jpg\n",
            "['vase filled with flowers and flowers', 'vase filled with flowers on top of table', 'vase with flowers on top of it', 'vase with flowers on table', 'vase with flowers on table', 'vase with flowers on table', 'vase with flowers on table', 'vase with flowers on table', 'vase with flowers on table', 'vase with flowers on table']\n",
            "/content/train2014/COCO_train2014_000000308083.jpg\n",
            "['blender sitting on top of table', 'the blender is on the table ready to eat', 'blender with some meat and', 'blender with some meat and', 'blender filled with liquid and', 'blender filled with lots of food on top of counter', 'blender filled with food on top of counter', 'dog is sitting on the floor with bottle of wine', 'dog is sitting on the floor eating', 'blender filled with lots of food on top of counter']\n",
            "/content/train2014/COCO_train2014_000000558771.jpg\n",
            "['plate of food with meat and potatoes', 'plate of food with potatoes and other foods', 'plate of food with potatoes and potatoes', 'plate of food with eggs and potatoes', 'plate of food with potatoes and potatoes', 'plate of food with potatoes and potatoes', 'plate of food with potatoes and potatoes', 'plate of food with potatoes and potatoes', 'plate of food with eggs and potatoes', 'plate of food with eggs sausage and potatoes']\n",
            "/content/train2014/COCO_train2014_000000373219.jpg\n",
            "['table topped with plates of food and cup of wine', 'table topped with plates of food and bottles', 'table with some wine glasses and some wine', 'table topped with plates of food and wine', 'table with some wine glasses and some wine glasses', 'table with some wine glasses and some wine', 'table with some wine glasses and some wine', 'table with some wine glasses and some wine glasses', 'table with some wine glasses and some wine glasses', 'table with some wine glasses and some glasses of wine']\n",
            "/content/train2014/COCO_train2014_000000562217.jpg\n",
            "['clock tower is on the side of the street', 'clock tower is lit up on the side of building', 'clock on the side of building with clock on the side of it', 'clock tower in the middle of city', 'clock tower in the middle of city', 'clock tower in the middle of city', 'clock tower in the middle of city', 'clock tower in the middle of city', 'clock tower in the middle of city', 'clock tower in the middle of city']\n"
          ],
          "name": "stdout"
        }
      ]
    },
    {
      "cell_type": "code",
      "metadata": {
        "id": "-3H53OHYIgry",
        "outputId": "ceb76ba9-aea2-4ba9-fc0c-e2633a608ac6",
        "colab": {
          "base_uri": "https://localhost:8080/",
          "height": 1000
        }
      },
      "source": [
        "pics_pkl = collections.defaultdict()\n",
        "for img,cap in list(train_descriptions.items())[0:100]:\n",
        "  pics_pkl[f'{img}'.split('/')[-1]] = ' '.join(cap[0].split()[1:-1])\n",
        "  Image.open(img+'.jpg').save('img_gen2/'+f'{img}'.split('/')[-1]+'.jpg')\n",
        "  print(img,cap)\n"
      ],
      "execution_count": null,
      "outputs": [
        {
          "output_type": "stream",
          "text": [
            "/content/train2014/COCO_train2014_000000318556 ['startseq very clean and well decorated empty bathroom endseq', 'startseq blue and white bathroom with butterfly themed wall tiles endseq', 'startseq bathroom with border of butterflies and blue paint on the walls above it endseq', 'startseq an angled view of beautifully decorated bathroom endseq', 'startseq clock that blends in with the wall hangs in bathroom endseq']\n",
            "/content/train2014/COCO_train2014_000000116100 ['startseq panoramic view of kitchen and all of its appliances endseq', 'startseq panoramic photo of kitchen and dining room endseq', 'startseq wide angle view of the kitchen work area endseq', 'startseq multiple photos of brown and white kitchen endseq', 'startseq kitchen that has checkered patterned floor and white cabinets endseq']\n",
            "/content/train2014/COCO_train2014_000000379340 ['startseq graffitied stop sign across the street from red car endseq', 'startseq vandalized stop sign and red beetle on the road endseq', 'startseq red stop sign with bush bumper sticker under the word stop endseq', 'startseq stop sign that has been vandalized is pictured in front of parked car endseq', 'startseq street sign modified to read stop bush endseq']\n",
            "/content/train2014/COCO_train2014_000000134754 ['startseq the two people are walking down the beach endseq', 'startseq two people carrying surf boards on beach endseq', 'startseq two teenagers at white sanded beach with surfboards endseq', 'startseq couple at the beach walking with their surf boards endseq', 'startseq guy and girl are walking on the beach holding surfboards endseq']\n",
            "/content/train2014/COCO_train2014_000000538480 ['startseq sink and toilet inside small bathroom endseq', 'startseq white pedestal sink and toilet located in poorly lit bathroom endseq', 'startseq clean indoor bathroom with tiled floor and good lighting endseq', 'startseq bathroom with toilet and sink and blue wall endseq', 'startseq blue bathroom with sink and toilet endseq']\n",
            "/content/train2014/COCO_train2014_000000476220 ['startseq an empty kitchen with white and black appliances endseq', 'startseq refrigerator and stove are in small kitchen area endseq', 'startseq small kitchen in personal home with dual sinks endseq', 'startseq small kitchen with sink stove and refrigerator endseq', 'startseq small kitchen with several appliances and cookware endseq']\n",
            "/content/train2014/COCO_train2014_000000299675 ['startseq white square kitchen with tile floor that needs repairs endseq', 'startseq white kitchen in home with the light on endseq', 'startseq kitchen with tile floor has cabinets with no doors dishwasher sink and refrigerator endseq', 'startseq white kitchen without doors on the cabinets endseq', 'startseq white kitchen filled with pots pans and dishes endseq']\n",
            "/content/train2014/COCO_train2014_000000032275 ['startseq the vanity contains two sinks with towel for each endseq', 'startseq clean restroom with towels and washcloths laid out endseq', 'startseq the bathroom counter is stocked with towels and supplies endseq', 'startseq there is clean bathroom counter and sink endseq', 'startseq hotel bathroom with stone counter and mirror endseq']\n",
            "/content/train2014/COCO_train2014_000000302443 ['startseq several metal balls sit in the sand near group of people endseq', 'startseq people standing around many silver round balls on the ground endseq', 'startseq silver balls are lined up in the sand as people mill about in the background endseq', 'startseq silver balls on sand with people walking around endseq', 'startseq silver balls laying on the ground around smaller red ball endseq']\n",
            "/content/train2014/COCO_train2014_000000025470 ['startseq kitchen with brown cabinets tile backsplash and grey counters endseq', 'startseq kitchen contains black countertops brown cabinets and red and white tile blacksplash endseq', 'startseq clean organized kitchen cabinet and countertop area endseq', 'startseq kitchen has red bricks lining the counter endseq', 'startseq kitchen with wood cabinets and granite counter tops endseq']\n",
            "/content/train2014/COCO_train2014_000000513461 ['startseq surfer woman and child walk on the beach endseq', 'startseq person holding surf board on beach endseq', 'startseq family standing next to the ocean on sandy beach with surf board endseq', 'startseq man getting ready to surf as lookers walk by endseq', 'startseq family carrying surfboard to the ocean endseq']\n",
            "/content/train2014/COCO_train2014_000000018691 ['startseq few people sit on dim transportation system endseq', 'startseq six people on bus at night time endseq', 'startseq random people sitting in public tranport bus endseq', 'startseq there are only few people in the bus endseq', 'startseq group of people are riding the bus endseq']\n",
            "/content/train2014/COCO_train2014_000000285579 ['startseq person protected from the rain by their umbrella walks down the road endseq', 'startseq person walking outside in the rain with green umbrella endseq', 'startseq student walks in the rain with green umbrella endseq', 'startseq an individual covers himself under an umbrella on rainy day endseq', 'startseq man walking in the rain crossing street while holding an umbrella endseq']\n",
            "/content/train2014/COCO_train2014_000000266366 ['startseq the bathroom with toilet has an interesting sink endseq', 'startseq demonstration of well maintained hotel bathroom endseq', 'startseq clean mediocre motel bathroom with nice sink endseq', 'startseq modern hotel bathroom with accessories set out endseq', 'startseq bathroom with toilet sink mirror and shower stall endseq']\n",
            "/content/train2014/COCO_train2014_000000226658 ['startseq two women preparing food in kitchen one at the sink and one at the table endseq', 'startseq set table with silverware glasses and bottle of wine endseq', 'startseq woman having slice of bread with jelly endseq', 'startseq woman sitting at table with win and bread endseq', 'startseq women who is tearing off piece of bread endseq']\n",
            "/content/train2014/COCO_train2014_000000124567 ['startseq cat stuck in car with slightly opened window endseq', 'startseq cat peeking out car window that is rolled down endseq', 'startseq cat standing on car seat looking out the car window endseq', 'startseq person is taking photo of cat in car endseq', 'startseq cat sitting on top of the passenger seat of car endseq']\n",
            "/content/train2014/COCO_train2014_000000293605 ['startseq two bicycles and woman walking in front of shop endseq', 'startseq woman walks by couple of shop windows endseq', 'startseq woman walking down the street past wig shop endseq', 'startseq storefront with two bicycles and woman walking past endseq', 'startseq woman passing store front wearing long blue coat endseq']\n",
            "/content/train2014/COCO_train2014_000000321194 ['startseq green tiled backsplash highlighted by low overhead lighting endseq', 'startseq kitchen counter is illuminated by hood light endseq', 'startseq kitchen sink next to an empty counter with tiled wall endseq', 'startseq back splash is added to the wall in the kitchen endseq', 'startseq picture of sink top with dim lighting endseq']\n",
            "/content/train2014/COCO_train2014_000000479495 ['startseq bicycle is parked by bench at night endseq', 'startseq bike on the platform of public transportation stop at night endseq', 'startseq bicycle leans on bench at subway stop endseq', 'startseq bicycle parked next to bench in train station endseq', 'startseq bike and bench on the side of street endseq']\n",
            "/content/train2014/COCO_train2014_000000539984 ['startseq brown horse is grazing grass near red house endseq', 'startseq skinny horse is grazing in field endseq', 'startseq large hours is eating grass in field endseq', 'startseq brown horse is grazing in the grass endseq', 'startseq brown horse grazes in an open field next to trees endseq']\n",
            "/content/train2014/COCO_train2014_000000028231 ['startseq black car is near someone riding bike endseq', 'startseq person on bicycle is riding in front of car endseq', 'startseq blurry bike rider zooms past new mercedes endseq', 'startseq blurry bicycle riders goes by black car endseq', 'startseq man rides bike past black car in parking lot endseq']\n",
            "/content/train2014/COCO_train2014_000000350235 ['startseq this is pickup game of shirts and skins basketball endseq', 'startseq group of people playing game of basketball endseq', 'startseq group of men standing around while one seems angry at the others endseq', 'startseq several athletes appear to be having disagreement endseq', 'startseq man attempts to separate men during fight at street basketball game endseq']\n",
            "/content/train2014/COCO_train2014_000000314265 ['startseq toilet sink bathtub with shower mirror and cabinet endseq', 'startseq small bathroom painted white with an empty shower endseq', 'startseq white bathroom with glass shelves and wood sink endseq', 'startseq bathroom with an over the toilet cabinet endseq', 'startseq in the bathroom there is shower sink and toilet endseq']\n",
            "/content/train2014/COCO_train2014_000000389006 ['startseq kitchen with countertop that includes an apple phone endseq', 'startseq phone and computer on kitchen counter endseq', 'startseq phone lies on the counter in modern kitchen endseq', 'startseq nicely decorated kitchen with metallic refrigerator and blue counter endseq', 'startseq clean kitchen with phone and laptop on the counter endseq']\n",
            "/content/train2014/COCO_train2014_000000031813 ['startseq surfer riding his bike to the beach endseq', 'startseq surfer rides his bike down the street endseq', 'startseq man riding bicycle on road carrying surf board endseq', 'startseq man on bike carrying surfboard under his arm endseq', 'startseq man rides bike down the street while holding surfboard endseq']\n",
            "/content/train2014/COCO_train2014_000000465049 ['startseq closeup of red fire hydrant including the chains endseq', 'startseq fire hydrant with chains is painted red endseq', 'startseq red fire hydrant wrapped in red chain on sidewalk endseq', 'startseq the chain of red fire hydrant is the focus endseq', 'startseq fire hydrant and the chain attached to it endseq']\n",
            "/content/train2014/COCO_train2014_000000360334 ['startseq man standing in the kitchen with his arms crossed endseq', 'startseq young man with folded arms standing in the kitchen endseq', 'startseq man standing in white kitchen with his arms folded endseq', 'startseq man folds his arms in kitchen endseq', 'startseq man standing in kitchen with his arms crossed endseq']\n",
            "/content/train2014/COCO_train2014_000000524679 ['startseq purple bus and man dressed as nun on tall bicycle endseq', 'startseq sister on her bike trying to race the bus endseq', 'startseq person riding very high bike on the road endseq', 'startseq nun riding very tallk bike next to purple bus endseq', 'startseq woman in nun costume is riding bike next to bus endseq']\n",
            "/content/train2014/COCO_train2014_000000279672 ['startseq an herb that is in front of toaster oven endseq', 'startseq vegetable in front of toaster oven endseq', 'startseq an evergreen sprig is sitting on top of an appliance endseq', 'startseq microwave is next to sage or some kind of spice endseq', 'startseq this is toaster with green stem from tree in front of it endseq']\n",
            "/content/train2014/COCO_train2014_000000385716 ['startseq lady carrying purse walking along side man endseq', 'startseq city sidewalk is lined with lamp posts endseq', 'startseq man and woman stand on the sidewalk lined with street lights endseq', 'startseq city sidewalk with storefronts on the right endseq', 'startseq two people leaving building to walk down the street endseq']\n",
            "/content/train2014/COCO_train2014_000000044816 ['startseq clean bathroom that is brightly colored and has window endseq', 'startseq toilet sits next to sink in bathroom endseq', 'startseq pristine bathroom sits waiting to be used endseq', 'startseq an empty bathroom painted yellow with an open window endseq', 'startseq this is photo of small hotel bathroom endseq']\n",
            "/content/train2014/COCO_train2014_000000360306 ['startseq man working at kitchen counter in room illuminated by sunlight endseq', 'startseq man in shorts standing at the kitchen sink endseq', 'startseq man is washing dishes in the kitchen sink endseq', 'startseq man standing in kitchen with baby and dog endseq', 'startseq man in kitchen with his family in house endseq']\n",
            "/content/train2014/COCO_train2014_000000122802 ['startseq man standing in kitchen with granite countertops endseq', 'startseq an old man in the middle of his kitchen endseq', 'startseq man stands in the middle of his granite countertopped kitchen endseq', 'startseq man leaning forward on counter top endseq', 'startseq man stands behind granite kitchen countertop with industrial lighting overhead endseq']\n",
            "/content/train2014/COCO_train2014_000000515040 ['startseq seagulls flying overhead while trucks sit in parking lot endseq', 'startseq seagull perches on top of van endseq', 'startseq white van parked out side of large white building endseq', 'startseq white van sits outside of white building endseq', 'startseq white van parked with seagull standing on top of it endseq', 'startseq single seagull sits on white van with others flying in background endseq']\n",
            "/content/train2014/COCO_train2014_000000161657 ['startseq modern bathroom contains many glass and tile pieces endseq', 'startseq bathroom with white toilet and white bath endseq', 'startseq the overhead view of tiled bathroom with tub shower toilet bidet and sink endseq', 'startseq bathroom dimly lit with bathtub and shower endseq', 'startseq bathroom with bathtub shower bidet toilet and sink endseq']\n",
            "/content/train2014/COCO_train2014_000000072704 ['startseq black cat making an angry face while sitting on the bathroom floor endseq', 'startseq black cat sits next to laundry on the floor endseq', 'startseq black cat sitting next to dirty clothes on the bathroom floor endseq', 'startseq black cat sits on bathroom floor next to some laundry endseq', 'startseq cat sitting on bath rug next to pile of clothes endseq']\n",
            "/content/train2014/COCO_train2014_000000028149 ['startseq bathroom with tv near the mirror endseq', 'startseq television reflected off mirror near counter top endseq', 'startseq flat screen tv sits next to box of tissues and remote control endseq', 'startseq tv is behind glass in bathroom endseq', 'startseq hotel bathroom that has technology in the mirror endseq']\n",
            "/content/train2014/COCO_train2014_000000257263 ['startseq public restroom toilet has been photographed in sepia endseq', 'startseq restroom with the toilet in the corner endseq', 'startseq toilet is equipped with support bars for the disabled endseq', 'startseq bathroom toilet is surrounded with silver handrails endseq', 'startseq toilet paper on the floor below public toilet endseq']\n",
            "/content/train2014/COCO_train2014_000000520049 ['startseq photo of man riding an old styled bicycle near what appears to be the golden gate bridge endseq', 'startseq man rides bicycle across the river endseq', 'startseq man riding on very old version of personal bicycle endseq', 'startseq man on an oldfashioned bicycle biking across bridge endseq', 'startseq man in yellow coat rides an oldfashioned bicycle endseq']\n",
            "/content/train2014/COCO_train2014_000000503598 ['startseq there is some pet food in the floor in an empty kitchen endseq', 'startseq kitchen sink counter pots and dog dish endseq', 'startseq there is small kitchen with wooden cabinets and pet bowls on the floor endseq', 'startseq kitchen with pets food dishes on the floor endseq', 'startseq very clean kitchen with some animal food on the ground endseq']\n",
            "/content/train2014/COCO_train2014_000000230843 ['startseq young boy surfing in low waves endseq', 'startseq young boy is standing on surfboard and riding wave endseq', 'startseq surfer rides his surf board on some very small waves endseq', 'startseq young boy is standing on surfboard in the water endseq', 'startseq young boy is standing on surfboard in the ocean endseq']\n",
            "/content/train2014/COCO_train2014_000000231029 ['startseq the top of kitchen cabinet covered with brass pots and pans endseq', 'startseq kitchen with some old fashioned kitchen ware endseq', 'startseq kitchen with copper pots on pot racks and on the stove endseq', 'startseq restaurant kitchen with bowls and pans ready for the night endseq', 'startseq kitchen with several brass pots and pans on stove tops endseq']\n",
            "/content/train2014/COCO_train2014_000000174028 ['startseq woman is shaving her face while sitting on wooden bench endseq', 'startseq two girls sitting on bench eating lunch endseq', 'startseq girl demonstrating the act of shaving sitting on bench endseq', 'startseq girl trusts another girl to shave her while sitting back to back endseq', 'startseq two females sitting on bench one is being the arms for the other endseq']\n",
            "/content/train2014/COCO_train2014_000000480489 ['startseq the sky is full of colorful kites along mountain endseq', 'startseq large kite in the shape of the bottom half of woman endseq', 'startseq the parachutes fly through the sky next to each other endseq', 'startseq assorted decorations laying around on plastic tarp endseq', 'startseq plethora of kites flying in the sky next to some mountains endseq']\n",
            "/content/train2014/COCO_train2014_000000056972 ['startseq bathroom in white has cupboard above the sink endseq', 'startseq bathroom sink and cabinet featuring everything white endseq', 'startseq bathroom with sink cabinet mirror and picture endseq', 'startseq white pedestal sink below white cabinet in white bathroom endseq', 'startseq modern bathroom sink and wall deco is shown endseq']\n",
            "/content/train2014/COCO_train2014_000000187042 ['startseq bike and raft sit atop boat on the water endseq', 'startseq boat in the water with raft and bike loaded at one end of it endseq', 'startseq boat has raft and bicycle on it endseq', 'startseq the front of boat with raft and bicycle on it endseq', 'startseq small boat with raft and bike strapped to it in body of water endseq']\n",
            "/content/train2014/COCO_train2014_000000101891 ['startseq bicycles cars and trash can in garage endseq', 'startseq clutter blocks antique cars from leaving the garage endseq', 'startseq garage filled with old cards and old bicycles endseq', 'startseq some antique cars sit in garage with some bicycles endseq', 'startseq garage with bicycles cars and garbage can endseq']\n",
            "/content/train2014/COCO_train2014_000000090359 ['startseq man jumping his bicycle onto bench endseq', 'startseq man balancing bike on bench endseq', 'startseq man does trick on bike on bench endseq', 'startseq young man rides his bicycle on top of cement bench endseq', 'startseq man on bicycle performing tricks on bench endseq']\n",
            "/content/train2014/COCO_train2014_000000213532 ['startseq black and white image of two children paying attention endseq', 'startseq boy holding his arm around the shoulders of the girl sitting next to him endseq', 'startseq boy places his arm around friend endseq', 'startseq one kid has his arm wrapped around the other kid endseq', 'startseq two children sitting down one with his arm over the other endseq']\n",
            "/content/train2014/COCO_train2014_000000024091 ['startseq compact car with bicycles mounted on the roof endseq', 'startseq car with bunch of bicycles strapped to its roof endseq', 'startseq car with several bikes on bike rack endseq', 'startseq car is loaded down with many bicycles attached to its roof endseq', 'startseq car has multiple bikes hooked onto its roof endseq']\n",
            "/content/train2014/COCO_train2014_000000372427 ['startseq crisp neutral bathroom embellished with modern treatments endseq', 'startseq the toilet is next to curtained window endseq', 'startseq curtains hanging in bathroom window beside toilet endseq', 'startseq bathroom window reveals snowy day outside endseq', 'startseq tan bathroom with black curtains and towel endseq']\n",
            "/content/train2014/COCO_train2014_000000376047 ['startseq kitchen scene with stainless steel appliance and checkered pattern floor endseq', 'startseq kitchen with new age appliances and equipment endseq', 'startseq silver and white colored personal kitchen with yellow tiling endseq', 'startseq modern lighted kitchen with stainless steel appliances endseq', 'startseq picture of some appliances stove dishwasher refridgerator and microwave in kitchen endseq']\n",
            "/content/train2014/COCO_train2014_000000577876 ['startseq lady talking self portrait in fancy bathroom endseq', 'startseq woman takes selfie in front of restroom mirror endseq', 'startseq woman takes photo of her reflection in bathroom mirror endseq', 'startseq woman takes her picture in the mirror in the bathroom endseq', 'startseq woman taking self shot at an ornate mirror and sink endseq']\n",
            "/content/train2014/COCO_train2014_000000047093 ['startseq woman walking and talking on cell phone endseq', 'startseq female student is talking on her phone while walking endseq', 'startseq young woman walking down the street while talking on her cell phone endseq', 'startseq two young women walking while one is on cell phone endseq', 'startseq two young woman walking by fire hydrant one talking on cell endseq']\n",
            "/content/train2014/COCO_train2014_000000374873 ['startseq man on top of snowy mountain with skis endseq', 'startseq group of skiers stand atop snowy peak endseq', 'startseq group of skiers atop mountain looking over edge endseq', 'startseq man poses for picture on top of snowy hill endseq', 'startseq skiers are standing at the top of snowcovered mountain endseq']\n",
            "/content/train2014/COCO_train2014_000000360053 ['startseq stuffed animal is laying on the bed by window endseq', 'startseq white bear laying on bed with someones hand on the other side endseq', 'startseq white teddy bear is laying on bed in dimly lit room endseq', 'startseq teddy bear lying face down on bedspread covered mattress in front of window endseq', 'startseq bed with blue bed spread on it in front of window endseq']\n",
            "/content/train2014/COCO_train2014_000000517565 ['startseq wooden toilet seat sits open in an empty bathroom endseq', 'startseq bathroom with sink shower and toilette endseq', 'startseq bathroom with toilet and sink endseq', 'startseq bathroom shot of an open toilet and sink endseq', 'startseq an empty bathroom with the toilet seat up endseq']\n",
            "/content/train2014/COCO_train2014_000000543882 ['startseq decorated table covered with plates of food and vegetables endseq', 'startseq buffet of different types of food sitting on buffet table endseq', 'startseq buffet table at restaurant covered with food endseq', 'startseq the two banquet tables held variety of meats dips and pastries endseq', 'startseq display of many prepared food dishes arranged decoratively on serving table endseq']\n",
            "/content/train2014/COCO_train2014_000000038682 ['startseq picture of man riding bicycle at night endseq', 'startseq man with backpack rides bicycle endseq', 'startseq man using his bicycle to go down street endseq', 'startseq person with backpack on riding by on bike endseq', 'startseq man riding bike down the street at night endseq']\n",
            "/content/train2014/COCO_train2014_000000568117 ['startseq thee cats sleeping on bed with person endseq', 'startseq three cats sleeping with their owners on bed endseq', 'startseq three cats are sleeping on bed with person endseq', 'startseq person is sleeping on the same bed as three cats endseq', 'startseq two black cats nap as white cat lays on sleeping persons chest endseq']\n",
            "/content/train2014/COCO_train2014_000000186620 ['startseq young man playing game of frisbee endseq', 'startseq man extends his hand out to catch frisbee endseq', 'startseq man in courtyard reaches out to catch frisbee endseq', 'startseq college student playing frisbee on campus lawn endseq', 'startseq man has frisbee in mid air just out of his hand endseq']\n",
            "/content/train2014/COCO_train2014_000000004377 ['startseq group of people playing game of croquet endseq', 'startseq game of croquet is being played in back yard endseq', 'startseq two guys and girl playing croquet in the yard endseq', 'startseq group of four people playing croquet on lawn endseq', 'startseq group of friends enjoy game of croquet on grassy fenced in field endseq']\n",
            "/content/train2014/COCO_train2014_000000189278 ['startseq chef opens up an oven in kitchen endseq', 'startseq this is restaurant kitchen with two industrial ovens endseq', 'startseq there are two ovens in kitchen restaurant and one of them is being used endseq', 'startseq two ovens in use in professional kitchen endseq', 'startseq person standing in kitchen next to an oven endseq']\n",
            "/content/train2014/COCO_train2014_000000170045 ['startseq woman standing beside clean kitchen island endseq', 'startseq woman standing behind the island in the kitchen endseq', 'startseq woman making something in kitchen endseq', 'startseq woman stands in the kitchen surrounded by wood cabinets and stainless steel appliances endseq', 'startseq woman is standing at the island counter in kitchen endseq']\n",
            "/content/train2014/COCO_train2014_000000416172 ['startseq kitchen being prepared to get newly painted endseq', 'startseq the corner of an empty kitchen with cleaning products all over the counter endseq', 'startseq dirty kitchen with cleaning supplies placed allover the counters endseq', 'startseq an kitchen is being cleaned and decluttered endseq', 'startseq dirty kitchen that looks to be under construction endseq']\n",
            "/content/train2014/COCO_train2014_000000309517 ['startseq person standing in front of large body of water as the sun sets endseq', 'startseq the silhouette of person standing in front of sunset over water endseq', 'startseq person is standing in front of the ocean at sunset endseq', 'startseq dark profile of person set before sunset on the beach endseq', 'startseq man standing like shadow in front of the ocean endseq']\n",
            "/content/train2014/COCO_train2014_000000274682 ['startseq an empty bathroom with large mirror and sink endseq', 'startseq bathroom with two sinks and closet endseq', 'startseq white bathroom with walk in closet is shown endseq', 'startseq bathroom under construction with double sink vanity that has mirrir and light strip over it endseq', 'startseq master bedroom with closet and attached bathroom endseq']\n",
            "/content/train2014/COCO_train2014_000000480545 ['startseq set of stairs lead to toilet and cabinet in bathroom endseq', 'startseq the bathroom door next to the laundry room is open endseq', 'startseq through the door view of small white bathroom endseq', 'startseq small bathroom containing step toilette and sink endseq', 'startseq the bathroom has toilet sink tile floor and wooden panels on the outside endseq']\n",
            "/content/train2014/COCO_train2014_000000210082 ['startseq double doors open into bathroom with footed tub endseq', 'startseq freestanding bathroom near an open door and table endseq', 'startseq bathroom scene with open double doors double sinks and bathtub endseq', 'startseq bathroom with the door open and tub endseq', 'startseq there is an asian inspired bathroom with double doors endseq']\n",
            "/content/train2014/COCO_train2014_000000474031 ['startseq an empty kitchen has walls painted white endseq', 'startseq kitchen area with microwave and refrigerator endseq', 'startseq house with white decorated kitchen endseq', 'startseq large kitchen featuring counter top and refrigerator endseq', 'startseq large kitchen decorated with white flowers and books endseq']\n",
            "/content/train2014/COCO_train2014_000000429065 ['startseq colorful tent is stationed on bike lane endseq', 'startseq biker rides through tent in bike lane endseq', 'startseq multicolored kiosk for cyclists in city endseq', 'startseq colorful tent on street is stop for bicyclists endseq', 'startseq shelter area for people on bicycles to warm up from the cold endseq']\n",
            "/content/train2014/COCO_train2014_000000002448 ['startseq two kitchen stools sitting in front of an island in kitchen endseq', 'startseq kitchen counter with chairs refrigerator and cupboards endseq', 'startseq picture of kitchen area with refrigerator and stove endseq', 'startseq kitchen with refrigerator oven and counter endseq', 'startseq very clean kitchen with the light on endseq']\n",
            "/content/train2014/COCO_train2014_000000161749 ['startseq two dogs stand in kitchen beneath their owner endseq', 'startseq two stands standing on the floor by their owners legs endseq', 'startseq two dogs with woman in the kitchen endseq', 'startseq photo on kitchen floor with persons legs and two dogs endseq', 'startseq person standing in the kitchen with two dogs at their feet endseq']\n",
            "/content/train2014/COCO_train2014_000000435091 ['startseq woman smiles at man who is wearing colorful sarong endseq', 'startseq man and woman with group of scissors on table endseq', 'startseq shirtless man wearing pink towel in the kitchen with woman drinking wine endseq', 'startseq man dressed in wrap in personal kitchen endseq', 'startseq man in pink sarong showing scissors to woman with wine endseq']\n",
            "/content/train2014/COCO_train2014_000000385626 ['startseq woman riding bicycle down an empty street endseq', 'startseq woman in green is riding bike endseq', 'startseq woman wearing bright green sweater riding bicycle endseq', 'startseq woman on bicycle is going down the small town street endseq', 'startseq woman bikes down one way street endseq']\n",
            "/content/train2014/COCO_train2014_000000180141 ['startseq family sits at table together enjoying each others company endseq', 'startseq family is playing karaoke video game endseq', 'startseq family watches while two boys play singing game endseq', 'startseq family watches two boys singing into microphones endseq', 'startseq kids and their moms are singing karaoke at the table endseq']\n",
            "/content/train2014/COCO_train2014_000000330238 ['startseq crowd of skiers prepare to ski down snow covered slopes endseq', 'startseq many skiiers are gathered at the base of hill while several travel down it endseq', 'startseq hikers climb up snowcovered mountain in the winter endseq', 'startseq skiers of all ages skiing down slope and gathering at the bottom endseq', 'startseq group of people are skiing on mountain endseq']\n",
            "/content/train2014/COCO_train2014_000000499237 ['startseq towels are neatly stacked on shelf in the bathroom endseq', 'startseq table with towels on top of it placed under mirror endseq', 'startseq bathroom vanity with towels folded under the sink endseq', 'startseq pedestal sink with vanity sits below mirror endseq', 'startseq towels stored under bathroom sink with glass countertop endseq']\n",
            "/content/train2014/COCO_train2014_000000466800 ['startseq view of fancy spa like bathroom with blue tiled tub endseq', 'startseq different types of tiles are on the walls floor and tub endseq', 'startseq large modern bathroom with jacuzzi in house endseq', 'startseq modern bathtub in bathroom is displayed endseq', 'startseq nice bathroom with standalone shower and shower curtain endseq']\n",
            "/content/train2014/COCO_train2014_000000279939 ['startseq bathroom contains toilet sink and bathtub endseq', 'startseq the white bathroom has orange blue and gray accents endseq', 'startseq small bathroom with white toilette and bath tub endseq', 'startseq bathroom with toilet and bowl for sink endseq', 'startseq bathroom with toilet sink and bathtub endseq']\n",
            "/content/train2014/COCO_train2014_000000526165 ['startseq loving couple pose together behind fruitadorned cake endseq', 'startseq an older woman preparing to blow out the candle on her birthday cake standing besides an older man endseq', 'startseq married couple posing in front of piece of birthday cake endseq', 'startseq man and woman smiling in front of cake endseq', 'startseq man and woman celebrating special occasion about to blow out candle endseq']\n",
            "/content/train2014/COCO_train2014_000000334790 ['startseq young man jumping his skate board over cement seating area endseq', 'startseq boy riding skateboard and doing trick in air endseq', 'startseq man in blue shirt and jeans doing trick on skateboard endseq', 'startseq skateboarder is airborne as he does trick endseq', 'startseq young man performing trick on skateboard endseq']\n",
            "/content/train2014/COCO_train2014_000000014750 ['startseq bicycle with basket is parked at the side of building endseq', 'startseq bicycle leaning against building near window endseq', 'startseq bicycle parked against the side of stone house endseq', 'startseq bicycle leaning against an old white building endseq', 'startseq bicycle is parked up against white stucco building endseq']\n",
            "/content/train2014/COCO_train2014_000000573518 ['startseq black colored keyboard for computer system endseq', 'startseq black computer keyboard with lcd panel and numeric pad endseq', 'startseq wireless keyboard compatible with role playing games endseq', 'startseq computer keyboard with black keys and white lettering endseq', 'startseq black computer keyboard with bunch of keys on it endseq']\n",
            "/content/train2014/COCO_train2014_000000253464 ['startseq mid sized bathroom with toilette shower and vanity mirror above sink endseq', 'startseq very clean bathroom with the lights on endseq', 'startseq the yellow flowers sits atop the counter in clean bathroom endseq', 'startseq very clean bathroom is shown with wood cabinets endseq', 'startseq bathroom has green and white striped shower curtain endseq']\n",
            "/content/train2014/COCO_train2014_000000291827 ['startseq two boys with surf boards walking out into the ocean endseq', 'startseq surfers waiting for the right wave to ride endseq', 'startseq guys on their way to surfboard at the beach endseq', 'startseq people with surf boards going into the ocean endseq', 'startseq group of surfers wade into the sea endseq']\n",
            "/content/train2014/COCO_train2014_000000478007 ['startseq bathroom sink and counter with large mirror above it endseq', 'startseq wood bathroom vanity with granite countertop endseq', 'startseq this is bathroom sink in hotel endseq', 'startseq an indoor bathroom with reflective marble counter tops endseq', 'startseq hotel room bathroom sink and tissue dispenser endseq']\n",
            "/content/train2014/COCO_train2014_000000461221 ['startseq kitchen with over stove and toaster oven including microwave endseq', 'startseq kitchen with sink stove and white cabinet endseq', 'startseq kitchen cupboard in kitchen with stove and sink endseq', 'startseq large kitchen cabinet or pantry in small kitchen endseq', 'startseq small clean kitchen with large white cupboard endseq']\n",
            "/content/train2014/COCO_train2014_000000416909 ['startseq an un occupied bathroom with shower toilette and sink endseq', 'startseq clean bathroom with sink toilet and shower endseq', 'startseq small bathroom showing the sink and toilet area endseq', 'startseq door leading to bathroom with sink visible endseq', 'startseq door opening to bathroom with orange shades and matching rug endseq']\n",
            "/content/train2014/COCO_train2014_000000377955 ['startseq silver car parked in shopping center parking lot endseq', 'startseq car is parked in empty parking lot endseq', 'startseq the shopping plaza has many stores and one parked car endseq', 'startseq silver sedan is parked in plaza lot on cloudy day endseq', 'startseq small strip mall with few cars in the parking lot endseq']\n",
            "/content/train2014/COCO_train2014_000000550126 ['startseq bathroom with close shower curtain next to toilette endseq', 'startseq white shower curtain with spiral pattern hanging in the bathroom endseq', 'startseq bathroom with toilet bowl and shower curtain endseq', 'startseq bathroom has large shower curtain with design endseq', 'startseq closed shower curtain in tiled bathroom endseq']\n",
            "/content/train2014/COCO_train2014_000000194698 ['startseq small dog cradled in his loving owners arm as he falls asleep endseq', 'startseq person holding chihuahua sleeping on its back in their arm endseq', 'startseq person holding small sleeping dog in their arms endseq', 'startseq little dog is laying on mans arm endseq', 'startseq small dog taking nap on the arm of person endseq']\n",
            "/content/train2014/COCO_train2014_000000579846 ['startseq nearly empty house with bicycle mounted on the wall endseq', 'startseq hall opening onto bathroom bedroom and two other rooms endseq', 'startseq view of hallway in house endseq', 'startseq there is hallway leading to door where bicycle tires are showing endseq', 'startseq house hallway with all the bedroom doors open endseq']\n",
            "/content/train2014/COCO_train2014_000000009469 ['startseq teenage boy is in field looking at wire endseq', 'startseq the boy is inspecting the wire for project endseq', 'startseq young guy checking on wire as he holds onto dog leash endseq', 'startseq boy is outside with his dog in field surrounded by sign and other items endseq', 'startseq boy building something with wires and poles endseq']\n",
            "/content/train2014/COCO_train2014_000000348595 ['startseq man in parade has red and white face and umbrella endseq', 'startseq young person with red and white face paint holds an umbrella endseq', 'startseq soccer fan is showing his support by dressing up endseq', 'startseq man with painted red and white face is standing in the street endseq', 'startseq person with their face painted standing in the street endseq']\n",
            "/content/train2014/COCO_train2014_000000079143 ['startseq small bathroom has separate tub and shower endseq', 'startseq spacious bathroom with fancy bathtub and sink endseq', 'startseq bathroom is lit by light over sink endseq', 'startseq light is on in an empty clean bathroom endseq', 'startseq shiny bathroom has an old fashioned bathtub and gold walls endseq']\n",
            "/content/train2014/COCO_train2014_000000346909 ['startseq two dogs are laying down next to each other endseq', 'startseq two dogs were captured in photo with the lighting of the image altered endseq', 'startseq two dogs sitting one the ground looking at something endseq', 'startseq two dogs are resting together on the floor endseq', 'startseq two doge have their paws out in an overexposed picture endseq']\n",
            "/content/train2014/COCO_train2014_000000351191 ['startseq woman crossing city street while carrying groceries endseq', 'startseq shopper crossing street in the downtown of city endseq', 'startseq person crossing at crosswalk with bags in his hands endseq', 'startseq city street scene with cars and person crossing the street endseq', 'startseq man is crossing city intersection carrying bags endseq']\n",
            "/content/train2014/COCO_train2014_000000165350 ['startseq group of bike riders race down busy street endseq', 'startseq group of bikers round turn on road endseq', 'startseq cyclists competing in race round corner endseq', 'startseq peleton of cyclists leaning into turn endseq', 'startseq multiple cyclists riding their bikes on the street endseq']\n",
            "/content/train2014/COCO_train2014_000000549575 ['startseq kitchen filled with many cupboards and lots of counter space endseq', 'startseq an empty and very clean white and tan kitchen endseq', 'startseq unused kitchen stove sink and counter topsand cabinettes endseq', 'startseq clean kitchen that is empty and white endseq', 'startseq an unfurnished kitchen in tropical house hold endseq']\n"
          ],
          "name": "stdout"
        }
      ]
    },
    {
      "cell_type": "code",
      "metadata": {
        "id": "5DWCyUOqL5Ca",
        "outputId": "2bd6bd1c-2267-4948-c409-059e3d16acae",
        "colab": {
          "base_uri": "https://localhost:8080/",
          "height": 36
        }
      },
      "source": [
        "pics2"
      ],
      "execution_count": null,
      "outputs": [
        {
          "output_type": "execute_result",
          "data": {
            "text/plain": [
              "defaultdict(None, {})"
            ]
          },
          "metadata": {
            "tags": []
          },
          "execution_count": 46
        }
      ]
    },
    {
      "cell_type": "code",
      "metadata": {
        "id": "GwmDS8MiITjx",
        "outputId": "58ae0bfd-a755-4d13-e0c8-20f22db47113",
        "colab": {
          "base_uri": "https://localhost:8080/",
          "height": 1000
        }
      },
      "source": [
        "pics_pkl"
      ],
      "execution_count": null,
      "outputs": [
        {
          "output_type": "execute_result",
          "data": {
            "text/plain": [
              "defaultdict(None,\n",
              "            {'COCO_train2014_000000002448': 'two kitchen stools sitting in front of an island in kitchen',\n",
              "             'COCO_train2014_000000004377': 'group of people playing game of croquet',\n",
              "             'COCO_train2014_000000009469': 'teenage boy is in field looking at wire',\n",
              "             'COCO_train2014_000000014750': 'bicycle with basket is parked at the side of building',\n",
              "             'COCO_train2014_000000018691': 'few people sit on dim transportation system',\n",
              "             'COCO_train2014_000000024091': 'compact car with bicycles mounted on the roof',\n",
              "             'COCO_train2014_000000025470': 'kitchen with brown cabinets tile backsplash and grey counters',\n",
              "             'COCO_train2014_000000028149': 'bathroom with tv near the mirror',\n",
              "             'COCO_train2014_000000028231': 'black car is near someone riding bike',\n",
              "             'COCO_train2014_000000031813': 'surfer riding his bike to the beach',\n",
              "             'COCO_train2014_000000032275': 'the vanity contains two sinks with towel for each',\n",
              "             'COCO_train2014_000000038682': 'picture of man riding bicycle at night',\n",
              "             'COCO_train2014_000000044816': 'clean bathroom that is brightly colored and has window',\n",
              "             'COCO_train2014_000000047093': 'woman walking and talking on cell phone',\n",
              "             'COCO_train2014_000000056972': 'bathroom in white has cupboard above the sink',\n",
              "             'COCO_train2014_000000072704': 'black cat making an angry face while sitting on the bathroom floor',\n",
              "             'COCO_train2014_000000079143': 'small bathroom has separate tub and shower',\n",
              "             'COCO_train2014_000000090359': 'man jumping his bicycle onto bench',\n",
              "             'COCO_train2014_000000101891': 'bicycles cars and trash can in garage',\n",
              "             'COCO_train2014_000000116100': 'panoramic view of kitchen and all of its appliances',\n",
              "             'COCO_train2014_000000122802': 'man standing in kitchen with granite countertops',\n",
              "             'COCO_train2014_000000124567': 'cat stuck in car with slightly opened window',\n",
              "             'COCO_train2014_000000134754': 'the two people are walking down the beach',\n",
              "             'COCO_train2014_000000161657': 'modern bathroom contains many glass and tile pieces',\n",
              "             'COCO_train2014_000000161749': 'two dogs stand in kitchen beneath their owner',\n",
              "             'COCO_train2014_000000165350': 'group of bike riders race down busy street',\n",
              "             'COCO_train2014_000000170045': 'woman standing beside clean kitchen island',\n",
              "             'COCO_train2014_000000174028': 'woman is shaving her face while sitting on wooden bench',\n",
              "             'COCO_train2014_000000180141': 'family sits at table together enjoying each others company',\n",
              "             'COCO_train2014_000000186620': 'young man playing game of frisbee',\n",
              "             'COCO_train2014_000000187042': 'bike and raft sit atop boat on the water',\n",
              "             'COCO_train2014_000000189278': 'chef opens up an oven in kitchen',\n",
              "             'COCO_train2014_000000194698': 'small dog cradled in his loving owners arm as he falls asleep',\n",
              "             'COCO_train2014_000000210082': 'double doors open into bathroom with footed tub',\n",
              "             'COCO_train2014_000000213532': 'black and white image of two children paying attention',\n",
              "             'COCO_train2014_000000226658': 'two women preparing food in kitchen one at the sink and one at the table',\n",
              "             'COCO_train2014_000000230843': 'young boy surfing in low waves',\n",
              "             'COCO_train2014_000000231029': 'the top of kitchen cabinet covered with brass pots and pans',\n",
              "             'COCO_train2014_000000253464': 'mid sized bathroom with toilette shower and vanity mirror above sink',\n",
              "             'COCO_train2014_000000257263': 'public restroom toilet has been photographed in sepia',\n",
              "             'COCO_train2014_000000266366': 'the bathroom with toilet has an interesting sink',\n",
              "             'COCO_train2014_000000274682': 'an empty bathroom with large mirror and sink',\n",
              "             'COCO_train2014_000000279672': 'an herb that is in front of toaster oven',\n",
              "             'COCO_train2014_000000279939': 'bathroom contains toilet sink and bathtub',\n",
              "             'COCO_train2014_000000285579': 'person protected from the rain by their umbrella walks down the road',\n",
              "             'COCO_train2014_000000291827': 'two boys with surf boards walking out into the ocean',\n",
              "             'COCO_train2014_000000293605': 'two bicycles and woman walking in front of shop',\n",
              "             'COCO_train2014_000000299675': 'white square kitchen with tile floor that needs repairs',\n",
              "             'COCO_train2014_000000302443': 'several metal balls sit in the sand near group of people',\n",
              "             'COCO_train2014_000000309517': 'person standing in front of large body of water as the sun sets',\n",
              "             'COCO_train2014_000000314265': 'toilet sink bathtub with shower mirror and cabinet',\n",
              "             'COCO_train2014_000000318556': 'very clean and well decorated empty bathroom',\n",
              "             'COCO_train2014_000000321194': 'green tiled backsplash highlighted by low overhead lighting',\n",
              "             'COCO_train2014_000000330238': 'crowd of skiers prepare to ski down snow covered slopes',\n",
              "             'COCO_train2014_000000334790': 'young man jumping his skate board over cement seating area',\n",
              "             'COCO_train2014_000000346909': 'two dogs are laying down next to each other',\n",
              "             'COCO_train2014_000000348595': 'man in parade has red and white face and umbrella',\n",
              "             'COCO_train2014_000000350235': 'this is pickup game of shirts and skins basketball',\n",
              "             'COCO_train2014_000000351191': 'woman crossing city street while carrying groceries',\n",
              "             'COCO_train2014_000000360053': 'stuffed animal is laying on the bed by window',\n",
              "             'COCO_train2014_000000360306': 'man working at kitchen counter in room illuminated by sunlight',\n",
              "             'COCO_train2014_000000360334': 'man standing in the kitchen with his arms crossed',\n",
              "             'COCO_train2014_000000372427': 'crisp neutral bathroom embellished with modern treatments',\n",
              "             'COCO_train2014_000000374873': 'man on top of snowy mountain with skis',\n",
              "             'COCO_train2014_000000376047': 'kitchen scene with stainless steel appliance and checkered pattern floor',\n",
              "             'COCO_train2014_000000377955': 'silver car parked in shopping center parking lot',\n",
              "             'COCO_train2014_000000379340': 'graffitied stop sign across the street from red car',\n",
              "             'COCO_train2014_000000385626': 'woman riding bicycle down an empty street',\n",
              "             'COCO_train2014_000000385716': 'lady carrying purse walking along side man',\n",
              "             'COCO_train2014_000000389006': 'kitchen with countertop that includes an apple phone',\n",
              "             'COCO_train2014_000000416172': 'kitchen being prepared to get newly painted',\n",
              "             'COCO_train2014_000000416909': 'an un occupied bathroom with shower toilette and sink',\n",
              "             'COCO_train2014_000000429065': 'colorful tent is stationed on bike lane',\n",
              "             'COCO_train2014_000000435091': 'woman smiles at man who is wearing colorful sarong',\n",
              "             'COCO_train2014_000000461221': 'kitchen with over stove and toaster oven including microwave',\n",
              "             'COCO_train2014_000000465049': 'closeup of red fire hydrant including the chains',\n",
              "             'COCO_train2014_000000466800': 'view of fancy spa like bathroom with blue tiled tub',\n",
              "             'COCO_train2014_000000474031': 'an empty kitchen has walls painted white',\n",
              "             'COCO_train2014_000000476220': 'an empty kitchen with white and black appliances',\n",
              "             'COCO_train2014_000000478007': 'bathroom sink and counter with large mirror above it',\n",
              "             'COCO_train2014_000000479495': 'bicycle is parked by bench at night',\n",
              "             'COCO_train2014_000000480489': 'the sky is full of colorful kites along mountain',\n",
              "             'COCO_train2014_000000480545': 'set of stairs lead to toilet and cabinet in bathroom',\n",
              "             'COCO_train2014_000000499237': 'towels are neatly stacked on shelf in the bathroom',\n",
              "             'COCO_train2014_000000503598': 'there is some pet food in the floor in an empty kitchen',\n",
              "             'COCO_train2014_000000513461': 'surfer woman and child walk on the beach',\n",
              "             'COCO_train2014_000000515040': 'seagulls flying overhead while trucks sit in parking lot',\n",
              "             'COCO_train2014_000000517565': 'wooden toilet seat sits open in an empty bathroom',\n",
              "             'COCO_train2014_000000520049': 'photo of man riding an old styled bicycle near what appears to be the golden gate bridge',\n",
              "             'COCO_train2014_000000524679': 'purple bus and man dressed as nun on tall bicycle',\n",
              "             'COCO_train2014_000000526165': 'loving couple pose together behind fruitadorned cake',\n",
              "             'COCO_train2014_000000538480': 'sink and toilet inside small bathroom',\n",
              "             'COCO_train2014_000000539984': 'brown horse is grazing grass near red house',\n",
              "             'COCO_train2014_000000543882': 'decorated table covered with plates of food and vegetables',\n",
              "             'COCO_train2014_000000549575': 'kitchen filled with many cupboards and lots of counter space',\n",
              "             'COCO_train2014_000000550126': 'bathroom with close shower curtain next to toilette',\n",
              "             'COCO_train2014_000000568117': 'thee cats sleeping on bed with person',\n",
              "             'COCO_train2014_000000573518': 'black colored keyboard for computer system',\n",
              "             'COCO_train2014_000000577876': 'lady talking self portrait in fancy bathroom',\n",
              "             'COCO_train2014_000000579846': 'nearly empty house with bicycle mounted on the wall'})"
            ]
          },
          "metadata": {
            "tags": []
          },
          "execution_count": 21
        }
      ]
    },
    {
      "cell_type": "code",
      "metadata": {
        "id": "rQTi4rVHYM13"
      },
      "source": [
        "with open('/content/pics_data2.pkl', 'wb') as file:\n",
        "     pickle.dump(pics_pkl, file)"
      ],
      "execution_count": null,
      "outputs": []
    },
    {
      "cell_type": "code",
      "metadata": {
        "id": "FlAhrf2O1XfC",
        "outputId": "383d9352-ffb2-40ba-b963-e2beefa73be9",
        "colab": {
          "base_uri": "https://localhost:8080/",
          "height": 428
        }
      },
      "source": [
        "!zip -r /content/img_epochs.zip /content/img_epochs"
      ],
      "execution_count": null,
      "outputs": [
        {
          "output_type": "stream",
          "text": [
            "  adding: content/img_epochs/ (stored 0%)\n",
            "  adding: content/img_epochs/COCO_train2014_000000508723.jpg.jpg (deflated 0%)\n",
            "  adding: content/img_epochs/COCO_train2014_000000477150.jpg.jpg (deflated 0%)\n",
            "  adding: content/img_epochs/COCO_train2014_000000046893.jpg.jpg (deflated 0%)\n",
            "  adding: content/img_epochs/COCO_train2014_000000549575.jpg (deflated 0%)\n",
            "  adding: content/img_epochs/COCO_train2014_000000018395.jpg.jpg (deflated 10%)\n",
            "  adding: content/img_epochs/COCO_train2014_000000026944.jpg.jpg (deflated 1%)\n",
            "  adding: content/img_epochs/COCO_train2014_000000413970.jpg.jpg (deflated 0%)\n",
            "  adding: content/img_epochs/COCO_train2014_000000305600.jpg.jpg (deflated 1%)\n",
            "  adding: content/img_epochs/COCO_train2014_000000562217.jpg.jpg (deflated 0%)\n",
            "  adding: content/img_epochs/COCO_train2014_000000365659.jpg.jpg (deflated 0%)\n",
            "  adding: content/img_epochs/COCO_train2014_000000560691.jpg.jpg (deflated 0%)\n",
            "  adding: content/img_epochs/COCO_train2014_000000558771.jpg.jpg (deflated 0%)\n",
            "  adding: content/img_epochs/COCO_train2014_000000404997.jpg.jpg (deflated 1%)\n",
            "  adding: content/img_epochs/COCO_train2014_000000480644.jpg.jpg (deflated 1%)\n",
            "  adding: content/img_epochs/COCO_train2014_000000373219.jpg.jpg (deflated 0%)\n",
            "  adding: content/img_epochs/COCO_train2014_000000282669.jpg.jpg (deflated 0%)\n",
            "  adding: content/img_epochs/COCO_train2014_000000128127.jpg.jpg (deflated 0%)\n",
            "  adding: content/img_epochs/COCO_train2014_000000458763.jpg.jpg (deflated 1%)\n",
            "  adding: content/img_epochs/COCO_train2014_000000520112.jpg.jpg (deflated 1%)\n",
            "  adding: content/img_epochs/COCO_train2014_000000257575.jpg.jpg (deflated 1%)\n",
            "  adding: content/img_epochs/COCO_train2014_000000308083.jpg.jpg (deflated 0%)\n"
          ],
          "name": "stdout"
        }
      ]
    },
    {
      "cell_type": "code",
      "metadata": {
        "id": "s-rDNTj7I-UC",
        "outputId": "be57ac2a-9478-4e12-a1d3-f428526ab9fa",
        "colab": {
          "base_uri": "https://localhost:8080/",
          "height": 17
        }
      },
      "source": [
        "from google.colab import files\n",
        "files.download('/content/img_epochs.zip')"
      ],
      "execution_count": null,
      "outputs": [
        {
          "output_type": "display_data",
          "data": {
            "application/javascript": [
              "\n",
              "    async function download(id, filename, size) {\n",
              "      if (!google.colab.kernel.accessAllowed) {\n",
              "        return;\n",
              "      }\n",
              "      const div = document.createElement('div');\n",
              "      const label = document.createElement('label');\n",
              "      label.textContent = `Downloading \"${filename}\": `;\n",
              "      div.appendChild(label);\n",
              "      const progress = document.createElement('progress');\n",
              "      progress.max = size;\n",
              "      div.appendChild(progress);\n",
              "      document.body.appendChild(div);\n",
              "\n",
              "      const buffers = [];\n",
              "      let downloaded = 0;\n",
              "\n",
              "      const channel = await google.colab.kernel.comms.open(id);\n",
              "      // Send a message to notify the kernel that we're ready.\n",
              "      channel.send({})\n",
              "\n",
              "      for await (const message of channel.messages) {\n",
              "        // Send a message to notify the kernel that we're ready.\n",
              "        channel.send({})\n",
              "        if (message.buffers) {\n",
              "          for (const buffer of message.buffers) {\n",
              "            buffers.push(buffer);\n",
              "            downloaded += buffer.byteLength;\n",
              "            progress.value = downloaded;\n",
              "          }\n",
              "        }\n",
              "      }\n",
              "      const blob = new Blob(buffers, {type: 'application/binary'});\n",
              "      const a = document.createElement('a');\n",
              "      a.href = window.URL.createObjectURL(blob);\n",
              "      a.download = filename;\n",
              "      div.appendChild(a);\n",
              "      a.click();\n",
              "      div.remove();\n",
              "    }\n",
              "  "
            ],
            "text/plain": [
              "<IPython.core.display.Javascript object>"
            ]
          },
          "metadata": {
            "tags": []
          }
        },
        {
          "output_type": "display_data",
          "data": {
            "application/javascript": [
              "download(\"download_aea97ba1-07eb-45e8-9860-3ec39b3ca468\", \"img_epochs.zip\", 1052635)"
            ],
            "text/plain": [
              "<IPython.core.display.Javascript object>"
            ]
          },
          "metadata": {
            "tags": []
          }
        }
      ]
    }
  ]
}